{
  "cells": [
    {
      "cell_type": "markdown",
      "metadata": {
        "id": "view-in-github",
        "colab_type": "text"
      },
      "source": [
        "<a href=\"https://colab.research.google.com/github/MacKumachin/Clifford-FBSM-SignalControl/blob/main/Clifford_FBSM_Simulation.ipynb\" target=\"_parent\"><img src=\"https://colab.research.google.com/assets/colab-badge.svg\" alt=\"Open In Colab\"/></a>"
      ]
    },
    {
      "cell_type": "markdown",
      "id": "6d321d89",
      "metadata": {
        "id": "6d321d89"
      },
      "source": [
        "# 🧠 Clifford Signal Field Simulation via FBSM\n",
        "This notebook performs optimal control of a Clifford-valued signal field using the Forward–Backward Sweep Method (FBSM), visualizes its rank, entropy, and curvature over time."
      ]
    },
    {
      "cell_type": "code",
      "source": [
        "'.config', '__pycache__', '.ipynb_checkpoints',\n",
        "'CliffordTimeSeriesPlots.py', 'FBSM_optimizer.py',\n",
        "'CliffordDynamics.py', 'CliffordTensor.py',\n",
        "'main_clifford_fbsbm_driver.py', 'sample_data'\n"
      ],
      "metadata": {
        "colab": {
          "base_uri": "https://localhost:8080/"
        },
        "id": "pCInG8wIrQqH",
        "outputId": "6c61d20c-d775-4308-f61b-15f3933eea0d"
      },
      "id": "pCInG8wIrQqH",
      "execution_count": 1,
      "outputs": [
        {
          "output_type": "execute_result",
          "data": {
            "text/plain": [
              "('main_clifford_fbsbm_driver.py', 'sample_data')"
            ]
          },
          "metadata": {},
          "execution_count": 1
        }
      ]
    },
    {
      "cell_type": "code",
      "source": [
        "# === Upload 4 arrays (any names) -> value-based auto classification -> ECDF PDFs ===\n",
        "import os, numpy as np, matplotlib; matplotlib.use(\"Agg\")\n",
        "import matplotlib.pyplot as plt\n",
        "from google.colab import files\n",
        "\n",
        "OUTDIR=\"analysis_out\"; os.makedirs(OUTDIR, exist_ok=True)\n",
        "\n",
        "def load_any(p):\n",
        "    ext = os.path.splitext(p)[1].lower()\n",
        "    if ext==\".npy\": return np.asarray(np.load(p, allow_pickle=False)).ravel()\n",
        "    if ext==\".npz\":\n",
        "        z=np.load(p, allow_pickle=True)\n",
        "        # 最大の配列を採用\n",
        "        best=None; n=-1\n",
        "        for k in z.files:\n",
        "            a=np.asarray(z[k]).ravel()\n",
        "            if a.size>n: best=a; n=a.size\n",
        "        return best\n",
        "    if ext in [\".txt\",\".csv\"]:\n",
        "        try: a=np.loadtxt(p, delimiter=\",\" if ext==\".csv\" else None)\n",
        "        except: a=np.genfromtxt(p, delimiter=\",\" if ext==\".csv\" else None)\n",
        "        return np.asarray(a).ravel()\n",
        "    raise ValueError(\"Unsupported format:\"+p)\n",
        "\n",
        "def ecdf_pdf(x,y,xlabel,out_pdf):\n",
        "    x=np.clip(np.asarray(x).ravel(),0,None)\n",
        "    y=np.clip(np.asarray(y).ravel(),0,None)\n",
        "    sx,px=np.sort(x),np.linspace(0,1,len(x),endpoint=True)\n",
        "    sy,py=np.sort(y),np.linspace(0,1,len(y),endpoint=True)\n",
        "    plt.figure(figsize=(6,4.5))\n",
        "    plt.step(sx,px,where=\"post\",label=\"Baseline\")\n",
        "    plt.step(sy,py,where=\"post\",label=\"Control\")\n",
        "    plt.xlabel(xlabel); plt.ylabel(\"ECDF\"); plt.legend()\n",
        "    plt.tight_layout(); plt.savefig(out_pdf,bbox_inches=\"tight\"); plt.close()\n",
        "\n",
        "print(\"4つの配列ファイルを選択（length×2, curvature×2）。拡張子は .npy/.npz/.txt/.csv いずれでもOK。\")\n",
        "up = files.upload()\n",
        "if len(up)<4:\n",
        "    raise RuntimeError(\"4ファイルアップロードしてください。\")\n",
        "\n",
        "# 値域で length/curvature を自動判別、meanで base/ctrl を推定（lengthはmean大→control, curvatureはmean小→control）\n",
        "arrs=[]\n",
        "for fn in up.keys():\n",
        "    a=load_any(fn); a=a[np.isfinite(a)]\n",
        "    arrs.append((fn,a, float(np.mean(a)), float(np.percentile(a,95)), float(np.max(a))))\n",
        "arrs.sort(key=lambda t:t[2])  # だいたい小さい=curvature, 大きい=length\n",
        "\n",
        "# 下位2つ→curvature, 上位2つ→length\n",
        "curA, curB = arrs[0], arrs[1]\n",
        "lenA, lenB = arrs[2], arrs[3]\n",
        "\n",
        "# base/ctrl 推定\n",
        "cur_base, cur_ctrl = (curB, curA) if curA[2] <= curB[2] else (curA, curB)   # mean小さい方=control\n",
        "len_base, len_ctrl = (lenA, lenB) if lenA[2] <= lenB[2] else (lenB, lenA)   # mean大きい方=control\n",
        "\n",
        "print(\"\\n自動割当（要確認）:\")\n",
        "print(\"  Length  baseline:\", len_base[0], \" control:\", len_ctrl[0])\n",
        "print(\"  Curv.   baseline:\", cur_base[0], \" control:\", cur_ctrl[0])\n",
        "\n",
        "# 生成\n",
        "len_pdf=os.path.join(OUTDIR,\"fig_ecdf_length.pdf\")\n",
        "cur_pdf=os.path.join(OUTDIR,\"fig_ecdf_curvature.pdf\")\n",
        "ecdf_pdf(len_base[1], len_ctrl[1], \"Streamline length (mm)\", len_pdf)\n",
        "ecdf_pdf(cur_base[1], cur_ctrl[1], \"Streamline curvature (1/mm)\", cur_pdf)\n",
        "\n",
        "with open(os.path.join(OUTDIR,\"fig_snippet_len_curv.tex\"),\"w\") as f:\n",
        "    f.write(r\"\"\"\\begin{figure}[t]\n",
        "  \\centering\n",
        "  \\includegraphics[width=0.48\\linewidth]{fig_ecdf_length.pdf}\\hfill\n",
        "  \\includegraphics[width=0.48\\linewidth]{fig_ecdf_curvature.pdf}\n",
        "  \\caption{Distributional comparison (ECDF) of streamline length and curvature: baseline vs.\\ delayed control.}\n",
        "  \\label{fig:ecdf_len_curv}\n",
        "\\end{figure}\n",
        "\"\"\")\n",
        "\n",
        "print(\"\\nSaved:\")\n",
        "print(\" -\", len_pdf)\n",
        "print(\" -\", cur_pdf)\n",
        "print(\" -\", os.path.join(OUTDIR,\"fig_snippet_len_curv.tex\"))\n"
      ],
      "metadata": {
        "colab": {
          "base_uri": "https://localhost:8080/",
          "height": 306
        },
        "id": "oP-_ah7JkrIP",
        "outputId": "45651e4e-d403-4ced-bc76-c5643c80bf5b"
      },
      "id": "oP-_ah7JkrIP",
      "execution_count": 3,
      "outputs": [
        {
          "output_type": "stream",
          "name": "stdout",
          "text": [
            "4つの配列ファイルを選択（length×2, curvature×2）。拡張子は .npy/.npz/.txt/.csv いずれでもOK。\n"
          ]
        },
        {
          "output_type": "display_data",
          "data": {
            "text/plain": [
              "<IPython.core.display.HTML object>"
            ],
            "text/html": [
              "\n",
              "     <input type=\"file\" id=\"files-c7fcadc9-a498-478b-bdfd-6f224a59c470\" name=\"files[]\" multiple disabled\n",
              "        style=\"border:none\" />\n",
              "     <output id=\"result-c7fcadc9-a498-478b-bdfd-6f224a59c470\">\n",
              "      Upload widget is only available when the cell has been executed in the\n",
              "      current browser session. Please rerun this cell to enable.\n",
              "      </output>\n",
              "      <script>// Copyright 2017 Google LLC\n",
              "//\n",
              "// Licensed under the Apache License, Version 2.0 (the \"License\");\n",
              "// you may not use this file except in compliance with the License.\n",
              "// You may obtain a copy of the License at\n",
              "//\n",
              "//      http://www.apache.org/licenses/LICENSE-2.0\n",
              "//\n",
              "// Unless required by applicable law or agreed to in writing, software\n",
              "// distributed under the License is distributed on an \"AS IS\" BASIS,\n",
              "// WITHOUT WARRANTIES OR CONDITIONS OF ANY KIND, either express or implied.\n",
              "// See the License for the specific language governing permissions and\n",
              "// limitations under the License.\n",
              "\n",
              "/**\n",
              " * @fileoverview Helpers for google.colab Python module.\n",
              " */\n",
              "(function(scope) {\n",
              "function span(text, styleAttributes = {}) {\n",
              "  const element = document.createElement('span');\n",
              "  element.textContent = text;\n",
              "  for (const key of Object.keys(styleAttributes)) {\n",
              "    element.style[key] = styleAttributes[key];\n",
              "  }\n",
              "  return element;\n",
              "}\n",
              "\n",
              "// Max number of bytes which will be uploaded at a time.\n",
              "const MAX_PAYLOAD_SIZE = 100 * 1024;\n",
              "\n",
              "function _uploadFiles(inputId, outputId) {\n",
              "  const steps = uploadFilesStep(inputId, outputId);\n",
              "  const outputElement = document.getElementById(outputId);\n",
              "  // Cache steps on the outputElement to make it available for the next call\n",
              "  // to uploadFilesContinue from Python.\n",
              "  outputElement.steps = steps;\n",
              "\n",
              "  return _uploadFilesContinue(outputId);\n",
              "}\n",
              "\n",
              "// This is roughly an async generator (not supported in the browser yet),\n",
              "// where there are multiple asynchronous steps and the Python side is going\n",
              "// to poll for completion of each step.\n",
              "// This uses a Promise to block the python side on completion of each step,\n",
              "// then passes the result of the previous step as the input to the next step.\n",
              "function _uploadFilesContinue(outputId) {\n",
              "  const outputElement = document.getElementById(outputId);\n",
              "  const steps = outputElement.steps;\n",
              "\n",
              "  const next = steps.next(outputElement.lastPromiseValue);\n",
              "  return Promise.resolve(next.value.promise).then((value) => {\n",
              "    // Cache the last promise value to make it available to the next\n",
              "    // step of the generator.\n",
              "    outputElement.lastPromiseValue = value;\n",
              "    return next.value.response;\n",
              "  });\n",
              "}\n",
              "\n",
              "/**\n",
              " * Generator function which is called between each async step of the upload\n",
              " * process.\n",
              " * @param {string} inputId Element ID of the input file picker element.\n",
              " * @param {string} outputId Element ID of the output display.\n",
              " * @return {!Iterable<!Object>} Iterable of next steps.\n",
              " */\n",
              "function* uploadFilesStep(inputId, outputId) {\n",
              "  const inputElement = document.getElementById(inputId);\n",
              "  inputElement.disabled = false;\n",
              "\n",
              "  const outputElement = document.getElementById(outputId);\n",
              "  outputElement.innerHTML = '';\n",
              "\n",
              "  const pickedPromise = new Promise((resolve) => {\n",
              "    inputElement.addEventListener('change', (e) => {\n",
              "      resolve(e.target.files);\n",
              "    });\n",
              "  });\n",
              "\n",
              "  const cancel = document.createElement('button');\n",
              "  inputElement.parentElement.appendChild(cancel);\n",
              "  cancel.textContent = 'Cancel upload';\n",
              "  const cancelPromise = new Promise((resolve) => {\n",
              "    cancel.onclick = () => {\n",
              "      resolve(null);\n",
              "    };\n",
              "  });\n",
              "\n",
              "  // Wait for the user to pick the files.\n",
              "  const files = yield {\n",
              "    promise: Promise.race([pickedPromise, cancelPromise]),\n",
              "    response: {\n",
              "      action: 'starting',\n",
              "    }\n",
              "  };\n",
              "\n",
              "  cancel.remove();\n",
              "\n",
              "  // Disable the input element since further picks are not allowed.\n",
              "  inputElement.disabled = true;\n",
              "\n",
              "  if (!files) {\n",
              "    return {\n",
              "      response: {\n",
              "        action: 'complete',\n",
              "      }\n",
              "    };\n",
              "  }\n",
              "\n",
              "  for (const file of files) {\n",
              "    const li = document.createElement('li');\n",
              "    li.append(span(file.name, {fontWeight: 'bold'}));\n",
              "    li.append(span(\n",
              "        `(${file.type || 'n/a'}) - ${file.size} bytes, ` +\n",
              "        `last modified: ${\n",
              "            file.lastModifiedDate ? file.lastModifiedDate.toLocaleDateString() :\n",
              "                                    'n/a'} - `));\n",
              "    const percent = span('0% done');\n",
              "    li.appendChild(percent);\n",
              "\n",
              "    outputElement.appendChild(li);\n",
              "\n",
              "    const fileDataPromise = new Promise((resolve) => {\n",
              "      const reader = new FileReader();\n",
              "      reader.onload = (e) => {\n",
              "        resolve(e.target.result);\n",
              "      };\n",
              "      reader.readAsArrayBuffer(file);\n",
              "    });\n",
              "    // Wait for the data to be ready.\n",
              "    let fileData = yield {\n",
              "      promise: fileDataPromise,\n",
              "      response: {\n",
              "        action: 'continue',\n",
              "      }\n",
              "    };\n",
              "\n",
              "    // Use a chunked sending to avoid message size limits. See b/62115660.\n",
              "    let position = 0;\n",
              "    do {\n",
              "      const length = Math.min(fileData.byteLength - position, MAX_PAYLOAD_SIZE);\n",
              "      const chunk = new Uint8Array(fileData, position, length);\n",
              "      position += length;\n",
              "\n",
              "      const base64 = btoa(String.fromCharCode.apply(null, chunk));\n",
              "      yield {\n",
              "        response: {\n",
              "          action: 'append',\n",
              "          file: file.name,\n",
              "          data: base64,\n",
              "        },\n",
              "      };\n",
              "\n",
              "      let percentDone = fileData.byteLength === 0 ?\n",
              "          100 :\n",
              "          Math.round((position / fileData.byteLength) * 100);\n",
              "      percent.textContent = `${percentDone}% done`;\n",
              "\n",
              "    } while (position < fileData.byteLength);\n",
              "  }\n",
              "\n",
              "  // All done.\n",
              "  yield {\n",
              "    response: {\n",
              "      action: 'complete',\n",
              "    }\n",
              "  };\n",
              "}\n",
              "\n",
              "scope.google = scope.google || {};\n",
              "scope.google.colab = scope.google.colab || {};\n",
              "scope.google.colab._files = {\n",
              "  _uploadFiles,\n",
              "  _uploadFilesContinue,\n",
              "};\n",
              "})(self);\n",
              "</script> "
            ]
          },
          "metadata": {}
        },
        {
          "output_type": "error",
          "ename": "RuntimeError",
          "evalue": "4ファイルアップロードしてください。",
          "traceback": [
            "\u001b[0;31m---------------------------------------------------------------------------\u001b[0m",
            "\u001b[0;31mRuntimeError\u001b[0m                              Traceback (most recent call last)",
            "\u001b[0;32m/tmp/ipython-input-3101664676.py\u001b[0m in \u001b[0;36m<cell line: 0>\u001b[0;34m()\u001b[0m\n\u001b[1;32m     37\u001b[0m \u001b[0mup\u001b[0m \u001b[0;34m=\u001b[0m \u001b[0mfiles\u001b[0m\u001b[0;34m.\u001b[0m\u001b[0mupload\u001b[0m\u001b[0;34m(\u001b[0m\u001b[0;34m)\u001b[0m\u001b[0;34m\u001b[0m\u001b[0;34m\u001b[0m\u001b[0m\n\u001b[1;32m     38\u001b[0m \u001b[0;32mif\u001b[0m \u001b[0mlen\u001b[0m\u001b[0;34m(\u001b[0m\u001b[0mup\u001b[0m\u001b[0;34m)\u001b[0m\u001b[0;34m<\u001b[0m\u001b[0;36m4\u001b[0m\u001b[0;34m:\u001b[0m\u001b[0;34m\u001b[0m\u001b[0;34m\u001b[0m\u001b[0m\n\u001b[0;32m---> 39\u001b[0;31m     \u001b[0;32mraise\u001b[0m \u001b[0mRuntimeError\u001b[0m\u001b[0;34m(\u001b[0m\u001b[0;34m\"4ファイルアップロードしてください。\"\u001b[0m\u001b[0;34m)\u001b[0m\u001b[0;34m\u001b[0m\u001b[0;34m\u001b[0m\u001b[0m\n\u001b[0m\u001b[1;32m     40\u001b[0m \u001b[0;34m\u001b[0m\u001b[0m\n\u001b[1;32m     41\u001b[0m \u001b[0;31m# 値域で length/curvature を自動判別、meanで base/ctrl を推定（lengthはmean大→control, curvatureはmean小→control）\u001b[0m\u001b[0;34m\u001b[0m\u001b[0;34m\u001b[0m\u001b[0m\n",
            "\u001b[0;31mRuntimeError\u001b[0m: 4ファイルアップロードしてください。"
          ]
        }
      ]
    },
    {
      "cell_type": "code",
      "source": [
        "# 例: Driveをマウント\n",
        "from google.colab import drive\n",
        "drive.mount('/content/drive')\n",
        "\n",
        "# ==== 手動マッピング ====\n",
        "LENGTH_BASE = \"/content/drive/MyDrive/DTI/len_A.npy\"\n",
        "LENGTH_CTRL = \"/content/drive/MyDrive/DTI/len_B.npy\"\n",
        "CURV_BASE   = \"/content/drive/MyDrive/DTI/curv_A.npy\"\n",
        "CURV_CTRL   = \"/content/drive/MyDrive/DTI/curv_B.npy\"\n",
        "\n",
        "# 以下は固定\n",
        "import os, numpy as np, matplotlib; matplotlib.use(\"Agg\")\n",
        "import matplotlib.pyplot as plt\n",
        "os.makedirs(\"analysis_out\", exist_ok=True)\n",
        "\n",
        "def _load(p):\n",
        "    import numpy as np, os\n",
        "    ext=os.path.splitext(p)[1].lower()\n",
        "    if ext==\".npy\": return np.load(p,allow_pickle=False).ravel()\n",
        "    if ext==\".npz\":\n",
        "        z=np.load(p,allow_pickle=True)\n",
        "        return np.asarray(z[z.files[0]]).ravel()\n",
        "    raise ValueError(\"Use npy/npz here\")\n",
        "\n",
        "def _ecdf(x,y,xlabel,pdf):\n",
        "    x=np.clip(x,0,None); y=np.clip(y,0,None)\n",
        "    sx,px=np.sort(x),np.linspace(0,1,len(x),endpoint=True)\n",
        "    sy,py=np.sort(y),np.linspace(0,1,len(y),endpoint=True)\n",
        "    plt.figure(figsize=(6,4.5))\n",
        "    plt.step(sx,px,where=\"post\",label=\"Baseline\")\n",
        "    plt.step(sy,py,where=\"post\",label=\"Control\")\n",
        "    plt.xlabel(xlabel); plt.ylabel(\"ECDF\"); plt.legend()\n",
        "    plt.tight_layout(); plt.savefig(pdf,bbox_inches=\"tight\"); plt.close()\n",
        "\n",
        "lb=_load(LENGTH_BASE); lc=_load(LENGTH_CTRL)\n",
        "cb=_load(CURV_BASE);   cc=_load(CURV_CTRL)\n",
        "\n",
        "_ecdf(lb, lc, \"Streamline length (mm)\", \"analysis_out/fig_ecdf_length.pdf\")\n",
        "_ecdf(cb, cc, \"Streamline curvature (1/mm)\", \"analysis_out/fig_ecdf_curvature.pdf\")\n",
        "print(\"Saved PDFs in analysis_out/\")\n"
      ],
      "metadata": {
        "colab": {
          "base_uri": "https://localhost:8080/",
          "height": 480
        },
        "id": "mule97_FluAk",
        "outputId": "007a7267-3669-4b97-8869-c44528fcb122"
      },
      "id": "mule97_FluAk",
      "execution_count": 4,
      "outputs": [
        {
          "output_type": "stream",
          "name": "stdout",
          "text": [
            "Mounted at /content/drive\n"
          ]
        },
        {
          "output_type": "error",
          "ename": "FileNotFoundError",
          "evalue": "[Errno 2] No such file or directory: '/content/drive/MyDrive/DTI/len_A.npy'",
          "traceback": [
            "\u001b[0;31m---------------------------------------------------------------------------\u001b[0m",
            "\u001b[0;31mFileNotFoundError\u001b[0m                         Traceback (most recent call last)",
            "\u001b[0;32m/tmp/ipython-input-592261771.py\u001b[0m in \u001b[0;36m<cell line: 0>\u001b[0;34m()\u001b[0m\n\u001b[1;32m     33\u001b[0m     \u001b[0mplt\u001b[0m\u001b[0;34m.\u001b[0m\u001b[0mtight_layout\u001b[0m\u001b[0;34m(\u001b[0m\u001b[0;34m)\u001b[0m\u001b[0;34m;\u001b[0m \u001b[0mplt\u001b[0m\u001b[0;34m.\u001b[0m\u001b[0msavefig\u001b[0m\u001b[0;34m(\u001b[0m\u001b[0mpdf\u001b[0m\u001b[0;34m,\u001b[0m\u001b[0mbbox_inches\u001b[0m\u001b[0;34m=\u001b[0m\u001b[0;34m\"tight\"\u001b[0m\u001b[0;34m)\u001b[0m\u001b[0;34m;\u001b[0m \u001b[0mplt\u001b[0m\u001b[0;34m.\u001b[0m\u001b[0mclose\u001b[0m\u001b[0;34m(\u001b[0m\u001b[0;34m)\u001b[0m\u001b[0;34m\u001b[0m\u001b[0;34m\u001b[0m\u001b[0m\n\u001b[1;32m     34\u001b[0m \u001b[0;34m\u001b[0m\u001b[0m\n\u001b[0;32m---> 35\u001b[0;31m \u001b[0mlb\u001b[0m\u001b[0;34m=\u001b[0m\u001b[0m_load\u001b[0m\u001b[0;34m(\u001b[0m\u001b[0mLENGTH_BASE\u001b[0m\u001b[0;34m)\u001b[0m\u001b[0;34m;\u001b[0m \u001b[0mlc\u001b[0m\u001b[0;34m=\u001b[0m\u001b[0m_load\u001b[0m\u001b[0;34m(\u001b[0m\u001b[0mLENGTH_CTRL\u001b[0m\u001b[0;34m)\u001b[0m\u001b[0;34m\u001b[0m\u001b[0;34m\u001b[0m\u001b[0m\n\u001b[0m\u001b[1;32m     36\u001b[0m \u001b[0mcb\u001b[0m\u001b[0;34m=\u001b[0m\u001b[0m_load\u001b[0m\u001b[0;34m(\u001b[0m\u001b[0mCURV_BASE\u001b[0m\u001b[0;34m)\u001b[0m\u001b[0;34m;\u001b[0m   \u001b[0mcc\u001b[0m\u001b[0;34m=\u001b[0m\u001b[0m_load\u001b[0m\u001b[0;34m(\u001b[0m\u001b[0mCURV_CTRL\u001b[0m\u001b[0;34m)\u001b[0m\u001b[0;34m\u001b[0m\u001b[0;34m\u001b[0m\u001b[0m\n\u001b[1;32m     37\u001b[0m \u001b[0;34m\u001b[0m\u001b[0m\n",
            "\u001b[0;32m/tmp/ipython-input-592261771.py\u001b[0m in \u001b[0;36m_load\u001b[0;34m(p)\u001b[0m\n\u001b[1;32m     17\u001b[0m     \u001b[0;32mimport\u001b[0m \u001b[0mnumpy\u001b[0m \u001b[0;32mas\u001b[0m \u001b[0mnp\u001b[0m\u001b[0;34m,\u001b[0m \u001b[0mos\u001b[0m\u001b[0;34m\u001b[0m\u001b[0;34m\u001b[0m\u001b[0m\n\u001b[1;32m     18\u001b[0m     \u001b[0mext\u001b[0m\u001b[0;34m=\u001b[0m\u001b[0mos\u001b[0m\u001b[0;34m.\u001b[0m\u001b[0mpath\u001b[0m\u001b[0;34m.\u001b[0m\u001b[0msplitext\u001b[0m\u001b[0;34m(\u001b[0m\u001b[0mp\u001b[0m\u001b[0;34m)\u001b[0m\u001b[0;34m[\u001b[0m\u001b[0;36m1\u001b[0m\u001b[0;34m]\u001b[0m\u001b[0;34m.\u001b[0m\u001b[0mlower\u001b[0m\u001b[0;34m(\u001b[0m\u001b[0;34m)\u001b[0m\u001b[0;34m\u001b[0m\u001b[0;34m\u001b[0m\u001b[0m\n\u001b[0;32m---> 19\u001b[0;31m     \u001b[0;32mif\u001b[0m \u001b[0mext\u001b[0m\u001b[0;34m==\u001b[0m\u001b[0;34m\".npy\"\u001b[0m\u001b[0;34m:\u001b[0m \u001b[0;32mreturn\u001b[0m \u001b[0mnp\u001b[0m\u001b[0;34m.\u001b[0m\u001b[0mload\u001b[0m\u001b[0;34m(\u001b[0m\u001b[0mp\u001b[0m\u001b[0;34m,\u001b[0m\u001b[0mallow_pickle\u001b[0m\u001b[0;34m=\u001b[0m\u001b[0;32mFalse\u001b[0m\u001b[0;34m)\u001b[0m\u001b[0;34m.\u001b[0m\u001b[0mravel\u001b[0m\u001b[0;34m(\u001b[0m\u001b[0;34m)\u001b[0m\u001b[0;34m\u001b[0m\u001b[0;34m\u001b[0m\u001b[0m\n\u001b[0m\u001b[1;32m     20\u001b[0m     \u001b[0;32mif\u001b[0m \u001b[0mext\u001b[0m\u001b[0;34m==\u001b[0m\u001b[0;34m\".npz\"\u001b[0m\u001b[0;34m:\u001b[0m\u001b[0;34m\u001b[0m\u001b[0;34m\u001b[0m\u001b[0m\n\u001b[1;32m     21\u001b[0m         \u001b[0mz\u001b[0m\u001b[0;34m=\u001b[0m\u001b[0mnp\u001b[0m\u001b[0;34m.\u001b[0m\u001b[0mload\u001b[0m\u001b[0;34m(\u001b[0m\u001b[0mp\u001b[0m\u001b[0;34m,\u001b[0m\u001b[0mallow_pickle\u001b[0m\u001b[0;34m=\u001b[0m\u001b[0;32mTrue\u001b[0m\u001b[0;34m)\u001b[0m\u001b[0;34m\u001b[0m\u001b[0;34m\u001b[0m\u001b[0m\n",
            "\u001b[0;32m/usr/local/lib/python3.11/dist-packages/numpy/lib/_npyio_impl.py\u001b[0m in \u001b[0;36mload\u001b[0;34m(file, mmap_mode, allow_pickle, fix_imports, encoding, max_header_size)\u001b[0m\n\u001b[1;32m    453\u001b[0m             \u001b[0mown_fid\u001b[0m \u001b[0;34m=\u001b[0m \u001b[0;32mFalse\u001b[0m\u001b[0;34m\u001b[0m\u001b[0;34m\u001b[0m\u001b[0m\n\u001b[1;32m    454\u001b[0m         \u001b[0;32melse\u001b[0m\u001b[0;34m:\u001b[0m\u001b[0;34m\u001b[0m\u001b[0;34m\u001b[0m\u001b[0m\n\u001b[0;32m--> 455\u001b[0;31m             \u001b[0mfid\u001b[0m \u001b[0;34m=\u001b[0m \u001b[0mstack\u001b[0m\u001b[0;34m.\u001b[0m\u001b[0menter_context\u001b[0m\u001b[0;34m(\u001b[0m\u001b[0mopen\u001b[0m\u001b[0;34m(\u001b[0m\u001b[0mos\u001b[0m\u001b[0;34m.\u001b[0m\u001b[0mfspath\u001b[0m\u001b[0;34m(\u001b[0m\u001b[0mfile\u001b[0m\u001b[0;34m)\u001b[0m\u001b[0;34m,\u001b[0m \u001b[0;34m\"rb\"\u001b[0m\u001b[0;34m)\u001b[0m\u001b[0;34m)\u001b[0m\u001b[0;34m\u001b[0m\u001b[0;34m\u001b[0m\u001b[0m\n\u001b[0m\u001b[1;32m    456\u001b[0m             \u001b[0mown_fid\u001b[0m \u001b[0;34m=\u001b[0m \u001b[0;32mTrue\u001b[0m\u001b[0;34m\u001b[0m\u001b[0;34m\u001b[0m\u001b[0m\n\u001b[1;32m    457\u001b[0m \u001b[0;34m\u001b[0m\u001b[0m\n",
            "\u001b[0;31mFileNotFoundError\u001b[0m: [Errno 2] No such file or directory: '/content/drive/MyDrive/DTI/len_A.npy'"
          ]
        }
      ]
    },
    {
      "cell_type": "code",
      "source": [
        "from google.colab import drive\n",
        "drive.mount('/content/drive', force_remount=True)\n",
        "\n",
        "ROOT = '/content/drive/MyDrive'  # 必要なら '/content/drive/MyDrive/DTI' などに変更\n",
        "import os, fnmatch\n",
        "\n",
        "hits = []\n",
        "for root, dirs, files in os.walk(ROOT):\n",
        "    depth = root.count(os.sep) - ROOT.count(os.sep)\n",
        "    if depth > 5:  # 深すぎる探索はスキップ\n",
        "        continue\n",
        "    for pat in ('*.npy','*.npz','*.txt','*.csv'):\n",
        "        for name in fnmatch.filter(files, pat):\n",
        "            path = os.path.join(root, name)\n",
        "            try:\n",
        "                size = os.path.getsize(path)\n",
        "                hits.append((size, path))\n",
        "            except Exception:\n",
        "                pass\n",
        "\n",
        "hits.sort(reverse=True)  # 大きい順に表示\n",
        "for i, (size, path) in enumerate(hits[:200]):\n",
        "    print(f'[{i:03d}] {size/1e6:6.1f} MB  {path}')\n",
        "\n",
        "print(\"\\n→ 上の一覧から、length の baseline/control と curvature の baseline/control に相当する 4つの [ID] を控えてください。\")\n"
      ],
      "metadata": {
        "colab": {
          "base_uri": "https://localhost:8080/"
        },
        "id": "zHdwEVBTmnwd",
        "outputId": "bc59ecec-9555-43fd-eb3b-ac0dd3d35033"
      },
      "id": "zHdwEVBTmnwd",
      "execution_count": 5,
      "outputs": [
        {
          "output_type": "stream",
          "name": "stdout",
          "text": [
            "Mounted at /content/drive\n",
            "[000]    0.0 MB  /content/drive/MyDrive/ColabFiles/field_final.npy\n",
            "[001]    0.0 MB  /content/drive/MyDrive/ColabFiles/control_u_final.npy\n",
            "[002]    0.0 MB  /content/drive/MyDrive/ColabFiles/f_final.npy\n",
            "[003]    0.0 MB  /content/drive/MyDrive/ColabFiles/curvature_final.npy\n",
            "[004]    0.0 MB  /content/drive/MyDrive/ColabFiles/rank_series.npy\n",
            "[005]    0.0 MB  /content/drive/MyDrive/ColabFiles/rank_over_time.npy\n",
            "[006]    0.0 MB  /content/drive/MyDrive/ColabFiles/curvature_over_time.npy\n",
            "\n",
            "→ 上の一覧から、length の baseline/control と curvature の baseline/control に相当する 4つの [ID] を控えてください。\n"
          ]
        }
      ]
    },
    {
      "cell_type": "code",
      "source": [
        "# === Curvature ECDF from curvature_over_time.npy (t=0 vs t=end) ===\n",
        "import os, numpy as np, matplotlib\n",
        "matplotlib.use(\"Agg\")\n",
        "import matplotlib.pyplot as plt\n",
        "\n",
        "CURV_OVER = \"/content/drive/MyDrive/ColabFiles/curvature_over_time.npy\"\n",
        "CURV_FINAL = \"/content/drive/MyDrive/ColabFiles/curvature_final.npy\"  # なくてもOK（検証用）\n",
        "\n",
        "def _load(p):\n",
        "    a = np.load(p, allow_pickle=True)\n",
        "    return np.asarray(a)\n",
        "\n",
        "def _ecdf(x, y, xlabel, pdf):\n",
        "    x = np.clip(np.asarray(x).ravel(), 0, None)\n",
        "    y = np.clip(np.asarray(y).ravel(), 0, None)\n",
        "    sx, px = np.sort(x), np.linspace(0,1,len(x),endpoint=True)\n",
        "    sy, py = np.sort(y), np.linspace(0,1,len(y),endpoint=True)\n",
        "    plt.figure(figsize=(6,4.5))\n",
        "    plt.step(sx, px, where=\"post\", label=\"Baseline\")\n",
        "    plt.step(sy, py, where=\"post\", label=\"Control\")\n",
        "    plt.xlabel(xlabel); plt.ylabel(\"ECDF\"); plt.legend()\n",
        "    plt.tight_layout(); plt.savefig(pdf, bbox_inches=\"tight\"); plt.close()\n",
        "\n",
        "C = _load(CURV_OVER)\n",
        "# 形状の想定： (T, N) or (N, T) or (T,) のどれか\n",
        "if C.ndim == 2:\n",
        "    # T×N または N×T を自動判定（時間軸=短い方と仮定）\n",
        "    t_axis = 0 if C.shape[0] <= C.shape[1] else 1\n",
        "    curv_base = C[0, :] if t_axis == 0 else C[:, 0]\n",
        "    curv_ctrl = C[-1, :] if t_axis == 0 else C[:, -1]\n",
        "elif C.ndim == 1:\n",
        "    # 時系列しか無い（N=1）場合は baseline が無いので final として扱う\n",
        "    # その場合は curvature_final.npy を control として使い、baseline は別フォルダから用意してください\n",
        "    raise RuntimeError(\"curvature_over_time.npy が 1次元（純時系列）で baseline 切り出し不可。baseline 配列が別に必要です。\")\n",
        "else:\n",
        "    raise RuntimeError(f\"Unsupported shape for {CURV_OVER}: {C.shape}\")\n",
        "\n",
        "os.makedirs(\"analysis_out\", exist_ok=True)\n",
        "_ecdf(curv_base, curv_ctrl, \"Streamline curvature (1/mm)\", \"analysis_out/fig_ecdf_curvature.pdf\")\n",
        "\n",
        "with open(\"analysis_out/fig_snippet_len_curv.tex\",\"w\") as f:\n",
        "    f.write(r\"\"\"\\begin{figure}[t]\n",
        "  \\centering\n",
        "  \\includegraphics[width=0.48\\linewidth]{fig_ecdf_length.pdf}\\hfill\n",
        "  \\includegraphics[width=0.48\\linewidth]{fig_ecdf_curvature.pdf}\n",
        "  \\caption{Distributional comparison (ECDF) of streamline length and curvature: baseline vs.\\ delayed control.}\n",
        "  \\label{fig:ecdf_len_curv}\n",
        "\\end{figure}\n",
        "\"\"\")\n",
        "print(\"Saved -> analysis_out/fig_ecdf_curvature.pdf\")\n"
      ],
      "metadata": {
        "colab": {
          "base_uri": "https://localhost:8080/",
          "height": 258
        },
        "id": "J4Ji2_knnshG",
        "outputId": "61468126-519a-4486-d2df-ce31306f5f55"
      },
      "id": "J4Ji2_knnshG",
      "execution_count": 6,
      "outputs": [
        {
          "output_type": "error",
          "ename": "RuntimeError",
          "evalue": "curvature_over_time.npy が 1次元（純時系列）で baseline 切り出し不可。baseline 配列が別に必要です。",
          "traceback": [
            "\u001b[0;31m---------------------------------------------------------------------------\u001b[0m",
            "\u001b[0;31mRuntimeError\u001b[0m                              Traceback (most recent call last)",
            "\u001b[0;32m/tmp/ipython-input-989690970.py\u001b[0m in \u001b[0;36m<cell line: 0>\u001b[0;34m()\u001b[0m\n\u001b[1;32m     32\u001b[0m     \u001b[0;31m# 時系列しか無い（N=1）場合は baseline が無いので final として扱う\u001b[0m\u001b[0;34m\u001b[0m\u001b[0;34m\u001b[0m\u001b[0m\n\u001b[1;32m     33\u001b[0m     \u001b[0;31m# その場合は curvature_final.npy を control として使い、baseline は別フォルダから用意してください\u001b[0m\u001b[0;34m\u001b[0m\u001b[0;34m\u001b[0m\u001b[0m\n\u001b[0;32m---> 34\u001b[0;31m     \u001b[0;32mraise\u001b[0m \u001b[0mRuntimeError\u001b[0m\u001b[0;34m(\u001b[0m\u001b[0;34m\"curvature_over_time.npy が 1次元（純時系列）で baseline 切り出し不可。baseline 配列が別に必要です。\"\u001b[0m\u001b[0;34m)\u001b[0m\u001b[0;34m\u001b[0m\u001b[0;34m\u001b[0m\u001b[0m\n\u001b[0m\u001b[1;32m     35\u001b[0m \u001b[0;32melse\u001b[0m\u001b[0;34m:\u001b[0m\u001b[0;34m\u001b[0m\u001b[0;34m\u001b[0m\u001b[0m\n\u001b[1;32m     36\u001b[0m     \u001b[0;32mraise\u001b[0m \u001b[0mRuntimeError\u001b[0m\u001b[0;34m(\u001b[0m\u001b[0;34mf\"Unsupported shape for {CURV_OVER}: {C.shape}\"\u001b[0m\u001b[0;34m)\u001b[0m\u001b[0;34m\u001b[0m\u001b[0;34m\u001b[0m\u001b[0m\n",
            "\u001b[0;31mRuntimeError\u001b[0m: curvature_over_time.npy が 1次元（純時系列）で baseline 切り出し不可。baseline 配列が別に必要です。"
          ]
        }
      ]
    },
    {
      "cell_type": "code",
      "source": [
        "from google.colab import drive\n",
        "drive.mount('/content/drive', force_remount=True)\n",
        "\n",
        "import os, fnmatch\n",
        "ROOT = '/content/drive/MyDrive'\n",
        "hits = []\n",
        "for root, dirs, files in os.walk(ROOT):\n",
        "    for name in files:\n",
        "        if fnmatch.fnmatch(name.lower(), 'curvature_final.npy'):\n",
        "            path = os.path.join(root, name)\n",
        "            hits.append(path)\n",
        "\n",
        "if not hits:\n",
        "    print(\"Drive内に curvature_final.npy が見つかりません。各実験出力フォルダに保存されているか確認してください。\")\n",
        "else:\n",
        "    for i,p in enumerate(hits):\n",
        "        print(f\"[{i:02d}] {p}\")\n",
        "\n",
        "print(\"\\n上の一覧から Baseline 用と Control 用に相当する2つの [ID] を決めて、次のセルに入れてください。\")\n"
      ],
      "metadata": {
        "colab": {
          "base_uri": "https://localhost:8080/"
        },
        "id": "FRyjeE6XoURq",
        "outputId": "cc8461f0-742a-4498-dbfc-a8f025d25f57"
      },
      "id": "FRyjeE6XoURq",
      "execution_count": 7,
      "outputs": [
        {
          "output_type": "stream",
          "name": "stdout",
          "text": [
            "Mounted at /content/drive\n",
            "[00] /content/drive/MyDrive/ColabFiles/curvature_final.npy\n",
            "\n",
            "上の一覧から Baseline 用と Control 用に相当する2つの [ID] を決めて、次のセルに入れてください。\n"
          ]
        }
      ]
    },
    {
      "cell_type": "code",
      "source": [
        "# Drive内の curvature_final.npy を全部列挙\n",
        "from google.colab import drive\n",
        "drive.mount('/content/drive', force_remount=True)\n",
        "\n",
        "import os, fnmatch\n",
        "ROOT = '/content/drive/MyDrive'\n",
        "hits = []\n",
        "for root, dirs, files in os.walk(ROOT):\n",
        "    for name in files:\n",
        "        if fnmatch.fnmatch(name.lower(), 'curvature_final.npy'):\n",
        "            hits.append(os.path.join(root, name))\n",
        "for i,p in enumerate(hits):\n",
        "    print(f\"[{i:02d}] {p}\")\n"
      ],
      "metadata": {
        "colab": {
          "base_uri": "https://localhost:8080/"
        },
        "id": "Kav3PL9LH-Q4",
        "outputId": "040d4130-b72a-42d7-d5b8-e77eea967c77"
      },
      "id": "Kav3PL9LH-Q4",
      "execution_count": 8,
      "outputs": [
        {
          "output_type": "stream",
          "name": "stdout",
          "text": [
            "Mounted at /content/drive\n",
            "[00] /content/drive/MyDrive/ColabFiles/curvature_final.npy\n"
          ]
        }
      ]
    },
    {
      "cell_type": "code",
      "source": [
        "# Drive内にある curvature_final.npy を全部列挙（baseline用が既にあるかチェック）\n",
        "from google.colab import drive; drive.mount('/content/drive', force_remount=True)\n",
        "import os, fnmatch\n",
        "ROOT = '/content/drive/MyDrive'\n",
        "hits = []\n",
        "for root, dirs, files in os.walk(ROOT):\n",
        "    for name in files:\n",
        "        if fnmatch.fnmatch(name.lower(), 'curvature_final.npy'):\n",
        "            hits.append(os.path.join(root, name))\n",
        "for i,p in enumerate(hits):\n",
        "    print(f\"[{i:02d}] {p}\")\n",
        "\n",
        "# 例） baseline が [0]、control が [1] のように2本あるなら、次のステップ2へ\n"
      ],
      "metadata": {
        "colab": {
          "base_uri": "https://localhost:8080/"
        },
        "id": "Oo0dhyJcJXj2",
        "outputId": "cbcdd309-1d5d-464d-de9c-532b1eeeab03"
      },
      "id": "Oo0dhyJcJXj2",
      "execution_count": 9,
      "outputs": [
        {
          "output_type": "stream",
          "name": "stdout",
          "text": [
            "Mounted at /content/drive\n",
            "[00] /content/drive/MyDrive/ColabFiles/curvature_final.npy\n"
          ]
        }
      ]
    },
    {
      "cell_type": "code",
      "source": [
        "# === Curvature ECDF（baseline vs control） ===\n",
        "import numpy as np, os, matplotlib\n",
        "matplotlib.use(\"Agg\")\n",
        "import matplotlib.pyplot as plt\n",
        "\n",
        "BASE = \"/content/drive/MyDrive/ColabFiles/curvature_final_baseline.npy\"  # 1-Bで作ったもの\n",
        "CTRL = \"/content/drive/MyDrive/ColabFiles/curvature_final.npy\"           # 既存のもの\n",
        "\n",
        "curv_base = np.load(BASE, allow_pickle=False).ravel()\n",
        "curv_ctrl = np.load(CTRL, allow_pickle=False).ravel()\n",
        "\n",
        "def ecdf_pdf(x, y, xlabel, out_pdf):\n",
        "    x = np.clip(np.asarray(x).ravel(), 0, None)\n",
        "    y = np.clip(np.asarray(y).ravel(), 0, None)\n",
        "    sx, px = np.sort(x), np.linspace(0,1,len(x),endpoint=True)\n",
        "    sy, py = np.sort(y), np.linspace(0,1,len(y),endpoint=True)\n",
        "    plt.figure(figsize=(6,4.5))\n",
        "    plt.step(sx, px, where=\"post\", label=\"Baseline\")\n",
        "    plt.step(sy, py, where=\"post\", label=\"Control\")\n",
        "    plt.xlabel(xlabel); plt.ylabel(\"ECDF\"); plt.legend()\n",
        "    plt.tight_layout(); plt.savefig(out_pdf, bbox_inches=\"tight\"); plt.close()\n",
        "\n",
        "os.makedirs(\"analysis_out\", exist_ok=True)\n",
        "ecdf_pdf(curv_base, curv_ctrl, \"Streamline curvature (1/mm)\", \"analysis_out/fig_ecdf_curvature.pdf\")\n",
        "\n",
        "with open(\"analysis_out/fig_snippet_len_curv.tex\",\"w\") as f:\n",
        "    f.write(r\"\"\"\\begin{figure}[t]\n",
        "  \\centering\n",
        "  \\includegraphics[width=0.48\\linewidth]{fig_ecdf_length.pdf}\\hfill\n",
        "  \\includegraphics[width=0.48\\linewidth]{fig_ecdf_curvature.pdf}\n",
        "  \\caption{Distributional comparison (ECDF) of streamline length and curvature: baseline vs.\\ delayed control.}\n",
        "  \\label{fig:ecdf_len_curv}\n",
        "\\end{figure}\n",
        "\"\"\")\n",
        "print(\"Saved -> analysis_out/fig_ecdf_curvature.pdf（LaTeXスニペットも出力）\")\n"
      ],
      "metadata": {
        "colab": {
          "base_uri": "https://localhost:8080/",
          "height": 434
        },
        "id": "FyC0CnSYJh4Q",
        "outputId": "49183da2-ccee-4dc9-d369-195dbfe48f9b"
      },
      "id": "FyC0CnSYJh4Q",
      "execution_count": 10,
      "outputs": [
        {
          "output_type": "error",
          "ename": "FileNotFoundError",
          "evalue": "[Errno 2] No such file or directory: '/content/drive/MyDrive/ColabFiles/curvature_final_baseline.npy'",
          "traceback": [
            "\u001b[0;31m---------------------------------------------------------------------------\u001b[0m",
            "\u001b[0;31mFileNotFoundError\u001b[0m                         Traceback (most recent call last)",
            "\u001b[0;32m/tmp/ipython-input-1780645360.py\u001b[0m in \u001b[0;36m<cell line: 0>\u001b[0;34m()\u001b[0m\n\u001b[1;32m      7\u001b[0m \u001b[0mCTRL\u001b[0m \u001b[0;34m=\u001b[0m \u001b[0;34m\"/content/drive/MyDrive/ColabFiles/curvature_final.npy\"\u001b[0m           \u001b[0;31m# 既存のもの\u001b[0m\u001b[0;34m\u001b[0m\u001b[0;34m\u001b[0m\u001b[0m\n\u001b[1;32m      8\u001b[0m \u001b[0;34m\u001b[0m\u001b[0m\n\u001b[0;32m----> 9\u001b[0;31m \u001b[0mcurv_base\u001b[0m \u001b[0;34m=\u001b[0m \u001b[0mnp\u001b[0m\u001b[0;34m.\u001b[0m\u001b[0mload\u001b[0m\u001b[0;34m(\u001b[0m\u001b[0mBASE\u001b[0m\u001b[0;34m,\u001b[0m \u001b[0mallow_pickle\u001b[0m\u001b[0;34m=\u001b[0m\u001b[0;32mFalse\u001b[0m\u001b[0;34m)\u001b[0m\u001b[0;34m.\u001b[0m\u001b[0mravel\u001b[0m\u001b[0;34m(\u001b[0m\u001b[0;34m)\u001b[0m\u001b[0;34m\u001b[0m\u001b[0;34m\u001b[0m\u001b[0m\n\u001b[0m\u001b[1;32m     10\u001b[0m \u001b[0mcurv_ctrl\u001b[0m \u001b[0;34m=\u001b[0m \u001b[0mnp\u001b[0m\u001b[0;34m.\u001b[0m\u001b[0mload\u001b[0m\u001b[0;34m(\u001b[0m\u001b[0mCTRL\u001b[0m\u001b[0;34m,\u001b[0m \u001b[0mallow_pickle\u001b[0m\u001b[0;34m=\u001b[0m\u001b[0;32mFalse\u001b[0m\u001b[0;34m)\u001b[0m\u001b[0;34m.\u001b[0m\u001b[0mravel\u001b[0m\u001b[0;34m(\u001b[0m\u001b[0;34m)\u001b[0m\u001b[0;34m\u001b[0m\u001b[0;34m\u001b[0m\u001b[0m\n\u001b[1;32m     11\u001b[0m \u001b[0;34m\u001b[0m\u001b[0m\n",
            "\u001b[0;32m/usr/local/lib/python3.11/dist-packages/numpy/lib/_npyio_impl.py\u001b[0m in \u001b[0;36mload\u001b[0;34m(file, mmap_mode, allow_pickle, fix_imports, encoding, max_header_size)\u001b[0m\n\u001b[1;32m    453\u001b[0m             \u001b[0mown_fid\u001b[0m \u001b[0;34m=\u001b[0m \u001b[0;32mFalse\u001b[0m\u001b[0;34m\u001b[0m\u001b[0;34m\u001b[0m\u001b[0m\n\u001b[1;32m    454\u001b[0m         \u001b[0;32melse\u001b[0m\u001b[0;34m:\u001b[0m\u001b[0;34m\u001b[0m\u001b[0;34m\u001b[0m\u001b[0m\n\u001b[0;32m--> 455\u001b[0;31m             \u001b[0mfid\u001b[0m \u001b[0;34m=\u001b[0m \u001b[0mstack\u001b[0m\u001b[0;34m.\u001b[0m\u001b[0menter_context\u001b[0m\u001b[0;34m(\u001b[0m\u001b[0mopen\u001b[0m\u001b[0;34m(\u001b[0m\u001b[0mos\u001b[0m\u001b[0;34m.\u001b[0m\u001b[0mfspath\u001b[0m\u001b[0;34m(\u001b[0m\u001b[0mfile\u001b[0m\u001b[0;34m)\u001b[0m\u001b[0;34m,\u001b[0m \u001b[0;34m\"rb\"\u001b[0m\u001b[0;34m)\u001b[0m\u001b[0;34m)\u001b[0m\u001b[0;34m\u001b[0m\u001b[0;34m\u001b[0m\u001b[0m\n\u001b[0m\u001b[1;32m    456\u001b[0m             \u001b[0mown_fid\u001b[0m \u001b[0;34m=\u001b[0m \u001b[0;32mTrue\u001b[0m\u001b[0;34m\u001b[0m\u001b[0;34m\u001b[0m\u001b[0m\n\u001b[1;32m    457\u001b[0m \u001b[0;34m\u001b[0m\u001b[0m\n",
            "\u001b[0;31mFileNotFoundError\u001b[0m: [Errno 2] No such file or directory: '/content/drive/MyDrive/ColabFiles/curvature_final_baseline.npy'"
          ]
        }
      ]
    },
    {
      "cell_type": "code",
      "source": [],
      "metadata": {
        "id": "XVzsCrYuKIA4"
      },
      "id": "XVzsCrYuKIA4",
      "execution_count": null,
      "outputs": []
    },
    {
      "cell_type": "code",
      "source": [
        "# === create baseline curvature_final_baseline.npy (u=0 run) ===\n",
        "import numpy as np, os, sys\n",
        "from google.colab import drive; drive.mount('/content/drive', force_remount=True)\n",
        "sys.path.append(\"/content\")  # あなたのモジュールの場所\n",
        "\n",
        "# ★ control と同じ条件にそろえる（Nx, Ny, T, dt, f0）\n",
        "Nx, Ny = 64, 64      # ←あなたの値に\n",
        "T, dt  = 20, 1.0     # ←あなたの値に\n",
        "np.random.seed(0)    # control と同じ乱数種を使う or control 実行時に保存した f0 を読み込む\n",
        "f0 = np.random.rand(Nx, Ny)  # もし保存済みf0があるなら np.load(\"そのパス\") に置換\n",
        "\n",
        "# ★ あなたの実装に合わせて import\n",
        "from CliffordTensor import create_spin_connection_field, compute_clifford_curvature\n",
        "from CliffordDynamics import solve_forward_geometric   # ←名称が違うならあなたの forward 関数に\n",
        "\n",
        "A = create_spin_connection_field(Nx, Ny)\n",
        "u_zero = np.zeros((Nx, Ny))\n",
        "\n",
        "traj = solve_forward_geometric(f0, A, u_zero, T, dt)   # 前進のみ（u=0）\n",
        "curv_base = compute_clifford_curvature(traj[-1])       # 最終時刻の曲率マップ\n",
        "\n",
        "SAVE_TO = \"/content/drive/MyDrive/ColabFiles/curvature_final_baseline.npy\"\n",
        "np.save(SAVE_TO, curv_base)\n",
        "print(\"Saved:\", SAVE_TO)\n"
      ],
      "metadata": {
        "colab": {
          "base_uri": "https://localhost:8080/",
          "height": 280
        },
        "id": "TqfragwOKEJB",
        "outputId": "4d96cfa7-565d-43bf-d7c9-837891fe1200"
      },
      "id": "TqfragwOKEJB",
      "execution_count": 14,
      "outputs": [
        {
          "output_type": "stream",
          "name": "stdout",
          "text": [
            "Mounted at /content/drive\n"
          ]
        },
        {
          "output_type": "error",
          "ename": "TypeError",
          "evalue": "create_spin_connection_field() missing 1 required positional argument: 'Nt'",
          "traceback": [
            "\u001b[0;31m---------------------------------------------------------------------------\u001b[0m",
            "\u001b[0;31mTypeError\u001b[0m                                 Traceback (most recent call last)",
            "\u001b[0;32m/tmp/ipython-input-1223022576.py\u001b[0m in \u001b[0;36m<cell line: 0>\u001b[0;34m()\u001b[0m\n\u001b[1;32m     14\u001b[0m \u001b[0;32mfrom\u001b[0m \u001b[0mCliffordDynamics\u001b[0m \u001b[0;32mimport\u001b[0m \u001b[0msolve_forward_geometric\u001b[0m   \u001b[0;31m# ←名称が違うならあなたの forward 関数に\u001b[0m\u001b[0;34m\u001b[0m\u001b[0;34m\u001b[0m\u001b[0m\n\u001b[1;32m     15\u001b[0m \u001b[0;34m\u001b[0m\u001b[0m\n\u001b[0;32m---> 16\u001b[0;31m \u001b[0mA\u001b[0m \u001b[0;34m=\u001b[0m \u001b[0mcreate_spin_connection_field\u001b[0m\u001b[0;34m(\u001b[0m\u001b[0mNx\u001b[0m\u001b[0;34m,\u001b[0m \u001b[0mNy\u001b[0m\u001b[0;34m)\u001b[0m\u001b[0;34m\u001b[0m\u001b[0;34m\u001b[0m\u001b[0m\n\u001b[0m\u001b[1;32m     17\u001b[0m \u001b[0mu_zero\u001b[0m \u001b[0;34m=\u001b[0m \u001b[0mnp\u001b[0m\u001b[0;34m.\u001b[0m\u001b[0mzeros\u001b[0m\u001b[0;34m(\u001b[0m\u001b[0;34m(\u001b[0m\u001b[0mNx\u001b[0m\u001b[0;34m,\u001b[0m \u001b[0mNy\u001b[0m\u001b[0;34m)\u001b[0m\u001b[0;34m)\u001b[0m\u001b[0;34m\u001b[0m\u001b[0;34m\u001b[0m\u001b[0m\n\u001b[1;32m     18\u001b[0m \u001b[0;34m\u001b[0m\u001b[0m\n",
            "\u001b[0;31mTypeError\u001b[0m: create_spin_connection_field() missing 1 required positional argument: 'Nt'"
          ]
        }
      ]
    },
    {
      "cell_type": "code",
      "source": [
        "# === u=0 baseline を作って curvature_final_baseline.npy を保存（引数パターンを自動調整） ===\n",
        "import os, sys, numpy as np\n",
        "from google.colab import drive; drive.mount('/content/drive', force_remount=True)\n",
        "sys.path.append(\"/content\")  # あなたの .py がある場所（必要に応じて追加）\n",
        "\n",
        "# ★ control と同じ条件にそろえる\n",
        "Nx, Ny = 64, 64\n",
        "T, dt  = 20, 1.0\n",
        "Nt = int(round(T/dt)) + 1   # 例: t=0 を含める想定。実装に合わせて +/-1 調整可\n",
        "\n",
        "# ★ 初期場：control と同一に（保存済み f0 があればそれを読む）\n",
        "np.random.seed(0)\n",
        "f0 = np.random.rand(Nx, Ny)\n",
        "\n",
        "# あなたの実装に合わせて import\n",
        "from CliffordTensor   import create_spin_connection_field, compute_clifford_curvature\n",
        "from CliffordDynamics import solve_forward_geometric\n",
        "\n",
        "# A を作成（2引数 or 3引数の両方に対応）\n",
        "try:\n",
        "    A = create_spin_connection_field(Nx, Ny, Nt)\n",
        "except TypeError:\n",
        "    A = create_spin_connection_field(Nx, Ny)\n",
        "\n",
        "# u=0（時間不変 or 時間変化の両方を試す）\n",
        "u2 = np.zeros((Nx, Ny))        # 2D（時間不変）\n",
        "u3 = np.zeros((Nt, Nx, Ny))    # 3D（時\n"
      ],
      "metadata": {
        "colab": {
          "base_uri": "https://localhost:8080/"
        },
        "id": "jLW6_SlcMb_I",
        "outputId": "5f509196-4f48-44e2-f095-f1ce73e177f6"
      },
      "id": "jLW6_SlcMb_I",
      "execution_count": 15,
      "outputs": [
        {
          "output_type": "stream",
          "name": "stdout",
          "text": [
            "Mounted at /content/drive\n"
          ]
        }
      ]
    },
    {
      "cell_type": "code",
      "source": [
        "import numpy as np, os, matplotlib\n",
        "matplotlib.use(\"Agg\")\n",
        "import matplotlib.pyplot as plt\n",
        "\n",
        "BASE = \"/content/drive/MyDrive/ColabFiles/curvature_final_baseline.npy\"\n",
        "CTRL = \"/content/drive/MyDrive/ColabFiles/curvature_final.npy\"\n",
        "\n",
        "curv_base = np.load(BASE, allow_pickle=False).ravel()\n",
        "curv_ctrl = np.load(CTRL, allow_pickle=False).ravel()\n",
        "\n",
        "def ecdf_pdf(x, y, xlabel, out_pdf):\n",
        "    x = np.clip(np.asarray(x).ravel(), 0, None)\n",
        "    y = np.clip(np.asarray(y).ravel(), 0, None)\n",
        "    sx, px = np.sort(x), np.linspace(0,1,len(x),endpoint=True)\n",
        "    sy, py = np.sort(y), np.linspace(0,1,len(y),endpoint=True)\n",
        "    plt.figure(figsize=(6,4.5))\n",
        "    plt.step(sx, px, where=\"post\", label=\"Baseline\")\n",
        "    plt.step(sy, py, where=\"post\", label=\"Control\")\n",
        "    plt.xlabel(xlabel); plt.ylabel(\"ECDF\"); plt.legend()\n",
        "    plt.tight_layout(); plt.savefig(out_pdf, bbox_inches=\"tight\"); plt.close()\n",
        "\n",
        "os.makedirs(\"analysis_out\", exist_ok=True)\n",
        "ecdf_pdf(curv_base, curv_ctrl, \"Streamline curvature (1/mm)\", \"analysis_out/fig_ecdf_curvature.pdf\")\n",
        "print(\"📄 Saved -> analysis_out/fig_ecdf_curvature.pdf\")\n"
      ],
      "metadata": {
        "colab": {
          "base_uri": "https://localhost:8080/",
          "height": 434
        },
        "id": "zuX1YkOyMl5M",
        "outputId": "a77338a8-9b47-489b-ff43-1849235603dd"
      },
      "id": "zuX1YkOyMl5M",
      "execution_count": 17,
      "outputs": [
        {
          "output_type": "error",
          "ename": "FileNotFoundError",
          "evalue": "[Errno 2] No such file or directory: '/content/drive/MyDrive/ColabFiles/curvature_final_baseline.npy'",
          "traceback": [
            "\u001b[0;31m---------------------------------------------------------------------------\u001b[0m",
            "\u001b[0;31mFileNotFoundError\u001b[0m                         Traceback (most recent call last)",
            "\u001b[0;32m/tmp/ipython-input-581803472.py\u001b[0m in \u001b[0;36m<cell line: 0>\u001b[0;34m()\u001b[0m\n\u001b[1;32m      6\u001b[0m \u001b[0mCTRL\u001b[0m \u001b[0;34m=\u001b[0m \u001b[0;34m\"/content/drive/MyDrive/ColabFiles/curvature_final.npy\"\u001b[0m\u001b[0;34m\u001b[0m\u001b[0;34m\u001b[0m\u001b[0m\n\u001b[1;32m      7\u001b[0m \u001b[0;34m\u001b[0m\u001b[0m\n\u001b[0;32m----> 8\u001b[0;31m \u001b[0mcurv_base\u001b[0m \u001b[0;34m=\u001b[0m \u001b[0mnp\u001b[0m\u001b[0;34m.\u001b[0m\u001b[0mload\u001b[0m\u001b[0;34m(\u001b[0m\u001b[0mBASE\u001b[0m\u001b[0;34m,\u001b[0m \u001b[0mallow_pickle\u001b[0m\u001b[0;34m=\u001b[0m\u001b[0;32mFalse\u001b[0m\u001b[0;34m)\u001b[0m\u001b[0;34m.\u001b[0m\u001b[0mravel\u001b[0m\u001b[0;34m(\u001b[0m\u001b[0;34m)\u001b[0m\u001b[0;34m\u001b[0m\u001b[0;34m\u001b[0m\u001b[0m\n\u001b[0m\u001b[1;32m      9\u001b[0m \u001b[0mcurv_ctrl\u001b[0m \u001b[0;34m=\u001b[0m \u001b[0mnp\u001b[0m\u001b[0;34m.\u001b[0m\u001b[0mload\u001b[0m\u001b[0;34m(\u001b[0m\u001b[0mCTRL\u001b[0m\u001b[0;34m,\u001b[0m \u001b[0mallow_pickle\u001b[0m\u001b[0;34m=\u001b[0m\u001b[0;32mFalse\u001b[0m\u001b[0;34m)\u001b[0m\u001b[0;34m.\u001b[0m\u001b[0mravel\u001b[0m\u001b[0;34m(\u001b[0m\u001b[0;34m)\u001b[0m\u001b[0;34m\u001b[0m\u001b[0;34m\u001b[0m\u001b[0m\n\u001b[1;32m     10\u001b[0m \u001b[0;34m\u001b[0m\u001b[0m\n",
            "\u001b[0;32m/usr/local/lib/python3.11/dist-packages/numpy/lib/_npyio_impl.py\u001b[0m in \u001b[0;36mload\u001b[0;34m(file, mmap_mode, allow_pickle, fix_imports, encoding, max_header_size)\u001b[0m\n\u001b[1;32m    453\u001b[0m             \u001b[0mown_fid\u001b[0m \u001b[0;34m=\u001b[0m \u001b[0;32mFalse\u001b[0m\u001b[0;34m\u001b[0m\u001b[0;34m\u001b[0m\u001b[0m\n\u001b[1;32m    454\u001b[0m         \u001b[0;32melse\u001b[0m\u001b[0;34m:\u001b[0m\u001b[0;34m\u001b[0m\u001b[0;34m\u001b[0m\u001b[0m\n\u001b[0;32m--> 455\u001b[0;31m             \u001b[0mfid\u001b[0m \u001b[0;34m=\u001b[0m \u001b[0mstack\u001b[0m\u001b[0;34m.\u001b[0m\u001b[0menter_context\u001b[0m\u001b[0;34m(\u001b[0m\u001b[0mopen\u001b[0m\u001b[0;34m(\u001b[0m\u001b[0mos\u001b[0m\u001b[0;34m.\u001b[0m\u001b[0mfspath\u001b[0m\u001b[0;34m(\u001b[0m\u001b[0mfile\u001b[0m\u001b[0;34m)\u001b[0m\u001b[0;34m,\u001b[0m \u001b[0;34m\"rb\"\u001b[0m\u001b[0;34m)\u001b[0m\u001b[0;34m)\u001b[0m\u001b[0;34m\u001b[0m\u001b[0;34m\u001b[0m\u001b[0m\n\u001b[0m\u001b[1;32m    456\u001b[0m             \u001b[0mown_fid\u001b[0m \u001b[0;34m=\u001b[0m \u001b[0;32mTrue\u001b[0m\u001b[0;34m\u001b[0m\u001b[0;34m\u001b[0m\u001b[0m\n\u001b[1;32m    457\u001b[0m \u001b[0;34m\u001b[0m\u001b[0m\n",
            "\u001b[0;31mFileNotFoundError\u001b[0m: [Errno 2] No such file or directory: '/content/drive/MyDrive/ColabFiles/curvature_final_baseline.npy'"
          ]
        }
      ]
    },
    {
      "cell_type": "code",
      "source": [
        "# === Make baseline if missing, then output curvature ECDF (baseline vs control) ===\n",
        "import os, sys, numpy as np, matplotlib\n",
        "matplotlib.use(\"Agg\")\n",
        "import matplotlib.pyplot as plt\n",
        "from google.colab import drive; drive.mount('/content/drive', force_remount=True)\n",
        "\n",
        "# ---- paths ----\n",
        "BASE_P = \"/content/drive/MyDrive/ColabFiles/curvature_final_baseline.npy\"  # これを作る\n",
        "CTRL_P = \"/content/drive/MyDrive/ColabFiles/curvature_final.npy\"          # 既存（control）\n",
        "\n",
        "# ---- forward settings (control と同じに！) ----\n",
        "Nx, Ny = 64, 64\n",
        "T, dt  = 20, 1.0\n",
        "Nt     = int(round(T/dt)) + 1  # 実装流儀に合わせて±1 調整可\n",
        "\n",
        "# ---- import your modules ----\n",
        "sys.path.append(\"/content\")  # あなたの .py が見える場所\n",
        "from CliffordTensor   import create_spin_connection_field, compute_clifford_curvature\n",
        "from CliffordDynamics import solve_forward_geometric\n",
        "\n",
        "# ---- create baseline if not exists ----\n",
        "if not os.path.exists(BASE_P):\n",
        "    print(\"Baseline file not found. Creating u=0 baseline…\")\n",
        "    # 初期場 f0：control 実験と同じものを使うのが理想（保存済みがあれば読み込んで置換してください）\n",
        "    np.random.seed(0)\n",
        "    f0 = np.random.rand(Nx, Ny)\n",
        "\n",
        "    # A: 2引数/3引数どちらでも対応\n",
        "    try:\n",
        "        A = create_spin_connection_field(Nx, Ny, Nt)\n",
        "    except TypeError:\n",
        "        A = create_spin_connection_field(Nx, Ny)\n",
        "\n",
        "    # 前進：u=0（2D or 3D どちらのシグネチャでも試す）\n",
        "    try:\n",
        "        traj = solve_forward_geometric(f0, A, np.zeros((Nx, Ny)), T, dt)\n",
        "    except TypeError:\n",
        "        try:\n",
        "            traj = solve_forward_geometric(f0, A, np.zeros((Nt, Nx, Ny)), T, dt)\n",
        "        except TypeError:\n",
        "            traj = solve_forward_geometric(f0, A, np.zeros((Nt, Nx, Ny)),\n"
      ],
      "metadata": {
        "colab": {
          "base_uri": "https://localhost:8080/",
          "height": 126
        },
        "id": "HtMRnFaGNF5a",
        "outputId": "a1a6936a-2480-43f7-eea5-415e26527e59"
      },
      "id": "HtMRnFaGNF5a",
      "execution_count": 18,
      "outputs": [
        {
          "output_type": "error",
          "ename": "SyntaxError",
          "evalue": "incomplete input (ipython-input-2527656436.py, line 41)",
          "traceback": [
            "\u001b[0;36m  File \u001b[0;32m\"/tmp/ipython-input-2527656436.py\"\u001b[0;36m, line \u001b[0;32m41\u001b[0m\n\u001b[0;31m    traj = solve_forward_geometric(f0, A, np.zeros((Nt, Nx, Ny)),\u001b[0m\n\u001b[0m                                                                 ^\u001b[0m\n\u001b[0;31mSyntaxError\u001b[0m\u001b[0;31m:\u001b[0m incomplete input\n"
          ]
        }
      ]
    },
    {
      "cell_type": "code",
      "source": [
        "# === Baseline を自動生成（必要なら）→ 曲率ECDFを出力 ===\n",
        "import os, sys, numpy as np, matplotlib\n",
        "matplotlib.use(\"Agg\")\n",
        "import matplotlib.pyplot as plt\n",
        "from google.colab import drive; drive.mount('/content/drive', force_remount=True)\n",
        "\n",
        "# ---- 設定（control と同じに！）----\n",
        "Nx, Ny = 64, 64\n",
        "T, dt  = 20, 1.0\n",
        "Nt     = int(round(T/dt)) + 1   # 実装流儀に合わせて±1は調整可\n",
        "\n",
        "BASE_P = \"/content/drive/MyDrive/ColabFiles/curvature_final_baseline.npy\"  # 作る\n",
        "CTRL_P = \"/content/drive/MyDrive/ColabFiles/curvature_final.npy\"          # 既存\n",
        "\n",
        "# ---- モジュールの読み込み（あなたの .py が見える場所を通す）----\n",
        "sys.path.append(\"/content\")\n",
        "from CliffordTensor   import create_spin_connection_field, compute_clifford_curvature\n",
        "from CliffordDynamics import solve_forward_geometric\n",
        "\n",
        "# ---- Baseline を作る（なければ）----\n",
        "if not os.path.exists(BASE_P):\n",
        "    print(\"Baseline not found. Creating u=0 baseline ...\")\n",
        "\n",
        "    # f0：理想は control と同一の初期場（保存済みがあれば np.load で置換）\n",
        "    np.random.seed(0)\n",
        "    f0 = np.random.rand(Nx, Ny)\n",
        "\n",
        "    # A: 3引数か2引数かを自動で切替\n",
        "    try:\n",
        "        A = create_spin_connection_field(Nx, Ny, Nt)\n",
        "    except TypeError:\n",
        "        A = create_spin_connection_field(Nx, Ny)\n",
        "\n",
        "    # u=0 の候補（2D/3Dの両方）\n",
        "    u2 = np.zeros((Nx, Ny))\n",
        "    u3 = np.zeros((Nt, Nx, Ny))\n",
        "\n",
        "    # solve_forward_geometric の呼び方を順に試す\n",
        "    traj = None\n",
        "    for candidate in (\n",
        "        lambda: solve_forward_geometric(f0, A, u2, T, dt),\n",
        "        lambda: solve_forward_geometric(f0, A, u3, T, dt),\n",
        "        lambda: solve_forward_geometric(f0, A, u3, Nt, dt),\n",
        "        lambda: solve_forward_geometric(f0, A, u2, Nt, dt),\n",
        "    ):\n",
        "        try:\n",
        "            traj = candidate()\n",
        "            break\n",
        "        except TypeError:\n",
        "            pass\n",
        "    if traj is None:\n",
        "        raise RuntimeError(\"solve_forward_geometric のシグネチャが想定外です。関数定義を教えてください。\")\n",
        "\n",
        "    curv_base = compute_clifford_curvature(traj[-1])\n",
        "    os.makedirs(os.path.dirname(BASE_P), exist_ok=True)\n",
        "    np.save(BASE_P, curv_base)\n",
        "    print(\"✅ Saved baseline:\", BASE_P)\n",
        "else:\n",
        "    print(\"Baseline exists:\", BASE_P)\n",
        "\n",
        "# ---- control があるか確認 ----\n",
        "if not os.path.exists(CTRL_P):\n",
        "    raise FileNotFoundError(f\"Control curvature missing: {CTRL_P}\")\n",
        "\n",
        "# ---- 読み込み＆ログ ----\n",
        "curv_base = np.load(BASE_P, allow_pickle=False).ravel()\n",
        "curv_ctrl = np.load(CTRL_P, allow_pickle=False).ravel()\n",
        "print(\"baseline:\", curv_base.shape, \"mean=\", float(curv_base.mean()))\n",
        "print(\"control :\", curv_ctrl.shape, \"mean=\", float(curv_ctrl.mean()))\n",
        "\n",
        "# ---- ECDF 図を保存 ----\n",
        "def ecdf_pdf(x, y, xlabel, out_pdf):\n",
        "    x = np.clip(np.asarray(x).ravel(), 0, None)\n",
        "    y = np.clip(np.asarray(y).ravel(), 0, None)\n",
        "    sx, px = np.sort(x), np.linspace(0,1,len(x),endpoint=True)\n",
        "    sy, py = np.sort(y), np.linspace(0,1,len(y),endpoint=True)\n",
        "    plt.figure(figsize=(6,4.5))\n",
        "    plt.step(sx, px, where=\"post\", label=\"Baseline\")\n",
        "    plt.step(sy, py, where=\"post\", label=\"Control\")\n",
        "    plt.xlabel(xlabel); plt.ylabel(\"ECDF\"); plt.legend()\n",
        "    plt.tight_layout(); plt.savefig(out_pdf, bbox_inches=\"tight\"); plt.close()\n",
        "\n",
        "os.makedirs(\"analysis_out\", exist_ok=True)\n",
        "ecdf_pdf(curv_base, curv_ctrl, \"Streamline curvature (1/mm)\", \"analysis_out/fig_ecdf_curvature.pdf\")\n",
        "\n",
        "with open(\"analysis_out/fig_snippet_len_curv.tex\",\"w\") as f:\n",
        "    f.write(r\"\"\"\\begin{figure}[t]\n",
        "  \\centering\n",
        "  \\includegraphics[width=0.48\\linewidth]{fig_ecdf_length.pdf}\\hfill\n",
        "  \\includegraphics[width=0.48\\linewidth]{fig_ecdf_curvature.pdf}\n",
        "  \\caption{Distributional comparison (ECDF) of streamline length and curvature: baseline vs.\\ delayed control.}\n",
        "  \\label{fig:ecdf_len_curv}\n",
        "\\end{figure}\n",
        "\"\"\")\n",
        "print(\"📄 Saved -> analysis_out/fig_ecdf_curvature.pdf（LaTeXスニペットも出力）\")\n"
      ],
      "metadata": {
        "colab": {
          "base_uri": "https://localhost:8080/",
          "height": 302
        },
        "id": "cM5m4KU2Nw-a",
        "outputId": "e11382d2-f9de-478a-d043-cf18aa99de98"
      },
      "id": "cM5m4KU2Nw-a",
      "execution_count": 19,
      "outputs": [
        {
          "output_type": "stream",
          "name": "stdout",
          "text": [
            "Mounted at /content/drive\n",
            "Baseline not found. Creating u=0 baseline ...\n"
          ]
        },
        {
          "output_type": "error",
          "ename": "RuntimeError",
          "evalue": "solve_forward_geometric のシグネチャが想定外です。関数定義を教えてください。",
          "traceback": [
            "\u001b[0;31m---------------------------------------------------------------------------\u001b[0m",
            "\u001b[0;31mRuntimeError\u001b[0m                              Traceback (most recent call last)",
            "\u001b[0;32m/tmp/ipython-input-3707558225.py\u001b[0m in \u001b[0;36m<cell line: 0>\u001b[0;34m()\u001b[0m\n\u001b[1;32m     50\u001b[0m             \u001b[0;32mpass\u001b[0m\u001b[0;34m\u001b[0m\u001b[0;34m\u001b[0m\u001b[0m\n\u001b[1;32m     51\u001b[0m     \u001b[0;32mif\u001b[0m \u001b[0mtraj\u001b[0m \u001b[0;32mis\u001b[0m \u001b[0;32mNone\u001b[0m\u001b[0;34m:\u001b[0m\u001b[0;34m\u001b[0m\u001b[0;34m\u001b[0m\u001b[0m\n\u001b[0;32m---> 52\u001b[0;31m         \u001b[0;32mraise\u001b[0m \u001b[0mRuntimeError\u001b[0m\u001b[0;34m(\u001b[0m\u001b[0;34m\"solve_forward_geometric のシグネチャが想定外です。関数定義を教えてください。\"\u001b[0m\u001b[0;34m)\u001b[0m\u001b[0;34m\u001b[0m\u001b[0;34m\u001b[0m\u001b[0m\n\u001b[0m\u001b[1;32m     53\u001b[0m \u001b[0;34m\u001b[0m\u001b[0m\n\u001b[1;32m     54\u001b[0m     \u001b[0mcurv_base\u001b[0m \u001b[0;34m=\u001b[0m \u001b[0mcompute_clifford_curvature\u001b[0m\u001b[0;34m(\u001b[0m\u001b[0mtraj\u001b[0m\u001b[0;34m[\u001b[0m\u001b[0;34m-\u001b[0m\u001b[0;36m1\u001b[0m\u001b[0;34m]\u001b[0m\u001b[0;34m)\u001b[0m\u001b[0;34m\u001b[0m\u001b[0;34m\u001b[0m\u001b[0m\n",
            "\u001b[0;31mRuntimeError\u001b[0m: solve_forward_geometric のシグネチャが想定外です。関数定義を教えてください。"
          ]
        }
      ]
    },
    {
      "cell_type": "code",
      "source": [
        "# === Auto-detect forward solver -> make baseline if needed -> output curvature ECDF ===\n",
        "import os, sys, inspect, numpy as np, matplotlib\n",
        "matplotlib.use(\"Agg\")\n",
        "import matplotlib.pyplot as plt\n",
        "from google.colab import drive; drive.mount('/content/drive', force_remount=True)\n",
        "\n",
        "# -------- settings (control と同じに揃える) --------\n",
        "Nx, Ny = 64, 64\n",
        "T, dt  = 20, 1.0\n",
        "Nt     = int(round(T/dt)) + 1  # 実装により ±1 の調整あり\n",
        "SEED   = 0                     # control 実験と同じならその種 or f0.npy を読み込む\n",
        "\n",
        "BASE_P = \"/content/drive/MyDrive/ColabFiles/curvature_final_baseline.npy\"   # これを作る\n",
        "CTRL_P = \"/content/drive/MyDrive/ColabFiles/curvature_final.npy\"           # 既存（control 側）\n",
        "\n",
        "# 既存 baseline があればスキップ\n",
        "need_make = not os.path.exists(BASE_P)\n",
        "\n",
        "# -------- import your local modules --------\n",
        "sys.path.append(\"/content\")  # あなたの .py が見える場所\n",
        "mods = []\n",
        "for name in (\"CliffordDynamics\", \"forward\"):\n",
        "    try:\n",
        "        mods.append(__import__(name))\n",
        "        print(f\"✅ imported module: {name}\")\n",
        "    except Exception as e:\n",
        "        print(f\"⚠️ module not found or failed: {name} ({e})\")\n",
        "\n",
        "# -------- helper: curvature + ECDF --------\n",
        "from CliffordTensor import compute_clifford_curvature\n",
        "def ecdf_pdf(x, y, xlabel, out_pdf):\n",
        "    x = np.clip(np.asarray(x).ravel(), 0, None)\n",
        "    y = np.clip(np.asarray(y).ravel(), 0, None)\n",
        "    sx, px = np.sort(x), np.linspace(0,1,len(x),endpoint=True)\n",
        "    sy, py = np.sort(y), np.linspace(0,1,len(y),endpoint=True)\n",
        "    plt.figure(figsize=(6,4.5))\n",
        "    plt.step(sx, px, where=\"post\", label=\"Baseline\")\n",
        "    plt.step(sy, py, where=\"post\", label=\"Control\")\n",
        "    plt.xlabel(xlabel); plt.ylabel(\"ECDF\"); plt.legend()\n",
        "    plt.tight_layout(); plt.savefig(out_pdf, bbox_inches=\"tight\"); plt.close()\n",
        "\n",
        "# -------- forward candidates: auto-discover --------\n",
        "candidates = []\n",
        "for m in mods:\n",
        "    for fname, fn in inspect.getmembers(m, inspect.isfunction):\n",
        "        low = fname.lower()\n",
        "        if (\"forward\" in low or \"simulate\" in low or \"solve\" in low) and (\"back\" not in low):\n",
        "            sig = str(inspect.signature(fn))\n",
        "            candidates.append((m.__name__, fname, fn, sig))\n",
        "            print(f\"🔎 candidate: {m.__name__}.{fname}{sig}\")\n",
        "\n",
        "if not candidates and need_make:\n",
        "    raise RuntimeError(\"前進ソルバ関数が見つかりませんでした。modules: \" + \", \".join([m.__name__ for m in mods]))\n",
        "\n",
        "# -------- try to make baseline if needed --------\n",
        "if need_make:\n",
        "    # 初期場 f0：control と同一が理想。保存済み f0 があれば np.load で差し替えてください。\n",
        "    np.random.seed(SEED)\n",
        "    f0 = np.random.rand(Nx, Ny)\n",
        "\n",
        "    # A（スピン接続フィールド）: 2引数 or 3引数の両対応\n",
        "    from CliffordTensor import create_spin_connection_field\n",
        "    try:\n",
        "        A = create_spin_connection_field(Nx, Ny, Nt)\n",
        "    except TypeError:\n",
        "        A = create_spin_connection_field(Nx, Ny)\n",
        "\n",
        "    u2 = np.zeros((Nx, Ny))        # 時間不変\n",
        "    u3 = np.zeros((Nt, Nx, Ny))    # 時間変化\n",
        "\n",
        "    tried = []\n",
        "    traj = None\n",
        "    for mod_name, fname, fn, sig in candidates:\n",
        "        # 試す呼び方の組み合わせ\n",
        "        call_patterns = [\n",
        "            lambda: fn(f0, A, u2, T,  dt),\n",
        "            lambda: fn(f0, A, u3, T,  dt),\n",
        "            lambda: fn(f0, A, u3, Nt, dt),\n",
        "            lambda: fn(f0, A, u2, Nt, dt),\n",
        "            # 引数名がある場合のキーワード呼び\n",
        "            lambda: fn(f0=f0, A=A, u=u2, T=T, dt=dt),\n",
        "            lambda: fn(f0=f0, A=A, u=u3, T=T, dt=dt),\n",
        "            lambda: fn(f0=f0, A=A, u=u3, Nt=Nt, dt=dt),\n",
        "            lambda: fn(f0=f0, A=A, u=u2, Nt=Nt, dt=dt),\n",
        "        ]\n",
        "        for caller in call_patterns:\n",
        "            try:\n",
        "                traj = caller()\n",
        "                print(f\"✅ baseline forward succeeded with: {mod_name}.{fname}{sig}\")\n",
        "                break\n",
        "            except TypeError as e:\n",
        "                tried.append((f\"{mod_name}.{fname}{sig}\", str(e)))\n",
        "            except Exception as e:\n",
        "                tried.append((f\"{mod_name}.{fname}{sig}\", f\"{type(e).__name__}: {e}\"))\n",
        "        if traj is not None:\n",
        "            break\n",
        "\n",
        "    if traj is None:\n",
        "        # すべて失敗 → 失敗ログを要約表示\n",
        "        print(\"❌ すべての呼び方が失敗しました。試行ログ（先頭10）：\")\n",
        "        for k,(who, why) in enumerate(tried[:10]):\n",
        "            print(f\"  [{k:02d}] {who} -> {why}\")\n",
        "        raise RuntimeError(\"前進ソルバの正しい呼び方が自動推定できませんでした。\"\n",
        "                           \"上の 'candidate' と '試行ログ' を見て、該当する関数名と引数形に1つ固定してください。\")\n",
        "\n",
        "    # 最終時刻の曲率を保存\n",
        "    curv_base = compute_clifford_curvature(traj[-1])\n",
        "    os.makedirs(os.path.dirname(BASE_P), exist_ok=True)\n",
        "    np.save(BASE_P, curv_base)\n",
        "    print(\"💾 Saved baseline:\", BASE_P)\n",
        "else:\n",
        "    print(\"Baseline already exists:\", BASE_P)\n",
        "\n",
        "# -------- ECDF（曲率） --------\n",
        "if not os.path.exists(CTRL_P):\n",
        "    raise FileNotFoundError(f\"Control curvature missing: {CTRL_P}\")\n",
        "\n",
        "curv_base = np.load(BASE_P, allow_pickle=False).ravel()\n",
        "curv_ctrl = np.load(CTRL_P, allow_pickle=False).ravel()\n",
        "print(\"baseline:\", curv_base.shape, \"mean=\", float(curv_base.mean()))\n",
        "print(\"control :\", curv_ctrl.shape, \"mean=\", float(curv_ctrl.mean()))\n",
        "\n",
        "os.makedirs(\"analysis_out\", exist_ok=True)\n",
        "ecdf_pdf(curv_base, curv_ctrl, \"Streamline curvature (1/mm)\", \"analysis_out/fig_ecdf_curvature.pdf\")\n",
        "\n",
        "with open(\"analysis_out/fig_snippet_len_curv.tex\",\"w\") as f:\n",
        "    f.write(r\"\"\"\\begin{figure}[t]\n",
        "  \\centering\n",
        "  \\includegraphics[width=0.48\\linewidth]{fig_ecdf_length.pdf}\\hfill\n",
        "  \\includegraphics[width=0.48\\linewidth]{fig_ecdf_curvature.pdf}\n",
        "  \\caption{Distributional comparison (ECDF) of streamline length and curvature: baseline vs.\\ delayed control.}\n",
        "  \\label{fig:ecdf_len_curv}\n",
        "\\end{figure}\n",
        "\"\"\")\n",
        "print(\"📄 Saved -> analysis_out/fig_ecdf_curvature.pdf（LaTeXスニペットも出力）\")\n"
      ],
      "metadata": {
        "colab": {
          "base_uri": "https://localhost:8080/",
          "height": 630
        },
        "id": "LiA4y6RdOegL",
        "outputId": "a741561e-4809-4416-ecea-c7467ea211e9"
      },
      "id": "LiA4y6RdOegL",
      "execution_count": 20,
      "outputs": [
        {
          "output_type": "stream",
          "name": "stdout",
          "text": [
            "Mounted at /content/drive\n",
            "✅ imported module: CliffordDynamics\n",
            "✅ imported module: forward\n",
            "🔎 candidate: CliffordDynamics.solve_forward_geometric(f, A, u, dt)\n",
            "🔎 candidate: forward.solve_forward(f0, A, u, T=1.0)\n",
            "❌ すべての呼び方が失敗しました。試行ログ（先頭10）：\n",
            "  [00] CliffordDynamics.solve_forward_geometric(f, A, u, dt) -> solve_forward_geometric() takes 4 positional arguments but 5 were given\n",
            "  [01] CliffordDynamics.solve_forward_geometric(f, A, u, dt) -> solve_forward_geometric() takes 4 positional arguments but 5 were given\n",
            "  [02] CliffordDynamics.solve_forward_geometric(f, A, u, dt) -> solve_forward_geometric() takes 4 positional arguments but 5 were given\n",
            "  [03] CliffordDynamics.solve_forward_geometric(f, A, u, dt) -> solve_forward_geometric() takes 4 positional arguments but 5 were given\n",
            "  [04] CliffordDynamics.solve_forward_geometric(f, A, u, dt) -> solve_forward_geometric() got an unexpected keyword argument 'f0'\n",
            "  [05] CliffordDynamics.solve_forward_geometric(f, A, u, dt) -> solve_forward_geometric() got an unexpected keyword argument 'f0'\n",
            "  [06] CliffordDynamics.solve_forward_geometric(f, A, u, dt) -> solve_forward_geometric() got an unexpected keyword argument 'f0'\n",
            "  [07] CliffordDynamics.solve_forward_geometric(f, A, u, dt) -> solve_forward_geometric() got an unexpected keyword argument 'f0'\n",
            "  [08] forward.solve_forward(f0, A, u, T=1.0) -> solve_forward() takes from 3 to 4 positional arguments but 5 were given\n",
            "  [09] forward.solve_forward(f0, A, u, T=1.0) -> solve_forward() takes from 3 to 4 positional arguments but 5 were given\n"
          ]
        },
        {
          "output_type": "error",
          "ename": "RuntimeError",
          "evalue": "前進ソルバの正しい呼び方が自動推定できませんでした。上の 'candidate' と '試行ログ' を見て、該当する関数名と引数形に1つ固定してください。",
          "traceback": [
            "\u001b[0;31m---------------------------------------------------------------------------\u001b[0m",
            "\u001b[0;31mRuntimeError\u001b[0m                              Traceback (most recent call last)",
            "\u001b[0;32m/tmp/ipython-input-2030272089.py\u001b[0m in \u001b[0;36m<cell line: 0>\u001b[0;34m()\u001b[0m\n\u001b[1;32m    101\u001b[0m         \u001b[0;32mfor\u001b[0m \u001b[0mk\u001b[0m\u001b[0;34m,\u001b[0m\u001b[0;34m(\u001b[0m\u001b[0mwho\u001b[0m\u001b[0;34m,\u001b[0m \u001b[0mwhy\u001b[0m\u001b[0;34m)\u001b[0m \u001b[0;32min\u001b[0m \u001b[0menumerate\u001b[0m\u001b[0;34m(\u001b[0m\u001b[0mtried\u001b[0m\u001b[0;34m[\u001b[0m\u001b[0;34m:\u001b[0m\u001b[0;36m10\u001b[0m\u001b[0;34m]\u001b[0m\u001b[0;34m)\u001b[0m\u001b[0;34m:\u001b[0m\u001b[0;34m\u001b[0m\u001b[0;34m\u001b[0m\u001b[0m\n\u001b[1;32m    102\u001b[0m             \u001b[0mprint\u001b[0m\u001b[0;34m(\u001b[0m\u001b[0;34mf\"  [{k:02d}] {who} -> {why}\"\u001b[0m\u001b[0;34m)\u001b[0m\u001b[0;34m\u001b[0m\u001b[0;34m\u001b[0m\u001b[0m\n\u001b[0;32m--> 103\u001b[0;31m         raise RuntimeError(\"前進ソルバの正しい呼び方が自動推定できませんでした。\"\n\u001b[0m\u001b[1;32m    104\u001b[0m                            \"上の 'candidate' と '試行ログ' を見て、該当する関数名と引数形に1つ固定してください。\")\n\u001b[1;32m    105\u001b[0m \u001b[0;34m\u001b[0m\u001b[0m\n",
            "\u001b[0;31mRuntimeError\u001b[0m: 前進ソルバの正しい呼び方が自動推定できませんでした。上の 'candidate' と '試行ログ' を見て、該当する関数名と引数形に1つ固定してください。"
          ]
        }
      ]
    },
    {
      "cell_type": "code",
      "source": [
        "# === Baseline を (f0, A, u, dt) の4引数で作成 -> 曲率ECDFを出力 ===\n",
        "import os, sys, numpy as np, matplotlib\n",
        "matplotlib.use(\"Agg\")\n",
        "import matplotlib.pyplot as plt\n",
        "from google.colab import drive; drive.mount('/content/drive', force_remount=True)\n",
        "\n",
        "# ---- 実験条件（control と揃える）----\n",
        "Nx, Ny = 64, 64\n",
        "dt     = 1.0\n",
        "Nt     = 20  # 例：時間長は u の長さで決まるので、ここで必要本数だけ決める\n",
        "\n",
        "BASE_P = \"/content/drive/MyDrive/ColabFiles/curvature_final_baseline.npy\"  # 生成先\n",
        "CTRL_P = \"/content/drive/MyDrive/ColabFiles/curvature_final.npy\"           # 既存（control）\n",
        "\n",
        "# ---- 依存モジュール ----\n",
        "sys.path.append(\"/content\")\n",
        "from CliffordTensor import create_spin_connection_field, compute_clifford_curvature\n",
        "try:\n",
        "    from CliffordDynamics import solve_forward_geometric as forward_fn   # 第一候補\n",
        "except Exception:\n",
        "    from forward import solve_forward as forward_fn                      # 予備\n",
        "\n",
        "# === baseline を作る（無ければ）— 最終時刻で F/A を揃え、必要なら疑似バッチ化 ===\n",
        "if not os.path.exists(BASE_P):\n",
        "    np.random.seed(0)                  # control と同じ f0 があれば np.load に差し替え推奨\n",
        "    f0 = np.random.rand(Nx, Ny)\n",
        "\n",
        "    # A: 3引数 or 2引数どちらでもOK（時間依存/非依存）\n",
        "    try:\n",
        "        A = create_spin_connection_field(Nx, Ny, Nt)   # 例えば (Nt,Nx,Ny,3) or (Nt,Nx,Ny,3,3)\n",
        "    except TypeError:\n",
        "        A = create_spin_connection_field(Nx, Ny)       # 例えば (Nx,Ny,3) か (Nx,Ny,3,3)\n",
        "\n",
        "    # 前進：（f0, A, u, dt）… 時間長は u.shape[0] で決まる\n",
        "    u = np.zeros((Nt, Nx, Ny))\n",
        "    traj = forward_fn(f0, A, u, dt)                    # 4引数で呼ぶ\n",
        "\n",
        "    import numpy as np\n",
        "\n",
        "    def _final_T(arr):\n",
        "        arr = np.asarray(arr)\n",
        "        # 先頭が時間軸なら最後のスライス、そうでなければそのまま\n",
        "        return arr[-1] if (arr.ndim >= 3 and arr.shape[0] == Nt) else arr\n",
        "\n",
        "    def _ensure_vec3(F):\n",
        "        F = np.asarray(F)\n",
        "        # (Nx,Ny,3) に正規化：2Dや(Nx,Ny,1/2)なら3chへ拡張\n",
        "        if F.ndim == 2:\n",
        "            F = np.stack([F, np.zeros_like(F), np.zeros_like(F)], axis=-1)\n",
        "        elif F.ndim == 3:\n",
        "            if F.shape[-1] == 1:\n",
        "                F = np.concatenate([F, np.zeros_like(F), np.zeros_like(F)], axis=-1)\n",
        "            elif F.shape[-1] == 2:\n",
        "                pad = np.zeros(F.shape[:-1] + (1,), dtype=F.dtype)\n",
        "                F = np.concatenate([F, pad], axis=-1)\n",
        "            elif F.shape[-1] != 3:\n",
        "                raise ValueError(f\"Unsupported F channels: {F.shape}\")\n",
        "        else:\n",
        "            raise ValueError(f\"Unexpected F shape: {F.shape}\")\n",
        "        return F\n",
        "\n",
        "    def _pick_A(A):\n",
        "        A = np.asarray(A)\n",
        "        A_T = _final_T(A)\n",
        "        # 受け入れ形：(Nx,Ny,3) または (Nx,Ny,3,3)。2Dなら 3ch に拡張\n",
        "        if A_T.ndim == 2:\n",
        "            A_T = np.stack([A_T, np.zeros_like(A_T), np.zeros_like(A_T)], axis=-1)\n",
        "        elif A_T.ndim == 3 and A_T.shape[-1] in (1,2):\n",
        "            pad = np.zeros(A_T.shape[:-1] + (3 - A_T.shape[-1],), dtype=A_T.dtype)\n",
        "            A_T = np.concatenate([A_T, pad], axis=-1)\n",
        "        elif not ((A_T.ndim == 3 and A_T.shape[-1] == 3) or (A_T.ndim == 4 and A_T.shape[-2:] == (3,3))):\n",
        "            raise ValueError(f\"Unexpected A shape: {A_T.shape}\")\n",
        "        return A_T\n",
        "\n",
        "    # --- 最終時刻で揃える ---\n",
        "    F_T = _ensure_vec3(_final_T(traj))   # -> (Nx,Ny,3)\n",
        "    A_T = _pick_A(A)                     # -> (Nx,Ny,3) or (Nx,Ny,3,3)\n",
        "\n",
        "    # --- compute_clifford_curvature が「時間バッチ」を要求しても通るように疑似バッチ化 ---\n",
        "    try:\n",
        "        curv_base = compute_clifford_curvature(F_T, A_T)        # (f,A) 版\n",
        "    except TypeError:\n",
        "        # (f) 版 or 「時間軸つき」専用なら 1 本だけ時間軸を足してから取り出す\n",
        "        try:\n",
        "            curv_base = compute_clifford_curvature(F_T)         # (f) 版\n",
        "        except Exception:\n",
        "            Fb = F_T[None, ...]                                 # (1,Nx,Ny,3)\n",
        "            Ab = A_T[None, ...] if A_T.ndim >= 3 else A_T\n",
        "            curv_base = compute_clifford_curvature(Fb, Ab)[0]   # 先頭スライスを使用\n",
        "\n",
        "    os.makedirs(os.path.dirname(BASE_P), exist_ok=True)\n",
        "    np.save(BASE_P, curv_base)\n",
        "    print(\"✅ Saved baseline:\", BASE_P)\n",
        "else:\n",
        "    print(\"Baseline exists:\", BASE_P)\n",
        "\n",
        "\n",
        "\n",
        "# ---- ECDF（曲率）を作成 ----\n",
        "if not os.path.exists(CTRL_P):\n",
        "    raise FileNotFoundError(f\"Control curvature missing: {CTRL_P}\")\n",
        "\n",
        "curv_base = np.load(BASE_P, allow_pickle=False).ravel()\n",
        "curv_ctrl = np.load(CTRL_P, allow_pickle=False).ravel()\n",
        "\n",
        "def ecdf_pdf(x, y, xlabel, out_pdf):\n",
        "    x = np.clip(np.asarray(x).ravel(), 0, None)\n",
        "    y = np.clip(np.asarray(y).ravel(), 0, None)\n",
        "    sx, px = np.sort(x), np.linspace(0,1,len(x),endpoint=True)\n",
        "    sy, py = np.sort(y), np.linspace(0,1,len(y),endpoint=True)\n",
        "    plt.figure(figsize=(6,4.5))\n",
        "    plt.step(sx, px, where=\"post\", label=\"Baseline\")\n",
        "    plt.step(sy, py, where=\"post\", label=\"Control\")\n",
        "    plt.xlabel(xlabel); plt.ylabel(\"ECDF\"); plt.legend()\n",
        "    plt.tight_layout(); plt.savefig(out_pdf, bbox_inches=\"tight\"); plt.close()\n",
        "\n",
        "os.makedirs(\"analysis_out\", exist_ok=True)\n",
        "ecdf_pdf(curv_base, curv_ctrl, \"Streamline curvature (1/mm)\", \"analysis_out/fig_ecdf_curvature.pdf\")\n",
        "\n",
        "with open(\"analysis_out/fig_snippet_len_curv.tex\",\"w\") as f:\n",
        "    f.write(r\"\"\"\\begin{figure}[t]\n",
        "  \\centering\n",
        "  \\includegraphics[width=0.48\\linewidth]{fig_ecdf_length.pdf}\\hfill\n",
        "  \\includegraphics[width=0.48\\linewidth]{fig_ecdf_curvature.pdf}\n",
        "  \\caption{Distributional comparison (ECDF) of streamline length and curvature: baseline vs.\\ delayed control.}\n",
        "  \\label{fig:ecdf_len_curv}\n",
        "\\end{figure}\n",
        "\"\"\")\n",
        "print(\"📄 Saved -> analysis_out/fig_ecdf_curvature.pdf\")\n"
      ],
      "metadata": {
        "colab": {
          "base_uri": "https://localhost:8080/",
          "height": 634
        },
        "id": "2dhdxL8VPRZt",
        "outputId": "3e6c5d22-5380-4dd2-d305-47c410e87f6e"
      },
      "id": "2dhdxL8VPRZt",
      "execution_count": 24,
      "outputs": [
        {
          "output_type": "stream",
          "name": "stdout",
          "text": [
            "Mounted at /content/drive\n"
          ]
        },
        {
          "output_type": "error",
          "ename": "ValueError",
          "evalue": "operands could not be broadcast together with remapped shapes [original->remapped]: (20,64,64,3,3)->(20,64,64,3,3) (20,64,64)->(20,64,64) ",
          "traceback": [
            "\u001b[0;31m---------------------------------------------------------------------------\u001b[0m",
            "\u001b[0;31mValueError\u001b[0m                                Traceback (most recent call last)",
            "\u001b[0;32m/tmp/ipython-input-4111104973.py\u001b[0m in \u001b[0;36m<cell line: 0>\u001b[0;34m()\u001b[0m\n\u001b[1;32m     34\u001b[0m     \u001b[0;31m# 前進：（f0, A, u, dt）… 時間長は u.shape[0] で決まる\u001b[0m\u001b[0;34m\u001b[0m\u001b[0;34m\u001b[0m\u001b[0m\n\u001b[1;32m     35\u001b[0m     \u001b[0mu\u001b[0m \u001b[0;34m=\u001b[0m \u001b[0mnp\u001b[0m\u001b[0;34m.\u001b[0m\u001b[0mzeros\u001b[0m\u001b[0;34m(\u001b[0m\u001b[0;34m(\u001b[0m\u001b[0mNt\u001b[0m\u001b[0;34m,\u001b[0m \u001b[0mNx\u001b[0m\u001b[0;34m,\u001b[0m \u001b[0mNy\u001b[0m\u001b[0;34m)\u001b[0m\u001b[0;34m)\u001b[0m\u001b[0;34m\u001b[0m\u001b[0;34m\u001b[0m\u001b[0m\n\u001b[0;32m---> 36\u001b[0;31m     \u001b[0mtraj\u001b[0m \u001b[0;34m=\u001b[0m \u001b[0mforward_fn\u001b[0m\u001b[0;34m(\u001b[0m\u001b[0mf0\u001b[0m\u001b[0;34m,\u001b[0m \u001b[0mA\u001b[0m\u001b[0;34m,\u001b[0m \u001b[0mu\u001b[0m\u001b[0;34m,\u001b[0m \u001b[0mdt\u001b[0m\u001b[0;34m)\u001b[0m                    \u001b[0;31m# 4引数で呼ぶ\u001b[0m\u001b[0;34m\u001b[0m\u001b[0;34m\u001b[0m\u001b[0m\n\u001b[0m\u001b[1;32m     37\u001b[0m \u001b[0;34m\u001b[0m\u001b[0m\n\u001b[1;32m     38\u001b[0m     \u001b[0;32mimport\u001b[0m \u001b[0mnumpy\u001b[0m \u001b[0;32mas\u001b[0m \u001b[0mnp\u001b[0m\u001b[0;34m\u001b[0m\u001b[0;34m\u001b[0m\u001b[0m\n",
            "\u001b[0;32m/content/CliffordDynamics.py\u001b[0m in \u001b[0;36msolve_forward_geometric\u001b[0;34m(f, A, u, dt)\u001b[0m\n\u001b[1;32m      3\u001b[0m \u001b[0;34m\u001b[0m\u001b[0m\n\u001b[1;32m      4\u001b[0m \u001b[0;32mdef\u001b[0m \u001b[0msolve_forward_geometric\u001b[0m\u001b[0;34m(\u001b[0m\u001b[0mf\u001b[0m\u001b[0;34m,\u001b[0m \u001b[0mA\u001b[0m\u001b[0;34m,\u001b[0m \u001b[0mu\u001b[0m\u001b[0;34m,\u001b[0m \u001b[0mdt\u001b[0m\u001b[0;34m)\u001b[0m\u001b[0;34m:\u001b[0m\u001b[0;34m\u001b[0m\u001b[0;34m\u001b[0m\u001b[0m\n\u001b[0;32m----> 5\u001b[0;31m     \u001b[0;32mreturn\u001b[0m \u001b[0mf\u001b[0m \u001b[0;34m+\u001b[0m \u001b[0mdt\u001b[0m \u001b[0;34m*\u001b[0m \u001b[0;34m(\u001b[0m\u001b[0mnp\u001b[0m\u001b[0;34m.\u001b[0m\u001b[0meinsum\u001b[0m\u001b[0;34m(\u001b[0m\u001b[0;34m'...i,...i->...'\u001b[0m\u001b[0;34m,\u001b[0m \u001b[0mA\u001b[0m\u001b[0;34m,\u001b[0m \u001b[0mu\u001b[0m\u001b[0;34m)\u001b[0m \u001b[0;34m+\u001b[0m \u001b[0mu\u001b[0m\u001b[0;34m)\u001b[0m\u001b[0;34m\u001b[0m\u001b[0;34m\u001b[0m\u001b[0m\n\u001b[0m\u001b[1;32m      6\u001b[0m \u001b[0;34m\u001b[0m\u001b[0m\n\u001b[1;32m      7\u001b[0m \u001b[0;32mdef\u001b[0m \u001b[0msolve_backward_geometric\u001b[0m\u001b[0;34m(\u001b[0m\u001b[0mf_traj\u001b[0m\u001b[0;34m,\u001b[0m \u001b[0mA\u001b[0m\u001b[0;34m,\u001b[0m \u001b[0mdt\u001b[0m\u001b[0;34m,\u001b[0m \u001b[0mbeta\u001b[0m\u001b[0;34m)\u001b[0m\u001b[0;34m:\u001b[0m\u001b[0;34m\u001b[0m\u001b[0;34m\u001b[0m\u001b[0m\n",
            "\u001b[0;32m/usr/local/lib/python3.11/dist-packages/numpy/_core/einsumfunc.py\u001b[0m in \u001b[0;36meinsum\u001b[0;34m(out, optimize, *operands, **kwargs)\u001b[0m\n\u001b[1;32m   1427\u001b[0m         \u001b[0;32mif\u001b[0m \u001b[0mspecified_out\u001b[0m\u001b[0;34m:\u001b[0m\u001b[0;34m\u001b[0m\u001b[0;34m\u001b[0m\u001b[0m\n\u001b[1;32m   1428\u001b[0m             \u001b[0mkwargs\u001b[0m\u001b[0;34m[\u001b[0m\u001b[0;34m'out'\u001b[0m\u001b[0;34m]\u001b[0m \u001b[0;34m=\u001b[0m \u001b[0mout\u001b[0m\u001b[0;34m\u001b[0m\u001b[0;34m\u001b[0m\u001b[0m\n\u001b[0;32m-> 1429\u001b[0;31m         \u001b[0;32mreturn\u001b[0m \u001b[0mc_einsum\u001b[0m\u001b[0;34m(\u001b[0m\u001b[0;34m*\u001b[0m\u001b[0moperands\u001b[0m\u001b[0;34m,\u001b[0m \u001b[0;34m**\u001b[0m\u001b[0mkwargs\u001b[0m\u001b[0;34m)\u001b[0m\u001b[0;34m\u001b[0m\u001b[0;34m\u001b[0m\u001b[0m\n\u001b[0m\u001b[1;32m   1430\u001b[0m \u001b[0;34m\u001b[0m\u001b[0m\n\u001b[1;32m   1431\u001b[0m     \u001b[0;31m# Check the kwargs to avoid a more cryptic error later, without having to\u001b[0m\u001b[0;34m\u001b[0m\u001b[0;34m\u001b[0m\u001b[0m\n",
            "\u001b[0;31mValueError\u001b[0m: operands could not be broadcast together with remapped shapes [original->remapped]: (20,64,64,3,3)->(20,64,64,3,3) (20,64,64)->(20,64,64) "
          ]
        }
      ]
    },
    {
      "cell_type": "code",
      "source": [
        "# --- 前準備 ---\n",
        "import os, sys, numpy as np, matplotlib\n",
        "matplotlib.use(\"Agg\")\n",
        "import matplotlib.pyplot as plt\n",
        "from google.colab import drive; drive.mount('/content/drive', force_remount=True)\n",
        "sys.path.append(\"/content\")\n",
        "\n",
        "from CliffordTensor import create_spin_connection_field, compute_clifford_curvature\n",
        "import CliffordDynamics as CD\n",
        "\n",
        "# --- ① solve_forward_geometric を“行列×ベクトル”で動くようにパッチ ---\n",
        "def forward_fixed(f, A, u, dt):\n",
        "    f = np.asarray(f)\n",
        "    A = np.asarray(A)\n",
        "    u = np.asarray(u)\n",
        "\n",
        "    # f: (...,3) に正規化\n",
        "    if f.ndim == 2:\n",
        "        f = np.zeros(f.shape + (3,), dtype=f.dtype)\n",
        "\n",
        "    # u: (...,3) に正規化（スカラーなら3chに拡張）\n",
        "    if u.ndim == 3:  # (Nt,Nx,Ny)\n",
        "        u = np.zeros(u.shape + (3,), dtype=u.dtype)\n",
        "\n",
        "    # A が (...,3,3) なら行列×ベクトル、(...,3) ならベクトル×スカラー/ベクトル\n",
        "    if A.shape[-2:] == (3,3):\n",
        "        adv = np.einsum('...ij,...j->...i', A, u)          # 行列×ベクトル -> ベクトル\n",
        "    elif A.shape[-1] == 3:\n",
        "        # A: ベクトル場, u: スカラーorベクトル -> ベクトル\n",
        "        if u.shape[-1] == 3:\n",
        "            adv = np.einsum('...i,...i->...i', A, u)       # 要素積\n",
        "        else:\n",
        "            adv = np.einsum('...i,...->...i', A, u)        # ベクトル×スカラー\n",
        "    else:\n",
        "        raise ValueError(f\"Unsupported A shape: {A.shape}\")\n",
        "\n",
        "    return f + dt * (adv + u)  # ベクトル + ベクトル\n",
        "\n",
        "CD.solve_forward_geometric = forward_fixed  # モンキーパッチ\n",
        "\n",
        "# --- ② パラメータ（control と揃える） ---\n",
        "Nx, Ny = 64, 64\n",
        "dt     = 1.0\n",
        "Nt     = 20\n",
        "\n",
        "BASE_P = \"/content/drive/MyDrive/ColabFiles/curvature_final_baseline.npy\"\n",
        "CTRL_P = \"/content/drive/MyDrive/ColabFiles/curvature_final.npy\"\n",
        "\n",
        "# === baseline を作る（無ければ）— Aから直接曲率を計算 ===\n",
        "if not os.path.exists(BASE_P):\n",
        "    # f0 / forward は不要。A だけ用意すれば良い。\n",
        "    try:\n",
        "        A = create_spin_connection_field(Nx, Ny, Nt)   # -> (Nt, Nx, Ny, 3, 3) のはず\n",
        "    except TypeError:\n",
        "        A = create_spin_connection_field(Nx, Ny)       # -> (Nx, Ny, 3, 3) の場合がある\n",
        "\n",
        "    A = np.asarray(A)\n",
        "    # compute_clifford_curvature が期待する形 (Nt, Nx, Ny, 3, 3) に揃える\n",
        "    if A.ndim == 4 and A.shape[-2:] == (3,3):          # 時間軸なし\n",
        "        A_in = A[None, ...]                             # -> (1, Nx, Ny, 3, 3)\n",
        "    elif A.ndim == 5 and A.shape[-2:] == (3,3):\n",
        "        A_in = A                                        # そのまま\n",
        "    else:\n",
        "        raise ValueError(f\"Unexpected A shape for curvature: {A.shape}\")\n",
        "\n",
        "    # 曲率系列を計算：返りは (Nt, 3, Nx, Ny)\n",
        "    curv_series = compute_clifford_curvature(A_in)\n",
        "\n",
        "    # 最終時刻 t = -1 の曲率ベクトルのノルム → (Nx, Ny) のスカラーマップに\n",
        "    curv_T_vec = np.asarray(curv_series)[-1]            # (3, Nx, Ny)\n",
        "    curv_base  = np.linalg.norm(curv_T_vec, axis=0)     # (Nx, Ny)\n",
        "\n",
        "    os.makedirs(os.path.dirname(BASE_P), exist_ok=True)\n",
        "    np.save(BASE_P, curv_base)\n",
        "    print(\"✅ Saved baseline curvature map:\", BASE_P)\n",
        "else:\n",
        "    print(\"Baseline exists:\", BASE_P)\n",
        "\n",
        "# --- ④ 曲率ECDFを出力 ---\n",
        "if not os.path.exists(CTRL_P):\n",
        "    raise FileNotFoundError(f\"Control curvature missing: {CTRL_P}\")\n",
        "\n",
        "curv_base = np.load(BASE_P, allow_pickle=False).ravel()\n",
        "curv_ctrl = np.load(CTRL_P, allow_pickle=False).ravel()\n",
        "\n",
        "def ecdf_pdf(x, y, xlabel, out_pdf):\n",
        "    x = np.clip(np.asarray(x).ravel(), 0, None)\n",
        "    y = np.clip(np.asarray(y).ravel(), 0, None)\n",
        "    sx, px = np.sort(x), np.linspace(0,1,len(x),endpoint=True)\n",
        "    sy, py = np.sort(y), np.linspace(0,1,len(y),endpoint=True)\n",
        "    plt.figure(figsize=(6,4.5))\n",
        "    plt.step(sx, px, where=\"post\", label=\"Baseline\")\n",
        "    plt.step(sy, py, where=\"post\", label=\"Control\")\n",
        "    plt.xlabel(xlabel); plt.ylabel(\"ECDF\"); plt.legend()\n",
        "    plt.tight_layout(); plt.savefig(out_pdf, bbox_inches=\"tight\"); plt.close()\n",
        "\n",
        "os.makedirs(\"analysis_out\", exist_ok=True)\n",
        "ecdf_pdf(curv_base, curv_ctrl, \"Streamline curvature (1/mm)\", \"analysis_out/fig_ecdf_curvature.pdf\")\n",
        "\n",
        "with open(\"analysis_out/fig_snippet_len_curv.tex\",\"w\") as f:\n",
        "    f.write(r\"\"\"\\begin{figure}[t]\n",
        "  \\centering\n",
        "  \\includegraphics[width=0.48\\linewidth]{fig_ecdf_length.pdf}\\hfill\n",
        "  \\includegraphics[width=0.48\\linewidth]{fig_ecdf_curvature.pdf}\n",
        "  \\caption{Distributional comparison (ECDF) of streamline length and curvature: baseline vs.\\ delayed control.}\n",
        "  \\label{fig:ecdf_len_curv}\n",
        "\\end{figure}\n",
        "\"\"\")\n",
        "print(\"📄 Saved -> analysis_out/fig_ecdf_curvature.pdf（LaTeX スニペットも出力）\")\n"
      ],
      "metadata": {
        "colab": {
          "base_uri": "https://localhost:8080/"
        },
        "id": "IFQ4ad9rVKRY",
        "outputId": "3899fba8-3aa0-46c5-b344-e627e1a8594a"
      },
      "id": "IFQ4ad9rVKRY",
      "execution_count": 26,
      "outputs": [
        {
          "output_type": "stream",
          "name": "stdout",
          "text": [
            "Mounted at /content/drive\n",
            "✅ Saved baseline curvature map: /content/drive/MyDrive/ColabFiles/curvature_final_baseline.npy\n",
            "📄 Saved -> analysis_out/fig_ecdf_curvature.pdf（LaTeX スニペットも出力）\n"
          ]
        }
      ]
    },
    {
      "cell_type": "code",
      "source": [
        "# === Curvature ECDF: show n in legend, add KS & p, mono line styles ===\n",
        "import os, numpy as np, matplotlib\n",
        "matplotlib.use(\"Agg\")\n",
        "import matplotlib.pyplot as plt\n",
        "\n",
        "# ★必要に応じてパスを調整\n",
        "BASE = \"/content/drive/MyDrive/ColabFiles/curvature_final_baseline.npy\"\n",
        "CTRL = \"/content/drive/MyDrive/ColabFiles/curvature_final.npy\"\n",
        "\n",
        "# ---- load & sanitize ----\n",
        "x = np.load(BASE, allow_pickle=False).ravel()\n",
        "y = np.load(CTRL, allow_pickle=False).ravel()\n",
        "x = np.clip(x[np.isfinite(x)], 0, None)\n",
        "y = np.clip(y[np.isfinite(y)], 0, None)\n",
        "n_x, n_y = x.size, y.size\n",
        "\n",
        "# ---- ECDF helper ----\n",
        "def ecdf(v):\n",
        "    v = np.sort(v)\n",
        "    p = np.linspace(0, 1, len(v), endpoint=True)\n",
        "    return v, p\n",
        "\n",
        "# ---- KS test (SciPy→fallback) ----\n",
        "def ks_2samp_np(a, b):\n",
        "    # D\n",
        "    sa = np.sort(a); sb = np.sort(b)\n",
        "    ua = np.searchsorted(sa, np.r_[sb, np.inf], side=\"right\")/sa.size\n",
        "    ub = np.searchsorted(sb, np.r_[sa, np.inf], side=\"right\")/sb.size\n",
        "    # 差の最大\n",
        "    D = max(np.max(np.abs(ua[:-1] - np.arange(1, sb.size+1)/sb.size)),\n",
        "            np.max(np.abs(ub[:-1] - np.arange(1, sa.size+1)/sa.size)))\n",
        "    # p（Kolmogorov近似）\n",
        "    ne = (sa.size*sb.size)/(sa.size+sb.size)\n",
        "    t = (np.sqrt(ne) + 0.12 + 0.11/np.sqrt(ne)) * D\n",
        "    # Q_KS(t) ≈ 2 * Σ (-1)^{k-1} exp(-2 k^2 t^2)\n",
        "    p = 0.0\n",
        "    for k in range(1, 101):\n",
        "        p += (-1)**(k-1) * np.exp(-2*(k*k)*(t*t))\n",
        "    p = 2*p\n",
        "    return D, float(max(min(p, 1.0), 0.0))\n",
        "\n",
        "try:\n",
        "    from scipy.stats import ks_2samp\n",
        "    D, p = ks_2samp(x, y, alternative=\"two-sided\").statistic, ks_2samp(x, y, alternative=\"two-sided\").pvalue\n",
        "except Exception:\n",
        "    D, p = ks_2samp_np(x, y)\n",
        "\n",
        "# ---- figure (mono; line styles for print) ----\n",
        "plt.figure(figsize=(6,4.5))\n",
        "sx, px = ecdf(x)\n",
        "sy, py = ecdf(y)\n",
        "lw = 1.8\n",
        "plt.step(sx, px, where=\"post\", color=\"k\",\n",
        "         linestyle=\"-\", linewidth=lw, label=f\"Baseline (n={n_x:,})\")\n",
        "plt.step(sy, py, where=\"post\", color=\"k\",\n",
        "         linestyle=\"--\", linewidth=lw, label=f\"Control (n={n_y:,})\")\n",
        "plt.xlabel(\"Streamline curvature (1/mm)\")\n",
        "plt.ylabel(\"ECDF\")\n",
        "plt.legend(frameon=False, loc=\"lower right\")\n",
        "\n",
        "# KS注記（軸座標）\n",
        "def p_str(p):\n",
        "    return f\"{p:.3g}\" if p >= 1e-3 else f\"{p:.1e}\"\n",
        "txt = f\"KS = {D:.3f},  p = {p_str(p)}\"\n",
        "plt.gca().text(0.02, 0.98, txt, transform=plt.gca().transAxes,\n",
        "               va=\"top\", ha=\"left\", fontsize=10)\n",
        "\n",
        "plt.tight_layout()\n",
        "os.makedirs(\"analysis_out\", exist_ok=True)\n",
        "out_pdf = \"analysis_out/fig_ecdf_curvature.pdf\"\n",
        "plt.savefig(out_pdf, bbox_inches=\"tight\")\n",
        "plt.close()\n",
        "print(\"✅ Saved:\", out_pdf)\n",
        "\n",
        "# ---- LaTeX スニペットを n と KS/p 付きで上書き ----\n",
        "with open(\"analysis_out/fig_snippet_len_curv.tex\",\"w\") as f:\n",
        "    f.write(rf\"\"\"\\begin{figure}[t]\n",
        "  \\centering\n",
        "  \\includegraphics[width=0.48\\linewidth]{{fig_ecdf_length.pdf}}\\hfill\n",
        "  \\includegraphics[width=0.48\\linewidth]{{fig_ecdf_curvature.pdf}}\n",
        "  \\caption{{Distributional comparison (ECDF) of streamline length and curvature:\n",
        "  baseline (n={n_x:,}) vs.\\ delayed control (n={n_y:,}). Curvature KS={D:.3f}, p={p_str(p)}.}}\n",
        "  \\label{{fig:ecdf_len_curv}}\n",
        "\\end{figure}\n",
        "\"\"\")\n",
        "print(\"✍️  Updated caption written to analysis_out/fig_snippet_len_curv.tex\")\n"
      ],
      "metadata": {
        "colab": {
          "base_uri": "https://localhost:8080/",
          "height": 280
        },
        "id": "vNZ0SErNXoEh",
        "outputId": "bf6da54f-050a-46c9-ca4b-f7abbcd1e22f"
      },
      "id": "vNZ0SErNXoEh",
      "execution_count": 27,
      "outputs": [
        {
          "output_type": "stream",
          "name": "stdout",
          "text": [
            "✅ Saved: analysis_out/fig_ecdf_curvature.pdf\n"
          ]
        },
        {
          "output_type": "error",
          "ename": "NameError",
          "evalue": "name 'figure' is not defined",
          "traceback": [
            "\u001b[0;31m---------------------------------------------------------------------------\u001b[0m",
            "\u001b[0;31mNameError\u001b[0m                                 Traceback (most recent call last)",
            "\u001b[0;32m/tmp/ipython-input-3892008243.py\u001b[0m in \u001b[0;36m<cell line: 0>\u001b[0;34m()\u001b[0m\n\u001b[1;32m     75\u001b[0m \u001b[0;31m# ---- LaTeX スニペットを n と KS/p 付きで上書き ----\u001b[0m\u001b[0;34m\u001b[0m\u001b[0;34m\u001b[0m\u001b[0m\n\u001b[1;32m     76\u001b[0m \u001b[0;32mwith\u001b[0m \u001b[0mopen\u001b[0m\u001b[0;34m(\u001b[0m\u001b[0;34m\"analysis_out/fig_snippet_len_curv.tex\"\u001b[0m\u001b[0;34m,\u001b[0m\u001b[0;34m\"w\"\u001b[0m\u001b[0;34m)\u001b[0m \u001b[0;32mas\u001b[0m \u001b[0mf\u001b[0m\u001b[0;34m:\u001b[0m\u001b[0;34m\u001b[0m\u001b[0;34m\u001b[0m\u001b[0m\n\u001b[0;32m---> 77\u001b[0;31m     f.write(rf\"\"\"\\begin{figure}[t]\n\u001b[0m\u001b[1;32m     78\u001b[0m   \u001b[0;31m\\\u001b[0m\u001b[0mcentering\u001b[0m\u001b[0;34m\u001b[0m\u001b[0;34m\u001b[0m\u001b[0m\n\u001b[1;32m     79\u001b[0m   \u001b[0;31m\\\u001b[0m\u001b[0mincludegraphics\u001b[0m\u001b[0;34m[\u001b[0m\u001b[0mwidth\u001b[0m\u001b[0;34m=\u001b[0m\u001b[0;36m0.48\u001b[0m\u001b[0;31m\\\u001b[0m\u001b[0mlinewidth\u001b[0m\u001b[0;34m]\u001b[0m\u001b[0;34m{\u001b[0m\u001b[0;34m{\u001b[0m\u001b[0mfig_ecdf_length\u001b[0m\u001b[0;34m.\u001b[0m\u001b[0mpdf\u001b[0m\u001b[0;34m}\u001b[0m\u001b[0;34m}\u001b[0m\u001b[0;31m\\\u001b[0m\u001b[0mhfill\u001b[0m\u001b[0;34m\u001b[0m\u001b[0;34m\u001b[0m\u001b[0m\n",
            "\u001b[0;31mNameError\u001b[0m: name 'figure' is not defined"
          ]
        }
      ]
    },
    {
      "cell_type": "code",
      "source": [
        "# === ECDF of streamline length (baseline vs control) ===\n",
        "import os, re, numpy as np, matplotlib\n",
        "matplotlib.use(\"Agg\")\n",
        "import matplotlib.pyplot as plt\n",
        "from google.colab import drive; drive.mount('/content/drive', force_remount=True)\n",
        "\n",
        "ROOT = \"/content/drive/MyDrive\"\n",
        "os.makedirs(\"analysis_out\", exist_ok=True)\n",
        "\n",
        "# ---- (必要なら手動指定; 自動探索が失敗したらここにパスを入れる) ----\n",
        "LEN_BASE = None  # 例: \"/content/drive/MyDrive/ColabFiles/length_baseline.npy\"\n",
        "LEN_CTRL = None  # 例: \"/content/drive/MyDrive/ColabFiles/length_control.npy\"\n",
        "SL_BASE  = None  # 例: \"/content/drive/MyDrive/ColabFiles/streamlines_baseline.npy\"\n",
        "SL_CTRL  = None  # 例: \"/content/drive/MyDrive/ColabFiles/streamlines_control.npy\"\n",
        "\n",
        "# ---- helpers ----\n",
        "def _np_load_any(p):\n",
        "    if p.endswith(\".npy\"):\n",
        "        return np.load(p, allow_pickle=True)\n",
        "    if p.endswith(\".npz\"):\n",
        "        z = np.load(p, allow_pickle=True)\n",
        "        # 最大配列を採用\n",
        "        best, n = None, -1\n",
        "        for k in z.files:\n",
        "            a = np.asarray(z[k])\n",
        "            if a.size > n:\n",
        "                best, n = a, a.size\n",
        "        return best\n",
        "    raise ValueError(\"Use .npy or .npz\")\n",
        "\n",
        "def _lengths_from_streamlines(S):\n",
        "    S = np.asarray(S)\n",
        "    if S.ndim != 3 or S.shape[2] != 3:\n",
        "        raise ValueError(f\"Expect (S,P,3), got {S.shape}\")\n",
        "    seg = np.linalg.norm(np.diff(S, axis=1), axis=2)  # (S,P-1)\n",
        "    return np.sum(seg, axis=1)                        # (S,)\n",
        "\n",
        "def _ecdf(v):\n",
        "    v = np.sort(v)\n",
        "    p = np.linspace(0, 1, v.size, endpoint=True)\n",
        "    return v, p\n",
        "\n",
        "def _ks_2samp_np(a, b):\n",
        "    # SciPyなしの近似\n",
        "    sa, sb = np.sort(a), np.sort(b)\n",
        "    # ECDF差の最大\n",
        "    ua = np.searchsorted(sa, np.r_[sb, np.inf], side=\"right\")/sa.size\n",
        "    ub = np.searchsorted(sb, np.r_[sa, np.inf], side=\"right\")/sb.size\n",
        "    D = max(np.max(np.abs(ua[:-1] - np.arange(1, sb.size+1)/sb.size)),\n",
        "            np.max(np.abs(ub[:-1] - np.arange(1, sa.size+1)/sa.size)))\n",
        "    ne = (sa.size*sb.size)/(sa.size+sb.size)\n",
        "    t = (np.sqrt(ne) + 0.12 + 0.11/np.sqrt(ne)) * D\n",
        "    p = 0.0\n",
        "    for k in range(1, 101):\n",
        "        p += (-1)**(k-1) * np.exp(-2*(k*k)*(t*t))\n",
        "    return D, float(max(min(2*p, 1.0), 0.0))\n",
        "\n",
        "def _pstr(p):\n",
        "    return f\"{p:.3g}\" if p >= 1e-3 else f\"{p:.1e}\"\n",
        "\n",
        "# ---- 自動探索（長さファイル → 失敗ならストリームライン）----\n",
        "def _auto_pick():\n",
        "    # 1) 1次元の length 候補\n",
        "    len_hits = []\n",
        "    for root, dirs, files in os.walk(ROOT):\n",
        "        for name in files:\n",
        "            low = name.lower()\n",
        "            if not (low.endswith(\".npy\") or low.endswith(\".npz\")):\n",
        "                continue\n",
        "            if (\"length\" in low or re.search(r\"\\blen\\b\", low)):\n",
        "                p = os.path.join(root, name)\n",
        "                try:\n",
        "                    arr = _np_load_any(p)\n",
        "                    a = np.asarray(arr).ravel()\n",
        "                    if np.isfinite(a).sum() >= 10:   # 最低限\n",
        "                        len_hits.append(p)\n",
        "                except Exception:\n",
        "                    pass\n",
        "\n",
        "    def _is_base(p):\n",
        "        q = p.lower()\n",
        "        return any(k in q for k in [\"base\", \"baseline\", \"noctrl\", \"nocontrol\", \"modela\"])\n",
        "    def _is_ctrl(p):\n",
        "        q = p.lower()\n",
        "        return any(k in q for k in [\"ctrl\", \"control\", \"delayed\", \"modelb\"])\n",
        "\n",
        "    len_base = next((p for p in len_hits if _is_base(p)), None)\n",
        "    len_ctrl = next((p for p in len_hits if _is_ctrl(p)), None)\n",
        "\n",
        "    if len_base and len_ctrl:\n",
        "        return (\"len\", len_base, len_ctrl)\n",
        "\n",
        "    # 2) ストリームライン候補 (S,P,3)\n",
        "    sl_hits = []\n",
        "    for root, dirs, files in os.walk(ROOT):\n",
        "        for name in files:\n",
        "            low = name.lower()\n",
        "            if not (low.endswith(\".npy\") or low.endswith(\".npz\")):\n",
        "                continue\n",
        "            if any(k in low for k in [\"streamline\", \"streamlines\", \"tract\", \"fiber\"]):\n",
        "                p = os.path.join(root, name)\n",
        "                try:\n",
        "                    arr = _np_load_any(p)\n",
        "                    A = np.asarray(arr)\n",
        "                    if A.ndim == 3 and A.shape[2] == 3 and A.shape[0] >= 10 and A.shape[1] >= 2:\n",
        "                        sl_hits.append(p)\n",
        "                except Exception:\n",
        "                    pass\n",
        "\n",
        "    sl_base = next((p for p in sl_hits if _is_base(p)), None)\n",
        "    sl_ctrl = next((p for p in sl_hits if _is_ctrl(p)), None)\n",
        "\n",
        "    if sl_base and sl_ctrl:\n",
        "        return (\"sl\", sl_base, sl_ctrl)\n",
        "\n",
        "    return (None, None, None)\n",
        "\n",
        "# ---- 入力の決定 ----\n",
        "mode = None\n",
        "if LEN_BASE and LEN_CTRL:\n",
        "    mode, p_base, p_ctrl = \"len\", LEN_BASE, LEN_CTRL\n",
        "elif SL_BASE and SL_CTRL:\n",
        "    mode, p_base, p_ctrl = \"sl\", SL_BASE, SL_CTRL\n",
        "else:\n",
        "    mode, p_base, p_ctrl = _auto_pick()\n",
        "\n",
        "if mode is None:\n",
        "    raise RuntimeError(\n",
        "        \"Lengthの入力が見つかりませんでした。LEN_BASE/LEN_CTRL か SL_BASE/SL_CTRL を手動で指定してください。\"\n",
        "    )\n",
        "\n",
        "print(f\"Detected mode: {mode}  \\nBASE: {p_base}\\nCTRL: {p_ctrl}\")\n",
        "\n",
        "# ---- 長さ配列を用意 ----\n",
        "if mode == \"len\":\n",
        "    len_base = np.asarray(_np_load_any(p_base)).ravel()\n",
        "    len_ctrl = np.asarray(_np_load_any(p_ctrl)).ravel()\n",
        "else:  # mode == \"sl\"\n",
        "    S_base = _np_load_any(p_base)\n",
        "    S_ctrl = _np_load_any(p_ctrl)\n",
        "    len_base = _lengths_from_streamlines(S_base)\n",
        "    len_ctrl = _lengths_from_streamlines(S_ctrl)\n",
        "\n",
        "# サニタイズ\n",
        "len_base = np.clip(len_base[np.isfinite(len_base)], 0, None)\n",
        "len_ctrl = np.clip(len_ctrl[np.isfinite(len_ctrl)], 0, None)\n",
        "\n",
        "# ---- KS test ----\n",
        "try:\n",
        "    from scipy.stats import ks_2samp\n",
        "    D, p = ks_2samp(len_base, len_ctrl, alternative=\"two-sided\")\n",
        "    D, p = float(D.statistic), float(D.pvalue)\n",
        "except Exception:\n",
        "    D, p = _ks_2samp_np(len_base, len_ctrl)\n",
        "\n",
        "# ---- 図作成（モノクロ・線種違い・凡例に n）----\n",
        "sx, px = _ecdf(len_base)\n",
        "sy, py = _ecdf(len_ctrl)\n",
        "plt.figure(figsize=(6,4.5))\n",
        "lw = 1.8\n",
        "plt.step(sx, px, where=\"post\", color=\"k\", linestyle=\"-\",  linewidth=lw,\n",
        "         label=f\"Baseline (n={len(len_base):,})\")\n",
        "plt.step(sy, py, where=\"post\", color=\"k\", linestyle=\"--\", linewidth=lw,\n",
        "         label=f\"Control (n={len(len_ctrl):,})\")\n",
        "plt.xlabel(\"Streamline length (mm)\")\n",
        "plt.ylabel(\"ECDF\")\n",
        "plt.legend(frameon=False, loc=\"lower right\")\n",
        "plt.gca().text(0.02, 0.98, f\"KS = {D:.3f},  p = {_pstr(p)}\",\n",
        "               transform=plt.gca().transAxes, va=\"top\", ha=\"left\", fontsize=10)\n",
        "plt.tight_layout()\n",
        "out_pdf = \"analysis_out/fig_ecdf_length.pdf\"\n",
        "plt.savefig(out_pdf, bbox_inches=\"tight\")\n",
        "plt.close()\n",
        "print(\"✅ Saved:\", out_pdf)\n"
      ],
      "metadata": {
        "colab": {
          "base_uri": "https://localhost:8080/",
          "height": 280
        },
        "id": "6CrIX9kSY9sD",
        "outputId": "107b542c-f1fc-45ac-85f9-045d56ff2b87"
      },
      "id": "6CrIX9kSY9sD",
      "execution_count": 28,
      "outputs": [
        {
          "output_type": "stream",
          "name": "stdout",
          "text": [
            "Mounted at /content/drive\n"
          ]
        },
        {
          "output_type": "error",
          "ename": "RuntimeError",
          "evalue": "Lengthの入力が見つかりませんでした。LEN_BASE/LEN_CTRL か SL_BASE/SL_CTRL を手動で指定してください。",
          "traceback": [
            "\u001b[0;31m---------------------------------------------------------------------------\u001b[0m",
            "\u001b[0;31mRuntimeError\u001b[0m                              Traceback (most recent call last)",
            "\u001b[0;32m/tmp/ipython-input-751635.py\u001b[0m in \u001b[0;36m<cell line: 0>\u001b[0;34m()\u001b[0m\n\u001b[1;32m    126\u001b[0m \u001b[0;34m\u001b[0m\u001b[0m\n\u001b[1;32m    127\u001b[0m \u001b[0;32mif\u001b[0m \u001b[0mmode\u001b[0m \u001b[0;32mis\u001b[0m \u001b[0;32mNone\u001b[0m\u001b[0;34m:\u001b[0m\u001b[0;34m\u001b[0m\u001b[0;34m\u001b[0m\u001b[0m\n\u001b[0;32m--> 128\u001b[0;31m     raise RuntimeError(\n\u001b[0m\u001b[1;32m    129\u001b[0m         \u001b[0;34m\"Lengthの入力が見つかりませんでした。LEN_BASE/LEN_CTRL か SL_BASE/SL_CTRL を手動で指定してください。\"\u001b[0m\u001b[0;34m\u001b[0m\u001b[0;34m\u001b[0m\u001b[0m\n\u001b[1;32m    130\u001b[0m     )\n",
            "\u001b[0;31mRuntimeError\u001b[0m: Lengthの入力が見つかりませんでした。LEN_BASE/LEN_CTRL か SL_BASE/SL_CTRL を手動で指定してください。"
          ]
        }
      ]
    },
    {
      "cell_type": "code",
      "source": [
        "# === Make fig_ecdf_length.pdf (auto-pick any (S,P,3) arrays, mono, KS & p shown) ===\n",
        "import os, re, numpy as np, matplotlib\n",
        "matplotlib.use(\"Agg\")\n",
        "import matplotlib.pyplot as plt\n",
        "from google.colab import drive; drive.mount('/content/drive', force_remount=True)\n",
        "\n",
        "ROOT = \"/content/drive/MyDrive\"\n",
        "os.makedirs(\"analysis_out\", exist_ok=True)\n",
        "\n",
        "# --- 手動指定したい場合はここに入れる（あれば最優先で使う） ---\n",
        "SL_BASE = None  # 例: \"/content/drive/MyDrive/.../streamlines_baseline.npy\"\n",
        "SL_CTRL = None  # 例: \"/content/drive/MyDrive/.../streamlines_control.npy\"\n",
        "\n",
        "# --- helpers ---\n",
        "def np_load_any(p):\n",
        "    if p.lower().endswith(\".npy\"):\n",
        "        return np.load(p, allow_pickle=True)\n",
        "    z = np.load(p, allow_pickle=True)  # .npz\n",
        "    best, n = None, -1\n",
        "    for k in z.files:\n",
        "        a = np.asarray(z[k])\n",
        "        if a.size > n:\n",
        "            best, n = a, a.size\n",
        "    return best\n",
        "\n",
        "def lengths_from_streamlines(S):\n",
        "    S = np.asarray(S)\n",
        "    if S.ndim != 3 or S.shape[2] != 3:\n",
        "        raise ValueError(f\"Need (S,P,3), got {S.shape}\")\n",
        "    seg = np.linalg.norm(np.diff(S, axis=1), axis=2)\n",
        "    return np.sum(seg, axis=1)\n",
        "\n",
        "def ecdf(v):\n",
        "    v = np.sort(v)\n",
        "    p = np.linspace(0, 1, v.size, endpoint=True)\n",
        "    return v, p\n",
        "\n",
        "def ks_approx(a, b):\n",
        "    sa, sb = np.sort(a), np.sort(b)\n",
        "    # ECDF差の最大\n",
        "    ua = np.searchsorted(sa, np.r_[sb, np.inf], side=\"right\")/sa.size\n",
        "    ub = np.searchsorted(sb, np.r_[sa, np.inf], side=\"right\")/sb.size\n",
        "    D = max(np.max(np.abs(ua[:-1] - np.arange(1, sb.size+1)/sb.size)),\n",
        "            np.max(np.abs(ub[:-1] - np.arange(1, sa.size+1)/sa.size)))\n",
        "    ne = (sa.size*sb.size)/(sa.size+sb.size)\n",
        "    t = (np.sqrt(ne) + 0.12 + 0.11/np.sqrt(ne)) * D\n",
        "    p = 0.0\n",
        "    for k in range(1, 101):\n",
        "        p += (-1)**(k-1) * np.exp(-2*(k*k)*(t*t))\n",
        "    return float(D), float(max(min(2*p, 1.0), 0.0))\n",
        "\n",
        "def pstr(p): return f\"{p:.3g}\" if p >= 1e-3 else f\"{p:.1e}\"\n",
        "\n",
        "# --- 1) 候補探索：名前は気にせず (S,P,3) を拾う ---\n",
        "cands = []\n",
        "for root, dirs, files in os.walk(ROOT):\n",
        "    for name in files:\n",
        "        low = name.lower()\n",
        "        if not (low.endswith(\".npy\") or low.endswith(\".npz\")):\n",
        "            continue\n",
        "        p = os.path.join(root, name)\n",
        "        try:\n",
        "            A = np_load_any(p)\n",
        "            A = np.asarray(A)\n",
        "            if A.ndim == 3 and A.shape[2] == 3 and A.shape[0] >= 5 and A.shape[1] >= 2:\n",
        "                cands.append(p)\n",
        "        except Exception:\n",
        "            pass\n",
        "\n",
        "# --- 2) 手動指定があれば採用、なければキーワードで baseline/control を自動選択 ---\n",
        "if SL_BASE and SL_CTRL:\n",
        "    pick_base, pick_ctrl = SL_BASE, SL_CTRL\n",
        "else:\n",
        "    def score(path, keys):\n",
        "        q = path.lower()\n",
        "        return sum(k in q for k in keys)\n",
        "    base_keys = [\"base\",\"baseline\",\"noctrl\",\"nocontrol\",\"modela\",\"lin\",\"open\",\"no_delay\",\"plain\"]\n",
        "    ctrl_keys = [\"ctrl\",\"control\",\"delay\",\"delayed\",\"modelb\",\"ukf\",\"fbsm\",\"feedback\"]\n",
        "\n",
        "    ranked = []\n",
        "    for p in cands:\n",
        "        ranked.append( (score(p, base_keys), score(p, ctrl_keys), p) )\n",
        "    # 両方のスコアで並べ替え（ベース寄りを優先）\n",
        "    ranked.sort(key=lambda t: (-(t[0] > 0), -(t[1] > 0), -t[0], -t[1], t[2]))\n",
        "\n",
        "    pick_base = next((p for b,c,p in ranked if b>0 and c==0), None)\n",
        "    pick_ctrl = next((p for b,c,p in ranked if c>0 and b==0), None)\n",
        "\n",
        "    # うまく割当できなければ先頭2件で代用\n",
        "    if (pick_base is None or pick_ctrl is None) and len(cands) >= 2:\n",
        "        if pick_base is None: pick_base = cands[0]\n",
        "        if pick_ctrl is None:\n",
        "            pick_ctrl = cands[1] if cands[1] != pick_base else (cands[0] if len(cands)>2 else None)\n",
        "\n",
        "if pick_base is None or pick_ctrl is None:\n",
        "    raise RuntimeError(\n",
        "        \"ストリームライン候補が見つからない/2本に分けられませんでした。\\n\"\n",
        "        \"左ペインの .npy/.npz で (S,P,3) らしき2ファイルのフルパスを、SL_BASE/SL_CTRL に手動で設定してください。\"\n",
        "    )\n",
        "\n",
        "print(\"Picked:\")\n",
        "print(\"  Baseline:\", pick_base)\n",
        "print(\"  Control :\", pick_ctrl)\n",
        "\n",
        "# --- 3) 長さ配列を得る ---\n",
        "len_base = lengths_from_streamlines(np_load_any(pick_base))\n",
        "len_ctrl = lengths_from_streamlines(np_load_any(pick_ctrl))\n",
        "len_base = np.clip(len_base[np.isfinite(len_base)], 0, None)\n",
        "len_ctrl = np.clip(len_ctrl[np.isfinite(len_ctrl)], 0, None)\n",
        "\n",
        "# --- 4) KS & ECDF 図（モノクロ・線種違い・n表示） ---\n",
        "D, p = ks_approx(len_base, len_ctrl)\n",
        "sx, px = ecdf(len_base)\n",
        "sy, py = ecdf(len_ctrl)\n",
        "\n",
        "plt.figure(figsize=(6,4.5))\n",
        "lw = 1.8\n",
        "plt.step(sx, px, where=\"post\", color=\"k\", linestyle=\"-\",  linewidth=lw,\n",
        "         label=f\"Baseline (n={len(len_base):,})\")\n",
        "plt.step(sy, py, where=\"post\", color=\"k\", linestyle=\"--\", linewidth=lw,\n",
        "         label=f\"Control (n={len(len_ctrl):,})\")\n",
        "plt.xlabel(\"Streamline length (mm)\")\n",
        "plt.ylabel(\"ECDF\")\n",
        "plt.legend(frameon=False, loc=\"lower right\")\n",
        "plt.gca().text(0.02, 0.98, f\"KS = {D:.3f},  p = {pstr(p)}\",\n",
        "               transform=plt.gca().transAxes, va=\"top\", ha=\"left\", fontsize=10)\n",
        "plt.tight_layout()\n",
        "out_pdf = \"analysis_out/fig_ecdf_length.pdf\"\n",
        "plt.savefig(out_pdf, bbox_inches=\"tight\")\n",
        "plt.close()\n",
        "print(\"✅ Saved:\", out_pdf)\n"
      ],
      "metadata": {
        "colab": {
          "base_uri": "https://localhost:8080/",
          "height": 302
        },
        "id": "dboXXDtoZwxM",
        "outputId": "55bb435f-a033-4348-fa2c-8045da225248"
      },
      "id": "dboXXDtoZwxM",
      "execution_count": 29,
      "outputs": [
        {
          "output_type": "stream",
          "name": "stdout",
          "text": [
            "Mounted at /content/drive\n"
          ]
        },
        {
          "output_type": "error",
          "ename": "RuntimeError",
          "evalue": "ストリームライン候補が見つからない/2本に分けられませんでした。\n左ペインの .npy/.npz で (S,P,3) らしき2ファイルのフルパスを、SL_BASE/SL_CTRL に手動で設定してください。",
          "traceback": [
            "\u001b[0;31m---------------------------------------------------------------------------\u001b[0m",
            "\u001b[0;31mRuntimeError\u001b[0m                              Traceback (most recent call last)",
            "\u001b[0;32m/tmp/ipython-input-4164069467.py\u001b[0m in \u001b[0;36m<cell line: 0>\u001b[0;34m()\u001b[0m\n\u001b[1;32m     94\u001b[0m \u001b[0;34m\u001b[0m\u001b[0m\n\u001b[1;32m     95\u001b[0m \u001b[0;32mif\u001b[0m \u001b[0mpick_base\u001b[0m \u001b[0;32mis\u001b[0m \u001b[0;32mNone\u001b[0m \u001b[0;32mor\u001b[0m \u001b[0mpick_ctrl\u001b[0m \u001b[0;32mis\u001b[0m \u001b[0;32mNone\u001b[0m\u001b[0;34m:\u001b[0m\u001b[0;34m\u001b[0m\u001b[0;34m\u001b[0m\u001b[0m\n\u001b[0;32m---> 96\u001b[0;31m     raise RuntimeError(\n\u001b[0m\u001b[1;32m     97\u001b[0m         \u001b[0;34m\"ストリームライン候補が見つからない/2本に分けられませんでした。\\n\"\u001b[0m\u001b[0;34m\u001b[0m\u001b[0;34m\u001b[0m\u001b[0m\n\u001b[1;32m     98\u001b[0m         \u001b[0;34m\"左ペインの .npy/.npz で (S,P,3) らしき2ファイルのフルパスを、SL_BASE/SL_CTRL に手動で設定してください。\"\u001b[0m\u001b[0;34m\u001b[0m\u001b[0;34m\u001b[0m\u001b[0m\n",
            "\u001b[0;31mRuntimeError\u001b[0m: ストリームライン候補が見つからない/2本に分けられませんでした。\n左ペインの .npy/.npz で (S,P,3) らしき2ファイルのフルパスを、SL_BASE/SL_CTRL に手動で設定してください。"
          ]
        }
      ]
    },
    {
      "cell_type": "code",
      "source": [
        "# === fig_ecdf_length.pdf を手動指定で作成（(S,P,3) も ragged も 1D length も対応） ===\n",
        "import os, glob, numpy as np, matplotlib\n",
        "matplotlib.use(\"Agg\"); import matplotlib.pyplot as plt\n",
        "from google.colab import drive; drive.mount('/content/drive', force_remount=True)\n",
        "\n",
        "# 1) ここを編集：Drive 内のファイル名 or 一部文字列を指定\n",
        "#    例: \"seed3_beam_lin.npy\"（Baseline）, \"seed11_beam_lin.npy\"（Control）\n",
        "NAME_BASE = \"seed3_beam_lin.npy\"   # ← 左ペインにある名前を入れる（フルパス不要）\n",
        "NAME_CTRL = \"seed11_beam_lin.npy\"  # ← こちらも同様\n",
        "\n",
        "# 2) 見つからない場合は別名に変更。フルパスが分かるなら絶対パスでもOK\n",
        "def find_first(name_or_path):\n",
        "    if os.path.isabs(name_or_path) and os.path.exists(name_or_path):\n",
        "        return name_or_path\n",
        "    hits = glob.glob(f\"/content/drive/**/{name_or_path}\", recursive=True)\n",
        "    if hits: return hits[0]\n",
        "    # 部分一致でも探す\n",
        "    hits = glob.glob(f\"/content/drive/**/*{name_or_path}*\", recursive=True)\n",
        "    return hits[0] if hits else None\n",
        "\n",
        "P_BASE = find_first(NAME_BASE)\n",
        "P_CTRL = find_first(NAME_CTRL)\n",
        "if not P_BASE or not P_CTRL:\n",
        "    raise RuntimeError(f\"見つからないファイルがあります。\\nBASE={P_BASE}\\nCTRL={P_CTRL}\\n\"\n",
        "                       \"左ペインのファイル名を NAME_BASE/NAME_CTRL にそのまま入れてください（拡張子込み）。\")\n",
        "\n",
        "print(\"Using:\")\n",
        "print(\"  Baseline:\", P_BASE)\n",
        "print(\"  Control :\", P_CTRL)\n",
        "\n",
        "# ---- ローダ（.npy/.npz, (S,P,3), ragged, 1D length まで対応）----\n",
        "def load_any(p):\n",
        "    if p.lower().endswith(\".npy\"):\n",
        "        return np.load(p, allow_pickle=True)\n",
        "    z = np.load(p, allow_pickle=True)  # npz\n",
        "    # 最大サイズの配列を採用\n",
        "    best, n = None, -1\n",
        "    for k in z.files:\n",
        "        a = np.asarray(z[k], dtype=object if z[k].dtype==object else None)\n",
        "        if a.size > n:\n",
        "            best, n = a, a.size\n",
        "    return best\n",
        "\n",
        "def to_lengths(arr):\n",
        "    A = np.asarray(arr, dtype=object if getattr(arr, \"dtype\", None)==object else None)\n",
        "\n",
        "    # 1D 数値配列ならそのまま（既に length）\n",
        "    if A.dtype != object and A.ndim == 1 and np.issubdtype(A.dtype, np.number):\n",
        "        return np.asarray(A, dtype=float)\n",
        "\n",
        "    # (S,P,3) 数値配列\n",
        "    if A.dtype != object and A.ndim == 3 and A.shape[2] in (2,3):\n",
        "        seg = np.linalg.norm(np.diff(A, axis=1), axis=2)\n",
        "        return np.sum(seg, axis=1)\n",
        "\n",
        "    # ragged: dtype=object で各要素が (P,3) or (P,2)\n",
        "    if A.dtype == object and A.ndim == 1:\n",
        "        lens = []\n",
        "        for s in A:\n",
        "            s = np.asarray(s)\n",
        "            if s.ndim == 2 and s.shape[1] in (2,3) and s.shape[0] >= 2:\n",
        "                lens.append(np.sum(np.linalg.norm(np.diff(s, axis=0), axis=1)))\n",
        "        if len(lens) == 0:\n",
        "            raise ValueError(f\"ragged 配列だが (P,2/3) が見つかりません: shape例 {[np.asarray(x).shape for x in A[:5]]}\")\n",
        "        return np.asarray(lens, dtype=float)\n",
        "\n",
        "    raise ValueError(f\"未対応の形です: dtype={A.dtype}, shape={getattr(A,'shape',None)}\")\n",
        "\n",
        "# ---- 長さを作る ----\n",
        "len_base = to_lengths(load_any(P_BASE))\n",
        "len_ctrl = to_lengths(load_any(P_CTRL))\n",
        "len_base = np.clip(len_base[np.isfinite(len_base)], 0, None)\n",
        "len_ctrl = np.clip(len_ctrl[np.isfinite(len_ctrl)], 0, None)\n",
        "\n",
        "# ---- KS 検定（SciPy があれば使う、無ければ近似）----\n",
        "def ks_np(a, b):\n",
        "    sa, sb = np.sort(a), np.sort(b)\n",
        "    ua = np.searchsorted(sa, np.r_[sb, np.inf], side=\"right\")/sa.size\n",
        "    ub = np.searchsorted(sb, np.r_[sa, np.inf], side=\"right\")/sb.size\n",
        "    D = max(np.max(np.abs(ua[:-1] - np.arange(1, sb.size+1)/sb.size)),\n",
        "            np.max(np.abs(ub[:-1] - np.arange(1, sa.size+1)/sa.size)))\n",
        "    ne = (sa.size*sb.size)/(sa.size+sb.size)\n",
        "    t = (np.sqrt(ne) + 0.12 + 0.11/np.sqrt(ne)) * D\n",
        "    p = 0.0\n",
        "    for k in range(1, 101):\n",
        "        p += (-1)**(k-1) * np.exp(-2*(k*k)*(t*t))\n",
        "    return float(D), float(max(min(2*p, 1.0), 0.0))\n",
        "\n",
        "try:\n",
        "    from scipy.stats import ks_2samp\n",
        "    D, p = ks_2samp(len_base, len_ctrl, alternative=\"two-sided\")\n",
        "    D, p = float(D.statistic), float(D.pvalue)\n",
        "except Exception:\n",
        "    D, p = ks_np(len_base, len_ctrl)\n",
        "\n",
        "# ---- ECDF 図（モノクロ・線種違い・n表示）----\n",
        "def ecdf(v):\n",
        "    v = np.sort(v); p = np.linspace(0,1,v.size,endpoint=True); return v,p\n",
        "sx, px = ecdf(len_base); sy, py = ecdf(len_ctrl)\n",
        "\n",
        "plt.figure(figsize=(6,4.5))\n",
        "lw = 1.8\n",
        "plt.step(sx, px, where=\"post\", color=\"k\", linestyle=\"-\",  linewidth=lw,\n",
        "         label=f\"Baseline (n={len(len_base):,})\")\n",
        "plt.step(sy, py, where=\"post\", color=\"k\", linestyle=\"--\", linewidth=lw,\n",
        "         label=f\"Control (n={len(len_ctrl):,})\")\n",
        "plt.xlabel(\"Streamline length (mm)\")\n",
        "plt.ylabel(\"ECDF\")\n",
        "plt.legend(frameon=False, loc=\"lower right\")\n",
        "plt.gca().text(0.02, 0.98, f\"KS = {D:.3f},  p = {p if p>=1e-3 else f'{p:.1e}'}\",\n",
        "               transform=plt.gca().transAxes, va=\"top\", ha=\"left\", fontsize=10)\n",
        "plt.tight_layout()\n",
        "os.makedirs(\"analysis_out\", exist_ok=True)\n",
        "out_pdf = \"analysis_out/fig_ecdf_length.pdf\"\n",
        "plt.savefig(out_pdf, bbox_inches=\"tight\"); plt.close()\n",
        "print(\"✅ Saved:\", out_pdf)\n"
      ],
      "metadata": {
        "colab": {
          "base_uri": "https://localhost:8080/",
          "height": 346
        },
        "id": "NN_CReRwajJg",
        "outputId": "3f410293-d437-4b21-9c7f-e077c385cb27"
      },
      "id": "NN_CReRwajJg",
      "execution_count": 30,
      "outputs": [
        {
          "output_type": "stream",
          "name": "stdout",
          "text": [
            "Mounted at /content/drive\n"
          ]
        },
        {
          "output_type": "error",
          "ename": "RuntimeError",
          "evalue": "見つからないファイルがあります。\nBASE=None\nCTRL=None\n左ペインのファイル名を NAME_BASE/NAME_CTRL にそのまま入れてください（拡張子込み）。",
          "traceback": [
            "\u001b[0;31m---------------------------------------------------------------------------\u001b[0m",
            "\u001b[0;31mRuntimeError\u001b[0m                              Traceback (most recent call last)",
            "\u001b[0;32m/tmp/ipython-input-1231175181.py\u001b[0m in \u001b[0;36m<cell line: 0>\u001b[0;34m()\u001b[0m\n\u001b[1;32m     22\u001b[0m \u001b[0mP_CTRL\u001b[0m \u001b[0;34m=\u001b[0m \u001b[0mfind_first\u001b[0m\u001b[0;34m(\u001b[0m\u001b[0mNAME_CTRL\u001b[0m\u001b[0;34m)\u001b[0m\u001b[0;34m\u001b[0m\u001b[0;34m\u001b[0m\u001b[0m\n\u001b[1;32m     23\u001b[0m \u001b[0;32mif\u001b[0m \u001b[0;32mnot\u001b[0m \u001b[0mP_BASE\u001b[0m \u001b[0;32mor\u001b[0m \u001b[0;32mnot\u001b[0m \u001b[0mP_CTRL\u001b[0m\u001b[0;34m:\u001b[0m\u001b[0;34m\u001b[0m\u001b[0;34m\u001b[0m\u001b[0m\n\u001b[0;32m---> 24\u001b[0;31m     raise RuntimeError(f\"見つからないファイルがあります。\\nBASE={P_BASE}\\nCTRL={P_CTRL}\\n\"\n\u001b[0m\u001b[1;32m     25\u001b[0m                        \"左ペインのファイル名を NAME_BASE/NAME_CTRL にそのまま入れてください（拡張子込み）。\")\n\u001b[1;32m     26\u001b[0m \u001b[0;34m\u001b[0m\u001b[0m\n",
            "\u001b[0;31mRuntimeError\u001b[0m: 見つからないファイルがあります。\nBASE=None\nCTRL=None\n左ペインのファイル名を NAME_BASE/NAME_CTRL にそのまま入れてください（拡張子込み）。"
          ]
        }
      ]
    },
    {
      "cell_type": "code",
      "source": [
        "# === fig_ecdf_length.pdf を作成（/content と /content/drive の両方を探索）===\n",
        "import os, glob, numpy as np, matplotlib\n",
        "matplotlib.use(\"Agg\"); import matplotlib.pyplot as plt\n",
        "from google.colab import drive; drive.mount('/content/drive', force_remount=True)\n",
        "\n",
        "# ▼ここに左ペインに見えているファイル名（または一部）を入れる（拡張子込み推奨）\n",
        "NAME_BASE = \"seed3_beam_lin.npy\"    # Baseline 側\n",
        "NAME_CTRL = \"seed11_beam_lin.npy\"   # Control 側（例。必要なら ukf 等に変更）\n",
        "\n",
        "SEARCH_ROOTS = [\"/content\", \"/content/drive\"]  # 両方探す\n",
        "\n",
        "def find_first(name_or_path):\n",
        "    # 絶対パスが来たらそのまま\n",
        "    if os.path.isabs(name_or_path) and os.path.exists(name_or_path):\n",
        "        return name_or_path\n",
        "    # 各ルートを厳密一致→部分一致の順で探索\n",
        "    for root in SEARCH_ROOTS:\n",
        "        hits = glob.glob(f\"{root}/**/{name_or_path}\", recursive=True)\n",
        "        if hits: return hits[0]\n",
        "    for root in SEARCH_ROOTS:\n",
        "        hits = glob.glob(f\"{root}/**/*{name_or_path}*\", recursive=True)\n",
        "        if hits: return hits[0]\n",
        "    return None\n",
        "\n",
        "P_BASE = find_first(NAME_BASE)\n",
        "P_CTRL = find_first(NAME_CTRL)\n",
        "if not P_BASE or not P_CTRL:\n",
        "    raise RuntimeError(\n",
        "        f\"見つからないファイルがあります。\\n\"\n",
        "        f\"BASE={P_BASE}\\nCTRL={P_CTRL}\\n\"\n",
        "        f\"→ 左ペインのファイル名を NAME_BASE/NAME_CTRL にそのまま入れて再実行してください（拡張子込み）。\"\n",
        "    )\n",
        "print(\"Using:\")\n",
        "print(\"  Baseline:\", P_BASE)\n",
        "print(\"  Control :\", P_CTRL)\n",
        "\n",
        "# ---------- ロード（.npy/.npz / ragged / (S,P,3) / 1D length） ----------\n",
        "def load_any(p):\n",
        "    if p.lower().endswith(\".npy\"):\n",
        "        return np.load(p, allow_pickle=True)\n",
        "    z = np.load(p, allow_pickle=True)  # .npz\n",
        "    best, n = None, -1\n",
        "    for k in z.files:\n",
        "        a = np.asarray(z[k], dtype=object if z[k].dtype==object else None)\n",
        "        if a.size > n:\n",
        "            best, n = a, a.size\n",
        "    return best\n",
        "\n",
        "def to_lengths(arr):\n",
        "    A = np.asarray(arr, dtype=object if getattr(arr, \"dtype\", None)==object else None)\n",
        "    # 1D 数値→長さそのもの\n",
        "    if A.dtype != object and A.ndim == 1 and np.issubdtype(A.dtype, np.number):\n",
        "        return np.asarray(A, dtype=float)\n",
        "    # (S,P,3/2) 数値→各ストリームライン長\n",
        "    if A.dtype != object and A.ndim == 3 and A.shape[2] in (2,3):\n",
        "        seg = np.linalg.norm(np.diff(A, axis=1), axis=2)\n",
        "        return np.sum(seg, axis=1)\n",
        "    # (P,3/2) 数値→単一ストリームライン\n",
        "    if A.dtype != object and A.ndim == 2 and A.shape[1] in (2,3):\n",
        "        return np.array([np.sum(np.linalg.norm(np.diff(A, axis=0), axis=1))], dtype=float)\n",
        "    # ragged: dtype=object, 各要素が (P,3/2)\n",
        "    if A.dtype == object and A.ndim == 1:\n",
        "        lens = []\n",
        "        for s in A:\n",
        "            s = np.asarray(s)\n",
        "            if s.ndim == 2 and s.shape[1] in (2,3) and s.shape[0] >= 2:\n",
        "                lens.append(np.sum(np.linalg.norm(np.diff(s, axis=0), axis=1)))\n",
        "        if len(lens) == 0:\n",
        "            raise ValueError(\"ragged 配列だが (P,2/3) が見つかりません。\")\n",
        "        return np.asarray(lens, dtype=float)\n",
        "    raise ValueError(f\"未対応の形です: dtype={A.dtype}, shape={getattr(A,'shape',None)}\")\n",
        "\n",
        "len_base = to_lengths(load_any(P_BASE))\n",
        "len_ctrl = to_lengths(load_any(P_CTRL))\n",
        "\n",
        "# サニタイズ\n",
        "len_base = np.clip(len_base[np.isfinite(len_base)], 0, None)\n",
        "len_ctrl = np.clip(len_ctrl[np.isfinite(len_ctrl)], 0, None)\n",
        "print(f\"n_base={len(len_base)}, n_ctrl={len(len_ctrl)}\")\n",
        "\n",
        "# ---------- KS（SciPyなければ近似） ----------\n",
        "def ks_np(a, b):\n",
        "    sa, sb = np.sort(a), np.sort(b)\n",
        "    ua = np.searchsorted(sa, np.r_[sb, np.inf], side=\"right\")/sa.size\n",
        "    ub = np.searchsorted(sb, np.r_[sa, np.inf], side=\"right\")/sb.size\n",
        "    D = max(np.max(np.abs(ua[:-1] - np.arange(1, sb.size+1)/sb.size)),\n",
        "            np.max(np.abs(ub[:-1] - np.arange(1, sa.size+1)/sa.size)))\n",
        "    ne = (sa.size*sb.size)/(sa.size+sb.size)\n",
        "    t = (np.sqrt(ne) + 0.12 + 0.11/np.sqrt(ne)) * D\n",
        "    p = 0.0\n",
        "    for k in range(1, 101):\n",
        "        p += (-1)**(k-1) * np.exp(-2*(k*k)*(t*t))\n",
        "    return float(D), float(max(min(2*p, 1.0), 0.0))\n",
        "\n",
        "try:\n",
        "    from scipy.stats import ks_2samp\n",
        "    _res = ks_2samp(len_base, len_ctrl, alternative=\"two-sided\")\n",
        "    D, p = float(_res.statistic), float(_res.pvalue)\n",
        "except Exception:\n",
        "    D, p = ks_np(len_base, len_ctrl)\n",
        "\n",
        "# ---------- ECDF（モノクロ・線種違い・n表示） ----------\n",
        "def ecdf(v):\n",
        "    v = np.sort(v); p = np.linspace(0,1,v.size,endpoint=True); return v,p\n",
        "\n",
        "sx, px = ecdf(len_base); sy, py = ecdf(len_ctrl)\n",
        "plt.figure(figsize=(6,4.5))\n",
        "lw = 1.8\n",
        "plt.step(sx, px, where=\"post\", color=\"k\", linestyle=\"-\",  linewidth=lw,\n",
        "         label=f\"Baseline (n={len(len_base):,})\")\n",
        "plt.step(sy, py, where=\"post\", color=\"k\", linestyle=\"--\", linewidth=lw,\n",
        "         label=f\"Control (n={len(len_ctrl):,})\")\n",
        "plt.xlabel(\"Streamline length (mm)\")\n",
        "plt.ylabel(\"ECDF\")\n",
        "plt.legend(frameon=False, loc=\"lower right\")\n",
        "plt.gca().text(0.02, 0.98, f\"KS = {D:.3f},  p = {(f'{p:.3g}' if p>=1e-3 else f'{p:.1e}')}\",\n",
        "               transform=plt.gca().transAxes, va=\"top\", ha=\"left\", fontsize=10)\n",
        "plt.tight_layout()\n",
        "os.makedirs(\"analysis_out\", exist_ok=True)\n",
        "out_pdf = \"analysis_out/fig_ecdf_length.pdf\"\n",
        "plt.savefig(out_pdf, bbox_inches=\"tight\"); plt.close()\n",
        "print(\"✅ Saved:\", out_pdf)\n"
      ],
      "metadata": {
        "colab": {
          "base_uri": "https://localhost:8080/",
          "height": 346
        },
        "id": "59obSljLbKRF",
        "outputId": "4f6e6c44-e810-48b9-b1c0-890fc751228b"
      },
      "id": "59obSljLbKRF",
      "execution_count": 31,
      "outputs": [
        {
          "output_type": "stream",
          "name": "stdout",
          "text": [
            "Mounted at /content/drive\n"
          ]
        },
        {
          "output_type": "error",
          "ename": "RuntimeError",
          "evalue": "見つからないファイルがあります。\nBASE=/content/seed3_beam_lin.npy\nCTRL=None\n→ 左ペインのファイル名を NAME_BASE/NAME_CTRL にそのまま入れて再実行してください（拡張子込み）。",
          "traceback": [
            "\u001b[0;31m---------------------------------------------------------------------------\u001b[0m",
            "\u001b[0;31mRuntimeError\u001b[0m                              Traceback (most recent call last)",
            "\u001b[0;32m/tmp/ipython-input-714439223.py\u001b[0m in \u001b[0;36m<cell line: 0>\u001b[0;34m()\u001b[0m\n\u001b[1;32m     26\u001b[0m \u001b[0mP_CTRL\u001b[0m \u001b[0;34m=\u001b[0m \u001b[0mfind_first\u001b[0m\u001b[0;34m(\u001b[0m\u001b[0mNAME_CTRL\u001b[0m\u001b[0;34m)\u001b[0m\u001b[0;34m\u001b[0m\u001b[0;34m\u001b[0m\u001b[0m\n\u001b[1;32m     27\u001b[0m \u001b[0;32mif\u001b[0m \u001b[0;32mnot\u001b[0m \u001b[0mP_BASE\u001b[0m \u001b[0;32mor\u001b[0m \u001b[0;32mnot\u001b[0m \u001b[0mP_CTRL\u001b[0m\u001b[0;34m:\u001b[0m\u001b[0;34m\u001b[0m\u001b[0;34m\u001b[0m\u001b[0m\n\u001b[0;32m---> 28\u001b[0;31m     raise RuntimeError(\n\u001b[0m\u001b[1;32m     29\u001b[0m         \u001b[0;34mf\"見つからないファイルがあります。\\n\"\u001b[0m\u001b[0;34m\u001b[0m\u001b[0;34m\u001b[0m\u001b[0m\n\u001b[1;32m     30\u001b[0m         \u001b[0;34mf\"BASE={P_BASE}\\nCTRL={P_CTRL}\\n\"\u001b[0m\u001b[0;34m\u001b[0m\u001b[0;34m\u001b[0m\u001b[0m\n",
            "\u001b[0;31mRuntimeError\u001b[0m: 見つからないファイルがあります。\nBASE=/content/seed3_beam_lin.npy\nCTRL=None\n→ 左ペインのファイル名を NAME_BASE/NAME_CTRL にそのまま入れて再実行してください（拡張子込み）。"
          ]
        }
      ]
    },
    {
      "cell_type": "code",
      "source": [
        "# === Discover streamlines/lengths -> auto-pick base/control -> make fig_ecdf_length.pdf ===\n",
        "import os, glob, numpy as np, matplotlib\n",
        "matplotlib.use(\"Agg\"); import matplotlib.pyplot as plt\n",
        "from google.colab import drive; drive.mount('/content/drive', force_remount=True)\n",
        "\n",
        "SEARCH_ROOTS = [\"/content\", \"/content/drive\"]   # 両方探す\n",
        "os.makedirs(\"analysis_out\", exist_ok=True)\n",
        "\n",
        "# 任意指定（わかっていればベース名や一部でもOK。空文字なら自動）\n",
        "NAME_BASE = \"\"   # 例 \"seed3_beam_lin.npy\"\n",
        "NAME_CTRL = \"\"   # 例 \"seed11_beam_ukf.npy\"\n",
        "\n",
        "def find_all(pattern):\n",
        "    hits = []\n",
        "    for root in SEARCH_ROOTS:\n",
        "        hits += glob.glob(f\"{root}/**/{pattern}\", recursive=True)\n",
        "    return hits\n",
        "\n",
        "def load_any(p):\n",
        "    if p.lower().endswith(\".npy\"):\n",
        "        return np.load(p, allow_pickle=True)\n",
        "    z = np.load(p, allow_pickle=True)  # .npz\n",
        "    best, n = None, -1\n",
        "    for k in z.files:\n",
        "        a = np.asarray(z[k], dtype=object if z[k].dtype==object else None)\n",
        "        if a.size > n:\n",
        "            best, n = a, a.size\n",
        "    return best\n",
        "\n",
        "def to_lengths(arr):\n",
        "    A = np.asarray(arr, dtype=object if getattr(arr, \"dtype\", None)==object else None)\n",
        "    # 1D numeric → そのまま長さ\n",
        "    if A.dtype != object and A.ndim == 1 and np.issubdtype(A.dtype, np.number):\n",
        "        return np.asarray(A, dtype=float)\n",
        "    # (S,P,2/3) numeric\n",
        "    if A.dtype != object and A.ndim == 3 and A.shape[2] in (2,3):\n",
        "        seg = np.linalg.norm(np.diff(A, axis=1), axis=2)\n",
        "        return np.sum(seg, axis=1)\n",
        "    # (P,2/3) numeric → 単一本\n",
        "    if A.dtype != object and A.ndim == 2 and A.shape[1] in (2,3) and A.shape[0] >= 2:\n",
        "        return np.array([np.sum(np.linalg.norm(np.diff(A, axis=0), axis=1))], dtype=float)\n",
        "    # ragged: dtype=object, 各要素が (P,2/3)\n",
        "    if A.dtype == object and A.ndim == 1:\n",
        "        lens = []\n",
        "        for s in A:\n",
        "            s = np.asarray(s)\n",
        "            if s.ndim == 2 and s.shape[1] in (2,3) and s.shape[0] >= 2:\n",
        "                lens.append(np.sum(np.linalg.norm(np.diff(s, axis=0), axis=1)))\n",
        "        if len(lens) == 0:\n",
        "            raise ValueError(\"ragged 配列だが (P,2/3) が見つかりません\")\n",
        "        return np.asarray(lens, dtype=float)\n",
        "    raise ValueError(f\"未対応の形: dtype={A.dtype}, shape={getattr(A,'shape',None)}\")\n",
        "\n",
        "# 1) 候補収集（.npy/.npz 全部を試すが、変換できたものだけ残す）\n",
        "cands = []\n",
        "all_files = []\n",
        "for root in SEARCH_ROOTS:\n",
        "    all_files += glob.glob(f\"{root}/**/*.npy\", recursive=True)\n",
        "    all_files += glob.glob(f\"{root}/**/*.npz\", recursive=True)\n",
        "\n",
        "for p in sorted(set(all_files)):\n",
        "    try:\n",
        "        L = to_lengths(load_any(p))\n",
        "        L = np.clip(L[np.isfinite(L)], 0, None)\n",
        "        if L.size >= 5:\n",
        "            cands.append((p, L.size))  # 後で再ロードして使う\n",
        "    except Exception:\n",
        "        pass\n",
        "\n",
        "if not cands:\n",
        "    raise RuntimeError(\"長さに変換できる候補が見つかりませんでした。保存形式をご確認ください。\")\n",
        "\n",
        "# 2) 指定があればそれを優先してパス決定\n",
        "def pick_by_name(name_hint):\n",
        "    if not name_hint:\n",
        "        return None\n",
        "    exact = []\n",
        "    part = []\n",
        "    for p,_ in cands:\n",
        "        base = os.path.basename(p)\n",
        "        if base == name_hint:\n",
        "            exact.append(p)\n",
        "        elif name_hint.lower() in base.lower():\n",
        "            part.append(p)\n",
        "    return (exact[0] if exact else (part[0] if part else None))\n",
        "\n",
        "pick_base = pick_by_name(NAME_BASE)\n",
        "pick_ctrl = pick_by_name(NAME_CTRL)\n",
        "\n",
        "# 3) 自動スコア（名前で base/ctrl を推定）\n",
        "def score(path, keys): return sum(k in path.lower() for k in keys)\n",
        "base_keys = [\"base\",\"baseline\",\"noctrl\",\"nocontrol\",\"lin\",\"open\",\"no_delay\",\"plain\",\"modela\"]\n",
        "ctrl_keys = [\"ctrl\",\"control\",\"delay\",\"delayed\",\"ukf\",\"fbsm\",\"feedback\",\"modelb\"]\n",
        "\n",
        "if pick_base is None or pick_ctrl is None:\n",
        "    ranked = []\n",
        "    for p,n in cands:\n",
        "        ranked.append((score(p, base_keys), score(p, ctrl_keys), n, p))\n",
        "    # ベース寄りを先、次いでコントロール寄り、サイズ大を優先\n",
        "    ranked.sort(key=lambda t: (-t[0], -t[1], -t[2], t[3]))\n",
        "    if pick_base is None:\n",
        "        pick_base = next((p for b,c,_,p in ranked if b>0 and c==0), None)\n",
        "    if pick_ctrl is None:\n",
        "        pick_ctrl = next((p for b,c,_,p in ranked if c>0 and b==0 and p!=pick_base), None)\n",
        "\n",
        "# 4) それでも決まらなければ最大サイズ2本\n",
        "if pick_base is None or pick_ctrl is None:\n",
        "    size_sorted = sorted(cands, key=lambda t: -t[1])\n",
        "    pick_base = pick_base or size_sorted[0][0]\n",
        "    pick_ctrl = pick_ctrl or next(p for p,_ in size_sorted if p != pick_base)\n",
        "\n",
        "print(\"Picked:\")\n",
        "print(\"  Baseline:\", pick_base)\n",
        "print(\"  Control :\", pick_ctrl)\n",
        "\n",
        "# 5) 長さベクトルを生成\n",
        "len_base = to_lengths(load_any(pick_base))\n",
        "len_ctrl = to_lengths(load_any(pick_ctrl))\n",
        "len_base = np.clip(len_base[np.isfinite(len_base)], 0, None)\n",
        "len_ctrl = np.clip(len_ctrl[np.isfinite(len_ctrl)], 0, None)\n",
        "print(f\"n_base={len(len_base)},  n_ctrl={len(len_ctrl)}\")\n",
        "\n",
        "# 6) KS 検定（SciPyなければ近似）\n",
        "def ks_np(a, b):\n",
        "    sa, sb = np.sort(a), np.sort(b)\n",
        "    ua = np.searchsorted(sa, np.r_[sb, np.inf], side=\"right\")/sa.size\n",
        "    ub = np.searchsorted(sb, np.r_[sa, np.inf], side=\"right\")/sb.size\n",
        "    D = max(np.max(np.abs(ua[:-1] - np.arange(1, sb.size+1)/sb.size)),\n",
        "            np.max(np.abs(ub[:-1] - np.arange(1, sa.size+1)/sa.size)))\n",
        "    ne = (sa.size*sb.size)/(sa.size+sb.size)\n",
        "    t = (np.sqrt(ne) + 0.12 + 0.11/np.sqrt(ne)) * D\n",
        "    p = 0.0\n",
        "    for k in range(1, 101):\n",
        "        p += (-1)**(k-1) * np.exp(-2*(k*k)*(t*t))\n",
        "    return float(D), float(max(min(2*p, 1.0), 0.0))\n",
        "try:\n",
        "    from scipy.stats import ks_2samp\n",
        "    _r = ks_2samp(len_base, len_ctrl, alternative=\"two-sided\")\n",
        "    D, p = float(_r.statistic), float(_r.pvalue)\n",
        "except Exception:\n",
        "    D, p = ks_np(len_base, len_ctrl)\n",
        "\n",
        "# 7) ECDF 図（モノクロ・線種違い・n表示・KS/p注記）\n",
        "def ecdf(v):\n",
        "    v = np.sort(v); return v, np.linspace(0,1,v.size,endpoint=True)\n",
        "sx, px = ecdf(len_base); sy, py = ecdf(len_ctrl)\n",
        "plt.figure(figsize=(6,4.5))\n",
        "lw = 1.8\n",
        "plt.step(sx, px, where=\"post\", color=\"k\", linestyle=\"-\",  linewidth=lw,\n",
        "         label=f\"Baseline (n={len(len_base):,})\")\n",
        "plt.step(sy, py, where=\"post\", color=\"k\", linestyle=\"--\", linewidth=lw,\n",
        "         label=f\"Control (n={len(len_ctrl):,})\")\n",
        "plt.xlabel(\"Streamline length (mm)\")\n",
        "plt.ylabel(\"ECDF\")\n",
        "plt.legend(frameon=False, loc=\"lower right\")\n",
        "p_txt = f\"{p:.3g}\" if p>=1e-3 else f\"{p:.1e}\"\n",
        "plt.gca().text(0.02, 0.98, f\"KS = {D:.3f},  p = {p_txt}\",\n",
        "               transform=plt.gca().transAxes, va=\"top\", ha=\"left\", fontsize=10)\n",
        "plt.tight_layout()\n",
        "out_pdf = \"analysis_out/fig_ecdf_length.pdf\"\n",
        "plt.savefig(out_pdf, bbox_inches=\"tight\"); plt.close()\n",
        "print(\"✅ Saved:\", out_pdf)\n"
      ],
      "metadata": {
        "colab": {
          "base_uri": "https://localhost:8080/"
        },
        "id": "pQxdEeKccX_4",
        "outputId": "a97ba3ee-538b-49e6-e88f-966290b3450c"
      },
      "id": "pQxdEeKccX_4",
      "execution_count": 32,
      "outputs": [
        {
          "output_type": "stream",
          "name": "stdout",
          "text": [
            "Mounted at /content/drive\n",
            "Picked:\n",
            "  Baseline: /content/seed3_beam_lin.npy\n",
            "  Control : /content/seed11_beam_ukf.npy\n",
            "n_base=117,  n_ctrl=117\n",
            "✅ Saved: analysis_out/fig_ecdf_length.pdf\n"
          ]
        }
      ]
    },
    {
      "cell_type": "code",
      "source": [
        "x = np.load(\"/content/drive/MyDrive/ColabFiles/curvature_final_baseline.npy\").ravel()\n",
        "y = np.load(\"/content/drive/MyDrive/ColabFiles/curvature_final.npy\").ravel()  # ←長さの配列に置き換え\n",
        "print(\"base[min,max] =\", float(np.min(x)), float(np.max(x)))\n",
        "print(\"ctrl[min,max] =\", float(np.min(y)), float(np.max(y)))\n"
      ],
      "metadata": {
        "colab": {
          "base_uri": "https://localhost:8080/"
        },
        "id": "MI1zVAdzdn7E",
        "outputId": "6b534ef2-b050-40dd-b021-e9a7a7f416d1"
      },
      "id": "MI1zVAdzdn7E",
      "execution_count": 33,
      "outputs": [
        {
          "output_type": "stream",
          "name": "stdout",
          "text": [
            "base[min,max] = 1.4701393731469725e-18 0.33404538253904487\n",
            "ctrl[min,max] = 0.014592122842566444 0.9981890410987659\n"
          ]
        }
      ]
    },
    {
      "cell_type": "code",
      "source": [
        "plt.figure(); plt.hist(x, bins=40, density=True, histtype=\"step\", color=\"k\")\n",
        "plt.hist(y, bins=40, density=True, histtype=\"step\", color=\"k\", linestyle=\"--\"); plt.show()\n"
      ],
      "metadata": {
        "id": "SfVsiZeQeB7C"
      },
      "id": "SfVsiZeQeB7C",
      "execution_count": 35,
      "outputs": []
    },
    {
      "cell_type": "code",
      "source": [
        "# ==== Effect sizes & table snippet ====\n",
        "import os, glob, numpy as np, textwrap, math\n",
        "from google.colab import drive; drive.mount('/content/drive', force_remount=True)\n",
        "np.set_printoptions(suppress=True)\n",
        "\n",
        "# ---------- 入力（必要なら手動で指定） ----------\n",
        "CURV_BASE = \"/content/drive/MyDrive/ColabFiles/curvature_final_baseline.npy\"\n",
        "CURV_CTRL = \"/content/drive/MyDrive/ColabFiles/curvature_final.npy\"\n",
        "\n",
        "# 長さ：手動で指定したい場合はファイル名（または一部）をここに\n",
        "NAME_LEN_BASE = \"\"  # 例 \"seed3_beam_lin.npy\"  わからなければ空のままでOK（自動探索）\n",
        "NAME_LEN_CTRL = \"\"  # 例 \"seed11_beam_ukf.npy\"\n",
        "\n",
        "SEARCH_ROOTS = [\"/content\", \"/content/drive\"]\n",
        "OUT_DIR = \"analysis_out\"\n",
        "os.makedirs(OUT_DIR, exist_ok=True)\n",
        "\n",
        "# ---------- ロード補助 ----------\n",
        "def find_first(name_or_path):\n",
        "    if name_or_path and os.path.isabs(name_or_path) and os.path.exists(name_or_path):\n",
        "        return name_or_path\n",
        "    if name_or_path:\n",
        "        for root in SEARCH_ROOTS:\n",
        "            hits = glob.glob(f\"{root}/**/{name_or_path}\", recursive=True)\n",
        "            if hits: return hits[0]\n",
        "        for root in SEARCH_ROOTS:\n",
        "            hits = glob.glob(f\"{root}/**/*{name_or_path}*\", recursive=True)\n",
        "            if hits: return hits[0]\n",
        "    return None\n",
        "\n",
        "def np_load_any(p):\n",
        "    if p.lower().endswith(\".npy\"):\n",
        "        return np.load(p, allow_pickle=True)\n",
        "    z = np.load(p, allow_pickle=True)  # .npz\n",
        "    best, n = None, -1\n",
        "    for k in z.files:\n",
        "        a = np.asarray(z[k], dtype=object if z[k].dtype==object else None)\n",
        "        if a.size > n:\n",
        "            best, n = a, a.size\n",
        "    return best\n",
        "\n",
        "def to_lengths(arr):\n",
        "    A = np.asarray(arr, dtype=object if getattr(arr, \"dtype\", None)==object else None)\n",
        "    # 1D numeric → 長さそのもの\n",
        "    if A.dtype != object and A.ndim == 1 and np.issubdtype(A.dtype, np.number):\n",
        "        return np.asarray(A, dtype=float)\n",
        "    # (S,P,2/3) numeric → 各ストリームライン長\n",
        "    if A.dtype != object and A.ndim == 3 and A.shape[2] in (2,3):\n",
        "        seg = np.linalg.norm(np.diff(A, axis=1), axis=2)\n",
        "        return np.sum(seg, axis=1)\n",
        "    # (P,2/3) numeric → 1 本だけ\n",
        "    if A.dtype != object and A.ndim == 2 and A.shape[1] in (2,3) and A.shape[0] >= 2:\n",
        "        return np.array([np.sum(np.linalg.norm(np.diff(A, axis=0), axis=1))], dtype=float)\n",
        "    # ragged: 各要素が (P,2/3)\n",
        "    if A.dtype == object and A.ndim == 1:\n",
        "        lens = []\n",
        "        for s in A:\n",
        "            s = np.asarray(s)\n",
        "            if s.ndim == 2 and s.shape[1] in (2,3) and s.shape[0] >= 2:\n",
        "                lens.append(np.sum(np.linalg.norm(np.diff(s, axis=0), axis=1)))\n",
        "        return np.asarray(lens, dtype=float) if lens else np.array([], dtype=float)\n",
        "    return np.array([], dtype=float)\n",
        "\n",
        "# ---------- データ読み込み ----------\n",
        "# 曲率\n",
        "def load_curv(path):\n",
        "    a = np.load(path, allow_pickle=False)\n",
        "    a = np.asarray(a).ravel()\n",
        "    a = a[np.isfinite(a)]\n",
        "    return np.clip(a, 0, None)\n",
        "\n",
        "if not os.path.exists(CURV_BASE) or not os.path.exists(CURV_CTRL):\n",
        "    # 予備探索\n",
        "    hits = glob.glob(\"/content/drive/**/curvature_final*.npy\", recursive=True)\n",
        "    if len(hits) >= 2:\n",
        "        CURV_BASE, CURV_CTRL = hits[0], hits[1]\n",
        "    else:\n",
        "        raise FileNotFoundError(\"curvature_final_(baseline/ctrl).npy が見つかりません。\")\n",
        "\n",
        "curv_base = load_curv(CURV_BASE)\n",
        "curv_ctrl = load_curv(CURV_CTRL)\n",
        "\n",
        "# 長さ（自動探索 or 手動）\n",
        "P_LEN_BASE = find_first(NAME_LEN_BASE)\n",
        "P_LEN_CTRL = find_first(NAME_LEN_CTRL)\n",
        "\n",
        "def auto_pick_lengths():\n",
        "    cands = []\n",
        "    all_files = []\n",
        "    for root in SEARCH_ROOTS:\n",
        "        all_files += glob.glob(f\"{root}/**/*.npy\", recursive=True)\n",
        "        all_files += glob.glob(f\"{root}/**/*.npz\", recursive=True)\n",
        "    for p in sorted(set(all_files)):\n",
        "        try:\n",
        "            L = to_lengths(np_load_any(p))\n",
        "            L = L[np.isfinite(L)]\n",
        "            if L.size >= 8:  # 最低限\n",
        "                cands.append((p, L.size))\n",
        "        except Exception:\n",
        "            pass\n",
        "    if len(cands) < 2:\n",
        "        return None, None\n",
        "    # 名前ヒューリスティック\n",
        "    def score(path, keys): return sum(k in path.lower() for k in keys)\n",
        "    base_keys = [\"base\",\"baseline\",\"noctrl\",\"nocontrol\",\"lin\",\"open\",\"no_delay\",\"plain\",\"modela\"]\n",
        "    ctrl_keys = [\"ctrl\",\"control\",\"delay\",\"delayed\",\"ukf\",\"fbsm\",\"feedback\",\"modelb\"]\n",
        "    ranked = sorted(\n",
        "        [(score(p, base_keys), score(p, ctrl_keys), n, p) for p,n in cands],\n",
        "        key=lambda t:(-t[0], -t[1], -t[2], t[3])\n",
        "    )\n",
        "    pick_b = next((p for b,c,_,p in ranked if b>0 and c==0), None)\n",
        "    pick_c = next((p for b,c,_,p in ranked if c>0 and b==0 and p!=pick_b), None)\n",
        "    if not pick_b or not pick_c:\n",
        "        # 最大サイズ2本で代用\n",
        "        ss = sorted(cands, key=lambda t:-t[1])\n",
        "        pick_b = ss[0][0]; pick_c = next(p for p,_ in ss if p!=pick_b)\n",
        "    return pick_b, pick_c\n",
        "\n",
        "if P_LEN_BASE is None or P_LEN_CTRL is None:\n",
        "    P_LEN_BASE, P_LEN_CTRL = auto_pick_lengths()\n",
        "    if P_LEN_BASE is None or P_LEN_CTRL is None:\n",
        "        raise RuntimeError(\"長さの入力が見つかりません。NAME_LEN_BASE/NAME_LEN_CTRL にファイル名を指定してください。\")\n",
        "\n",
        "len_base = to_lengths(np_load_any(P_LEN_BASE))\n",
        "len_ctrl = to_lengths(np_load_any(P_LEN_CTRL))\n",
        "len_base = np.clip(len_base[np.isfinite(len_base)], 0, None)\n",
        "len_ctrl = np.clip(len_ctrl[np.isfinite(len_ctrl)], 0, None)\n",
        "\n",
        "print(\"Curv BASE/CTRL:\", CURV_BASE, CURV_CTRL)\n",
        "print(\"Len  BASE/CTRL:\", P_LEN_BASE, P_LEN_CTRL)\n",
        "print(\"n_curv:\", curv_base.size, curv_ctrl.size, \"  n_len:\", len_base.size, len_ctrl.size)\n",
        "\n",
        "# ---------- 統計（KS, Cliff's δ, HL差, CI, permutation p） ----------\n",
        "rng = np.random.default_rng(1234)\n",
        "B_BOOT = 2000      # ブートストラップ回数\n",
        "B_PERM = 5000      # permutation 回数（時間かかる場合は 2000 でも可）\n",
        "\n",
        "def ks_2samp_np(a, b):\n",
        "    sa, sb = np.sort(a), np.sort(b)\n",
        "    ua = np.searchsorted(sa, np.r_[sb, np.inf], side=\"right\")/sa.size\n",
        "    ub = np.searchsorted(sb, np.r_[sa, np.inf], side=\"right\")/sb.size\n",
        "    D = max(np.max(np.abs(ua[:-1] - np.arange(1, sb.size+1)/sb.size)),\n",
        "            np.max(np.abs(ub[:-1] - np.arange(1, sa.size+1)/sa.size)))\n",
        "    # asymptotic p\n",
        "    ne = (sa.size*sb.size)/(sa.size+sb.size)\n",
        "    t = (np.sqrt(ne) + 0.12 + 0.11/np.sqrt(ne)) * D\n",
        "    p = 0.0\n",
        "    for k in range(1, 101):\n",
        "        p += (-1)**(k-1) * np.exp(-2*(k*k)*(t*t))\n",
        "    return float(D), float(max(min(2*p, 1.0), 0.0))\n",
        "\n",
        "try:\n",
        "    from scipy.stats import ks_2samp\n",
        "    def ks_pair(x,y):\n",
        "        r = ks_2samp(x,y,alternative=\"two-sided\")\n",
        "        return float(r.statistic), float(r.pvalue)\n",
        "except Exception:\n",
        "    ks_pair = ks_2samp_np\n",
        "\n",
        "def _rankdata_average(a):\n",
        "    \"\"\"平均ランク（tiesは平均）: SciPyなしの rankdata.\"\"\"\n",
        "    a = np.asarray(a)\n",
        "    order = np.argsort(a, kind='mergesort')      # 安全な安定ソート\n",
        "    srt = a[order]\n",
        "    ranks = np.empty_like(srt, dtype=float)\n",
        "\n",
        "    # 同値の連続区間の開始インデックス\n",
        "    b = np.r_[0, np.flatnonzero(np.diff(srt)) + 1, len(srt)]\n",
        "    for i in range(len(b)-1):\n",
        "        s, e = b[i], b[i+1]                      # [s, e)\n",
        "        # 1始まりの平均ランク = ((s+1)+e)/2\n",
        "        ranks[s:e] = (s + 1 + e) / 2.0\n",
        "\n",
        "    # 元順序へ戻す\n",
        "    inv = np.empty_like(order)\n",
        "    inv[order] = np.arange(len(order))\n",
        "    return ranks[inv]\n",
        "\n",
        "def cliffs_delta(x, y):\n",
        "    \"\"\"\n",
        "    Cliff's delta をランク法で厳密に計算。\n",
        "    関係: Vargha–Delaney A = U/(mn),  δ = 2A - 1\n",
        "    \"\"\"\n",
        "    x = np.asarray(x); y = np.asarray(y)\n",
        "    m, n = len(x), len(y)\n",
        "    z = np.r_[x, y]\n",
        "    r = _rankdata_average(z)\n",
        "    R1 = float(np.sum(r[:m]))                    # 群1のランク和\n",
        "    U1 = R1 - m*(m+1)/2.0\n",
        "    A  = U1 / (m*n)\n",
        "    delta = 2*A - 1\n",
        "    return float(delta)\n",
        "\n",
        "def hl_diff(x, y, max_pairs=2_000_000):\n",
        "    # Hodges–Lehmann: median of all pairwise differences (y - x)\n",
        "    m, n = len(x), len(y)\n",
        "    tot = m*n\n",
        "    if tot <= max_pairs:\n",
        "        d = np.median(np.subtract.outer(y, x))\n",
        "        return float(d)\n",
        "    # 近似：ランダムサブサンプリング\n",
        "    k = max_pairs\n",
        "    ix = rng.integers(0, m, size=k, endpoint=False)\n",
        "    iy = rng.integers(0, n, size=k, endpoint=False)\n",
        "    d = np.median(y[iy] - x[ix])\n",
        "    return float(d)\n",
        "\n",
        "def bootstrap_CI(fun, x, y, B=B_BOOT, alpha=0.05):\n",
        "    vals = np.empty(B, dtype=float)\n",
        "    m, n = len(x), len(y)\n",
        "    for b in range(B):\n",
        "        xb = x[rng.integers(0, m, size=m)]\n",
        "        yb = y[rng.integers(0, n, size=n)]\n",
        "        vals[b] = fun(xb, yb)\n",
        "    lo, hi = np.percentile(vals, [100*alpha/2, 100*(1-alpha/2)])\n",
        "    return float(lo), float(hi)\n",
        "\n",
        "def perm_p(fun_stat, x, y, B=B_PERM):\n",
        "    # ラベル置換で両側 p\n",
        "    x = np.asarray(x); y = np.asarray(y)\n",
        "    m, n = len(x), len(y)\n",
        "    z = np.r_[x, y]\n",
        "    stat0 = abs(fun_stat(x, y))\n",
        "    cnt = 0\n",
        "    for b in range(B):\n",
        "        rng.shuffle(z)\n",
        "        xb, yb = z[:m], z[m:]\n",
        "        if abs(fun_stat(xb, yb)) >= stat0:\n",
        "            cnt += 1\n",
        "    p = (cnt + 1) / (B + 1)\n",
        "    return float(p)\n",
        "\n",
        "def median_diff(a,b): return float(np.median(b) - np.median(a))\n",
        "\n",
        "# ---- 曲率 ----\n",
        "ks_c_D, ks_c_p = ks_pair(curv_base, curv_ctrl)\n",
        "delta_c = cliffs_delta(curv_base, curv_ctrl)\n",
        "delta_c_CI = bootstrap_CI(cliffs_delta, curv_base, curv_ctrl)\n",
        "hl_c = hl_diff(curv_base, curv_ctrl)\n",
        "hl_c_CI = bootstrap_CI(hl_diff, curv_base, curv_ctrl)\n",
        "perm_p_c = perm_p(median_diff, curv_base, curv_ctrl)\n",
        "\n",
        "# ---- 長さ ----\n",
        "ks_l_D, ks_l_p = ks_pair(len_base, len_ctrl)\n",
        "delta_l = cliffs_delta(len_base, len_ctrl)\n",
        "delta_l_CI = bootstrap_CI(cliffs_delta, len_base, len_ctrl)\n",
        "hl_l = hl_diff(len_base, len_ctrl)\n",
        "hl_l_CI = bootstrap_CI(hl_diff, len_base, len_ctrl)\n",
        "perm_p_l = perm_p(median_diff, len_base, len_ctrl)\n",
        "\n",
        "def f3(x):  return f\"{x:.3f}\"\n",
        "def f2(x):  return f\"{x:.2f}\"\n",
        "def pstr(p): return f\"{p:.3g}\" if p>=1e-3 else f\"{p:.1e}\"\n",
        "\n",
        "# ---------- LaTeX table（tabular 1つにまとめて出力） ----------\n",
        "tab = rf\"\"\"\n",
        "\\begin{{table}}[t]\n",
        "  \\centering\n",
        "  \\caption{{In-vivo metrics with effect sizes (Cliff's $\\delta$; Hodges--Lehmann $\\Delta$), 95\\% CIs (bootstrap), and permutation $p$ (median difference).}}\n",
        "  \\label{{tab:invivo_effects}}\n",
        "  \\begin{{tabular}}{{lcccccc}}\n",
        "    \\toprule\n",
        "    Metric & $n_\\text{{base}}$ & $n_\\text{{ctrl}}$ & KS $D$ (p) & Cliff's $\\delta$ [95\\% CI] & HL $\\Delta$ [95\\% CI] & Perm. $p$ \\\\\n",
        "    \\midrule\n",
        "    Length (mm)\n",
        "      & {len(len_base):,} & {len(len_ctrl):,}\n",
        "      & {f3(ks_l_D)} ({pstr(ks_l_p)})\n",
        "      & {f3(delta_l)}\\;[{f3(delta_l_CI[0])}, {f3(delta_l_CI[1])}]\n",
        "      & {f3(hl_l)}\\;[{f3(hl_l_CI[0])}, {f3(hl_l_CI[1])}]\n",
        "      & {pstr(perm_p_l)} \\\\\n",
        "    Curvature (1/mm)\n",
        "      & {len(curv_base):,} & {len(curv_ctrl):,}\n",
        "      & {f3(ks_c_D)} ({pstr(ks_c_p)})\n",
        "      & {f3(delta_c)}\\;[{f3(delta_c_CI[0])}, {f3(delta_c_CI[1])}]\n",
        "      & {f3(hl_c)}\\;[{f3(hl_c_CI[0])}, {f3(hl_c_CI[1])}]\n",
        "      & {pstr(perm_p_c)} \\\\\n",
        "    \\bottomrule\n",
        "  \\end{{tabular}}\n",
        "\\end{{table}}\n",
        "\"\"\".strip()\n",
        "\n",
        "\n",
        "with open(os.path.join(OUT_DIR, \"tab_invivo_effects.tex\"), \"w\") as f:\n",
        "    f.write(tab)\n",
        "\n",
        "print(\"✅ Wrote:\", os.path.join(OUT_DIR, \"tab_invivo_effects.tex\"))\n",
        "print(\"KS_length=\", ks_l_D, ks_l_p, \"  KS_curv=\", ks_c_D, ks_c_p)\n",
        "print(\"δ_length=\", delta_l, delta_l_CI, \"  δ_curv=\", delta_c, delta_c_CI)\n",
        "print(\"HL_length=\", hl_l, hl_l_CI, \"  HL_curv=\", hl_c, hl_c_CI)\n",
        "print(\"Perm p (length, curv) =\", perm_p_l, perm_p_c)\n"
      ],
      "metadata": {
        "colab": {
          "base_uri": "https://localhost:8080/"
        },
        "id": "ceDQFUD9kxAw",
        "outputId": "f2fe15d4-e4e4-4925-b1cc-efaaeac86748"
      },
      "id": "ceDQFUD9kxAw",
      "execution_count": 39,
      "outputs": [
        {
          "output_type": "stream",
          "name": "stdout",
          "text": [
            "Mounted at /content/drive\n",
            "Curv BASE/CTRL: /content/drive/MyDrive/ColabFiles/curvature_final_baseline.npy /content/drive/MyDrive/ColabFiles/curvature_final.npy\n",
            "Len  BASE/CTRL: /content/seed3_beam_lin.npy /content/seed11_beam_ukf.npy\n",
            "n_curv: 4096 1024   n_len: 117 117\n",
            "✅ Wrote: analysis_out/tab_invivo_effects.tex\n",
            "KS_length= 1.0 1.3904099465859391e-69   KS_curv= 0.4033203125 5.2646131198707557e-120\n",
            "δ_length= -1.0 (-1.0, -1.0)   δ_curv= -0.5871210098266602 (-0.6181957244873046, -0.5561897277832032)\n",
            "HL_length= 0.008691508043557405 (0.008550660870969297, 0.008793688787845892)   HL_curv= 0.13490080914168767 (0.12497360719526159, 0.14476536508157498)\n",
            "Perm p (length, curv) = 0.0001999600079984003 0.0001999600079984003\n"
          ]
        }
      ]
    },
    {
      "cell_type": "code",
      "source": [
        "# === ECDF of streamline length in *mm* ===\n",
        "import os, json\n",
        "import numpy as np\n",
        "import matplotlib.pyplot as plt\n",
        "from scipy.stats import ks_2samp\n",
        "\n",
        "# ----------------- 設定 -----------------\n",
        "paths = {\n",
        "    \"baseline\": \"/content/seed3_beam_lin.npy\",   # 例: 117 本の長さ\n",
        "    \"control\" : \"/content/seed11_beam_ukf.npy\",  # 例: 117 本の長さ\n",
        "}\n",
        "unit_mode = \"auto\"   # \"auto\" | \"mm\" | \"m\" | \"voxel\"\n",
        "voxel_size_mm = 2.0  # voxel単位→mmに直す係数。等方なら float、非等方なら (sx,sy,sz)\n",
        "\n",
        "out_pdf = \"fig_ecdf_length_mm.pdf\"\n",
        "title   = None  # 例: \"Stanford HARDI (n=117 vs 117)\" など\n",
        "# ----------------------------------------\n",
        "\n",
        "def _load_any(p):\n",
        "    if p.endswith(\".npy\"):\n",
        "        return np.load(p)\n",
        "    if p.endswith(\".npz\"):\n",
        "        kz = np.load(p)\n",
        "        # 最初の配列を採用\n",
        "        for k in kz.files:\n",
        "            return kz[k]\n",
        "        raise ValueError(\"npzに配列が見つかりません\")\n",
        "    if p.endswith(\".json\"):\n",
        "        with open(p, \"r\", encoding=\"utf-8\") as f:\n",
        "            return np.array(json.load(f))\n",
        "    # txt, csv など\n",
        "    return np.loadtxt(p)\n",
        "\n",
        "def _to_mm(lengths, unit_mode=\"auto\", voxel_size_mm=None):\n",
        "    L = np.asarray(lengths).astype(float)\n",
        "\n",
        "    def _auto_detect(x):\n",
        "        med = float(np.median(x))\n",
        "        # 経験則：<0.2 → m の可能性が高い / <5 → voxelの可能性（等方サイズ前提）/ それ以外は mm\n",
        "        if med < 0.2:\n",
        "            return \"m\"\n",
        "        if med < 5.0:\n",
        "            return \"voxel\"\n",
        "        return \"mm\"\n",
        "\n",
        "    mode = unit_mode\n",
        "    if mode == \"auto\":\n",
        "        mode = _auto_detect(L)\n",
        "\n",
        "    if mode == \"mm\":\n",
        "        return L\n",
        "\n",
        "    if mode == \"m\":\n",
        "        return L * 1000.0\n",
        "\n",
        "    if mode == \"voxel\":\n",
        "        if voxel_size_mm is None:\n",
        "            raise ValueError(\"voxel→mm に変換するには voxel_size_mm を指定してください。\")\n",
        "        # 既に「ボクセル空間でユークリッド距離を合算した長さ」が与えられている前提なら\n",
        "        # 等方サイズ s の場合は単純に s 倍で mm になる。\n",
        "        if np.isscalar(voxel_size_mm):\n",
        "            return L * float(voxel_size_mm)\n",
        "        else:\n",
        "            # 非等方 voxel の場合、既に *長さ* だけを持っていると正確な補正はできない。\n",
        "            # ここでは代表スケールとして幾何平均を用いた近似を行う（厳密には再計算が必要）。\n",
        "            vx = np.asarray(voxel_size_mm).astype(float)\n",
        "            s_eff = float(np.prod(vx)) ** (1/3)  # 幾何平均\n",
        "            return L * s_eff\n",
        "\n",
        "    raise ValueError(f\"未知の unit_mode: {unit_mode}\")\n",
        "\n",
        "def _ecdf(x):\n",
        "    x = np.sort(np.asarray(x))\n",
        "    y = np.arange(1, len(x)+1, dtype=float) / len(x)\n",
        "    return x, y\n",
        "\n",
        "def _sanity_check_mm(Lmm, label):\n",
        "    # ざっくりチェック：3〜300 mm 程度を想定\n",
        "    mn, mx = float(np.min(Lmm)), float(np.max(Lmm))\n",
        "    if mx < 3 or mn < 0 or mx > 500:\n",
        "        print(f\"[WARN] {label}: 値域が想定外です (min={mn:.3f}, max={mx:.3f} mm)。単位判定やvoxel_size_mmを見直してください。\")\n",
        "    else:\n",
        "        print(f\"[INFO] {label}: min={mn:.2f} mm, median={np.median(Lmm):.2f} mm, max={mx:.2f} mm\")\n",
        "\n",
        "# --- load ---\n",
        "Lb = _load_any(paths[\"baseline\"])\n",
        "Lc = _load_any(paths[\"control\"])\n",
        "\n",
        "# --- convert to mm ---\n",
        "Lb_mm = _to_mm(Lb, unit_mode=unit_mode, voxel_size_mm=voxel_size_mm)\n",
        "Lc_mm = _to_mm(Lc, unit_mode=unit_mode, voxel_size_mm=voxel_size_mm)\n",
        "\n",
        "_sanity_check_mm(Lb_mm, \"Baseline\")\n",
        "_sanity_check_mm(Lc_mm, \"Control\")\n",
        "\n",
        "# --- ECDF & KS test ---\n",
        "xb, yb = _ecdf(Lb_mm)\n",
        "xc, yc = _ecdf(Lc_mm)\n",
        "ks, p = ks_2samp(Lb_mm, Lc_mm)\n",
        "\n",
        "# --- plot ---\n",
        "plt.figure(figsize=(6,5), dpi=120)\n",
        "plt.step(xb, yb, where=\"post\", label=f\"Baseline (n={len(Lb_mm)})\")\n",
        "plt.step(xc, yc, where=\"post\", label=f\"Control (n={len(Lc_mm)})\")\n",
        "plt.xlabel(\"Streamline length (mm)\")\n",
        "plt.ylabel(\"ECDF\")\n",
        "if title:\n",
        "    plt.title(title)\n",
        "plt.grid(True, alpha=0.3, linestyle=\"--\")\n",
        "plt.legend()\n",
        "plt.text(0.02, 0.02, f\"KS = {ks:.3f},  p = {p:.1e}\", transform=plt.gca().transAxes)\n",
        "\n",
        "plt.tight_layout()\n",
        "plt.savefig(out_pdf, bbox_inches=\"tight\")\n",
        "print(f\"[OK] Saved: {os.path.abspath(out_pdf)}\")\n"
      ],
      "metadata": {
        "colab": {
          "base_uri": "https://localhost:8080/"
        },
        "id": "s1K7EM_H5viU",
        "outputId": "03f00659-b24f-4a7a-8b6e-8f1d585c6d48"
      },
      "id": "s1K7EM_H5viU",
      "execution_count": 40,
      "outputs": [
        {
          "output_type": "stream",
          "name": "stdout",
          "text": [
            "[INFO] Baseline: min=2.46 mm, median=5.87 mm, max=6.32 mm\n",
            "[INFO] Control: min=8.95 mm, median=14.54 mm, max=16.92 mm\n",
            "[OK] Saved: /content/fig_ecdf_length_mm.pdf\n"
          ]
        }
      ]
    },
    {
      "cell_type": "code",
      "source": [
        "import numpy as np, matplotlib.pyplot as plt\n",
        "from scipy.stats import ks_2samp\n",
        "# ---- ここに mm で再計算した配列を読み込む ----\n",
        "Lb_mm = np.load(\"lengths_baseline_mm.npy\")  # 例\n",
        "Lc_mm = np.load(\"lengths_control_mm.npy\")   # 例\n",
        "# ------------- 要約統計 -------------\n",
        "med_b, med_c = np.median(Lb_mm), np.median(Lc_mm)\n",
        "hl_delta = np.median(Lc_mm - Lb_mm)  # 差の中央値（HL Δ）\n",
        "print(f\"Median (Baseline): {med_b:.2f} mm\")\n",
        "print(f\"Median (Control) : {med_c:.2f} mm\")\n",
        "print(f\"HL Δ (median diff): {hl_delta:.2f} mm\")\n",
        "\n",
        "# 簡易95% CI（置換ブートストラップ）\n",
        "rng = np.random.default_rng(0)\n",
        "D = []\n",
        "for _ in range(5000):\n",
        "    Db = rng.choice(Lb_mm, size=len(Lb_mm), replace=True)\n",
        "    Dc = rng.choice(Lc_mm, size=len(Lc_mm), replace=True)\n",
        "    D.append(np.median(Dc) - np.median(Db))\n",
        "lo, hi = np.percentile(D, [2.5, 97.5])\n",
        "print(f\"95% CI for HL Δ: [{lo:.2f}, {hi:.2f}] mm\")\n",
        "\n",
        "# ECDF と KS 検定\n",
        "def ecdf(x):\n",
        "    x = np.sort(x); y = np.arange(1, len(x)+1)/len(x); return x,y\n",
        "xb,yb = ecdf(Lb_mm); xc,yc = ecdf(Lc_mm)\n",
        "ks, p = ks_2samp(Lb_mm, Lc_mm)\n",
        "plt.figure(figsize=(6,5), dpi=120)\n",
        "plt.step(xb,yb, where=\"post\", label=f\"Baseline (n={len(Lb_mm)})\")\n",
        "plt.step(xc,yc, where=\"post\", label=f\"Control (n={len(Lc_mm)})\")\n",
        "plt.xlabel(\"Streamline length (mm)\"); plt.ylabel(\"ECDF\")\n",
        "plt.grid(True, alpha=.3, linestyle=\"--\"); plt.legend()\n",
        "plt.text(.02,.02, f\"KS={ks:.3f}, p={p:.1e}\", transform=plt.gca().transAxes)\n",
        "plt.tight_layout(); plt.savefig(\"fig_ecdf_length_mm_FIXED.pdf\")\n"
      ],
      "metadata": {
        "colab": {
          "base_uri": "https://localhost:8080/",
          "height": 434
        },
        "id": "EZkH3BJl7yj2",
        "outputId": "cf369e3e-c73b-4440-9c02-57d097179fcc"
      },
      "id": "EZkH3BJl7yj2",
      "execution_count": 41,
      "outputs": [
        {
          "output_type": "error",
          "ename": "FileNotFoundError",
          "evalue": "[Errno 2] No such file or directory: 'lengths_baseline_mm.npy'",
          "traceback": [
            "\u001b[0;31m---------------------------------------------------------------------------\u001b[0m",
            "\u001b[0;31mFileNotFoundError\u001b[0m                         Traceback (most recent call last)",
            "\u001b[0;32m/tmp/ipython-input-1679571780.py\u001b[0m in \u001b[0;36m<cell line: 0>\u001b[0;34m()\u001b[0m\n\u001b[1;32m      2\u001b[0m \u001b[0;32mfrom\u001b[0m \u001b[0mscipy\u001b[0m\u001b[0;34m.\u001b[0m\u001b[0mstats\u001b[0m \u001b[0;32mimport\u001b[0m \u001b[0mks_2samp\u001b[0m\u001b[0;34m\u001b[0m\u001b[0;34m\u001b[0m\u001b[0m\n\u001b[1;32m      3\u001b[0m \u001b[0;31m# ---- ここに mm で再計算した配列を読み込む ----\u001b[0m\u001b[0;34m\u001b[0m\u001b[0;34m\u001b[0m\u001b[0m\n\u001b[0;32m----> 4\u001b[0;31m \u001b[0mLb_mm\u001b[0m \u001b[0;34m=\u001b[0m \u001b[0mnp\u001b[0m\u001b[0;34m.\u001b[0m\u001b[0mload\u001b[0m\u001b[0;34m(\u001b[0m\u001b[0;34m\"lengths_baseline_mm.npy\"\u001b[0m\u001b[0;34m)\u001b[0m  \u001b[0;31m# 例\u001b[0m\u001b[0;34m\u001b[0m\u001b[0;34m\u001b[0m\u001b[0m\n\u001b[0m\u001b[1;32m      5\u001b[0m \u001b[0mLc_mm\u001b[0m \u001b[0;34m=\u001b[0m \u001b[0mnp\u001b[0m\u001b[0;34m.\u001b[0m\u001b[0mload\u001b[0m\u001b[0;34m(\u001b[0m\u001b[0;34m\"lengths_control_mm.npy\"\u001b[0m\u001b[0;34m)\u001b[0m   \u001b[0;31m# 例\u001b[0m\u001b[0;34m\u001b[0m\u001b[0;34m\u001b[0m\u001b[0m\n\u001b[1;32m      6\u001b[0m \u001b[0;31m# ------------- 要約統計 -------------\u001b[0m\u001b[0;34m\u001b[0m\u001b[0;34m\u001b[0m\u001b[0m\n",
            "\u001b[0;32m/usr/local/lib/python3.11/dist-packages/numpy/lib/_npyio_impl.py\u001b[0m in \u001b[0;36mload\u001b[0;34m(file, mmap_mode, allow_pickle, fix_imports, encoding, max_header_size)\u001b[0m\n\u001b[1;32m    453\u001b[0m             \u001b[0mown_fid\u001b[0m \u001b[0;34m=\u001b[0m \u001b[0;32mFalse\u001b[0m\u001b[0;34m\u001b[0m\u001b[0;34m\u001b[0m\u001b[0m\n\u001b[1;32m    454\u001b[0m         \u001b[0;32melse\u001b[0m\u001b[0;34m:\u001b[0m\u001b[0;34m\u001b[0m\u001b[0;34m\u001b[0m\u001b[0m\n\u001b[0;32m--> 455\u001b[0;31m             \u001b[0mfid\u001b[0m \u001b[0;34m=\u001b[0m \u001b[0mstack\u001b[0m\u001b[0;34m.\u001b[0m\u001b[0menter_context\u001b[0m\u001b[0;34m(\u001b[0m\u001b[0mopen\u001b[0m\u001b[0;34m(\u001b[0m\u001b[0mos\u001b[0m\u001b[0;34m.\u001b[0m\u001b[0mfspath\u001b[0m\u001b[0;34m(\u001b[0m\u001b[0mfile\u001b[0m\u001b[0;34m)\u001b[0m\u001b[0;34m,\u001b[0m \u001b[0;34m\"rb\"\u001b[0m\u001b[0;34m)\u001b[0m\u001b[0;34m)\u001b[0m\u001b[0;34m\u001b[0m\u001b[0;34m\u001b[0m\u001b[0m\n\u001b[0m\u001b[1;32m    456\u001b[0m             \u001b[0mown_fid\u001b[0m \u001b[0;34m=\u001b[0m \u001b[0;32mTrue\u001b[0m\u001b[0;34m\u001b[0m\u001b[0;34m\u001b[0m\u001b[0m\n\u001b[1;32m    457\u001b[0m \u001b[0;34m\u001b[0m\u001b[0m\n",
            "\u001b[0;31mFileNotFoundError\u001b[0m: [Errno 2] No such file or directory: 'lengths_baseline_mm.npy'"
          ]
        }
      ]
    },
    {
      "cell_type": "code",
      "source": [
        "# --- mm換算つき ECDF と HL Δ（中央値差）; LaTeX表の更新も可 ---\n",
        "import os, re, numpy as np, matplotlib.pyplot as plt\n",
        "from scipy.stats import ks_2samp\n",
        "\n",
        "# 1) 入力候補（存在する方を自動採用）\n",
        "baseline_candidates = [\"lengths_baseline_mm.npy\", \"seed3_beam_lin.npy\"]\n",
        "control_candidates  = [\"lengths_control_mm.npy\",  \"seed11_beam_ukf.npy\"]\n",
        "\n",
        "def pick(cands):\n",
        "    for p in cands:\n",
        "        if os.path.exists(p):\n",
        "            print(f\"[use] {p}\")\n",
        "            return p\n",
        "    raise FileNotFoundError(cands)\n",
        "\n",
        "pb = pick(baseline_candidates)\n",
        "pc = pick(control_candidates)\n",
        "Lb = np.load(pb);  Lc = np.load(pc)\n",
        "\n",
        "# 2) 可能なら参照NIfTIから voxel size を取得（無ければ 2.0mm 仮定）\n",
        "voxel_size_mm = None\n",
        "for r in [\"data.nii.gz\", \"stanford_hardi.nii.gz\", \"hardi.nii.gz\"]:\n",
        "    if os.path.exists(r):\n",
        "        import nibabel as nib\n",
        "        voxel_size_mm = nib.load(r).header.get_zooms()[:3]\n",
        "        print(f\"[voxel_size_mm] {voxel_size_mm}\")\n",
        "        break\n",
        "\n",
        "def to_mm(L, voxel_size_mm=None):\n",
        "    L = np.asarray(L, dtype=float)\n",
        "    med = float(np.median(L))\n",
        "    # 単位の自動推定\n",
        "    if med < 0.2:             # 例: m\n",
        "        mode = \"m\"\n",
        "    elif med < 5.0:           # 例: voxel\n",
        "        mode = \"voxel\"\n",
        "    else:\n",
        "        mode = \"mm\"\n",
        "    print(f\"[unit] median={med:.4f} -> {mode}\")\n",
        "\n",
        "    if mode == \"mm\":  return L\n",
        "    if mode == \"m\":   return L * 1000.0\n",
        "    if mode == \"voxel\":\n",
        "        if voxel_size_mm is None:\n",
        "            s = 2.0\n",
        "            print(\"[warn] voxel size 不明 -> 2.0mm 等方で近似\")\n",
        "            return L * s\n",
        "        v = np.atleast_1d(voxel_size_mm).astype(float)\n",
        "        s = (v[0]*v[1]*v[2])**(1/3) if v.size==3 else float(v.squeeze())\n",
        "        return L * s\n",
        "\n",
        "Lb_mm = to_mm(Lb, voxel_size_mm)\n",
        "Lc_mm = to_mm(Lc, voxel_size_mm)\n",
        "\n",
        "# 3) 要約統計・HL Δ・KS\n",
        "med_b, med_c = np.median(Lb_mm), np.median(Lc_mm)\n",
        "hl_delta = np.median(Lc_mm - Lb_mm)  # HL Δ = median(control) - median(baseline)\n",
        "ks, p = ks_2samp(Lb_mm, Lc_mm)\n",
        "\n",
        "# 95% CI（ブートストラップ）\n",
        "rng = np.random.default_rng(0)\n",
        "D = np.empty(4000)\n",
        "for i in range(4000):\n",
        "    Db = rng.choice(Lb_mm, size=len(Lb_mm), replace=True)\n",
        "    Dc = rng.choice(Lc_mm, size=len(Lc_mm), replace=True)\n",
        "    D[i] = np.median(Dc) - np.median(Db)\n",
        "lo, hi = np.percentile(D, [2.5, 97.5])\n",
        "\n",
        "print(f\"Median_B = {med_b:.2f} mm | Median_C = {med_c:.2f} mm\")\n",
        "print(f\"HL Δ (C-B) = {hl_delta:.2f} mm  [95% CI {lo:.2f}, {hi:.2f}]\")\n",
        "print(f\"KS = {ks:.3f}, p = {p:.1e}\")\n",
        "\n",
        "# 4) ECDF 図\n",
        "def ecdf(x): x=np.sort(x); y=np.arange(1,len(x)+1)/len(x); return x,y\n",
        "xb,yb = ecdf(Lb_mm); xc,yc = ecdf(Lc_mm)\n",
        "plt.figure(figsize=(6,5), dpi=120)\n",
        "plt.step(xb,yb, where=\"post\", label=f\"Baseline (n={len(Lb_mm)})\")\n",
        "plt.step(xc,yc, where=\"post\", label=f\"Control (n={len(Lc_mm)})\")\n",
        "plt.xlabel(\"Streamline length (mm)\"); plt.ylabel(\"ECDF\")\n",
        "plt.grid(True, alpha=.3, linestyle=\"--\"); plt.legend()\n",
        "plt.text(.02,.02, f\"KS={ks:.3f}, p={p:.1e}\", transform=plt.gca().transAxes)\n",
        "plt.tight_layout(); plt.savefig(\"fig_ecdf_length_mm_FIXED.pdf\", bbox_inches=\"tight\")\n",
        "print(\"[OK] fig_ecdf_length_mm_FIXED.pdf を保存\")\n",
        "\n",
        "# 5) Table III（tab_invivo_effects-2.tex）の Length 行を更新（見つからない場合は行を提示）\n",
        "row = (f\"Length (mm) & {med_b:.2f} & {med_c:.2f} & \"\n",
        "       f\"{hl_delta:.2f} [{lo:.2f}, {hi:.2f}] & KS={ks:.3f} (p={p:.1e}) \\\\\\\\\")\n",
        "tex = \"tab_invivo_effects-2.tex\"\n",
        "if os.path.exists(tex):\n",
        "    with open(tex, \"r\", encoding=\"utf-8\") as f: s = f.read()\n",
        "    # 「Length (mm)」を含む行を差し替え（単純マッチ）\n",
        "    new_s, n = re.subn(r\"^.*Length\\s*\\(mm\\).*?$\", row, s, flags=re.M|re.I)\n",
        "    if n == 0:\n",
        "        print(\"[note] 自動置換できなかったので、下行をコピペしてください：\\n\" + row)\n",
        "    else:\n",
        "        with open(tex, \"w\", encoding=\"utf-8\") as f: f.write(new_s)\n",
        "        print(f\"[OK] {tex} の Length 行を更新しました。\")\n",
        "else:\n",
        "    print(\"[note] tab_invivo_effects-2.tex が無いので、下行を表に貼り付けてください：\\n\" + row)\n"
      ],
      "metadata": {
        "colab": {
          "base_uri": "https://localhost:8080/"
        },
        "id": "VX0MGFXP89Mr",
        "outputId": "36c7fd82-66bc-4bbc-f789-b8f5593048cf"
      },
      "id": "VX0MGFXP89Mr",
      "execution_count": 42,
      "outputs": [
        {
          "output_type": "stream",
          "name": "stdout",
          "text": [
            "[use] seed3_beam_lin.npy\n",
            "[use] seed11_beam_ukf.npy\n",
            "[unit] median=0.0059 -> m\n",
            "[unit] median=0.0145 -> m\n",
            "Median_B = 5.87 mm | Median_C = 14.54 mm\n",
            "HL Δ (C-B) = 8.58 mm  [95% CI 8.51, 8.81]\n",
            "KS = 1.000, p = 1.4e-69\n",
            "[OK] fig_ecdf_length_mm_FIXED.pdf を保存\n",
            "[note] tab_invivo_effects-2.tex が無いので、下行を表に貼り付けてください：\n",
            "Length (mm) & 5.87 & 14.54 & 8.58 [8.51, 8.81] & KS=1.000 (p=1.4e-69) \\\\\n"
          ]
        }
      ]
    },
    {
      "cell_type": "code",
      "source": [
        "import sys\n",
        "sys.path.append(\"/content\")  # すべての .py を置いたパスを追加\n"
      ],
      "metadata": {
        "id": "OL0p1GTIA5mK"
      },
      "id": "OL0p1GTIA5mK",
      "execution_count": null,
      "outputs": []
    },
    {
      "cell_type": "code",
      "source": [
        "from CliffordDynamics import solve_forward_geometric, solve_backward_geometric, visualize_field_snapshot\n"
      ],
      "metadata": {
        "id": "zBgq821xA8qY"
      },
      "id": "zBgq821xA8qY",
      "execution_count": null,
      "outputs": []
    },
    {
      "cell_type": "code",
      "source": [
        "import sys\n",
        "sys.path.append(\"/content\")\n"
      ],
      "metadata": {
        "id": "cCgFpmqO8YPs"
      },
      "id": "cCgFpmqO8YPs",
      "execution_count": null,
      "outputs": []
    },
    {
      "cell_type": "code",
      "source": [
        "import sys\n",
        "sys.path.append(\"/content\")\n"
      ],
      "metadata": {
        "id": "0nbx1G0GBIHv"
      },
      "id": "0nbx1G0GBIHv",
      "execution_count": null,
      "outputs": []
    },
    {
      "cell_type": "code",
      "source": [
        "from CliffordDynamics import solve_forward_geometric, solve_backward_geometric, visualize_field_snapshot\n",
        "from CliffordTensor import create_spin_connection_field, compute_clifford_curvature\n",
        "from CliffordTimeSeriesPlots import compute_rank_over_time, compute_entropy_over_time, compute_curvature_energy_over_time, plot_time_series\n",
        "from FBSM_optimizer import run_fbsbm\n"
      ],
      "metadata": {
        "id": "O30Zzy4VBKUX"
      },
      "id": "O30Zzy4VBKUX",
      "execution_count": null,
      "outputs": []
    },
    {
      "cell_type": "code",
      "source": [
        "# ✅ Step 1: Google Drive をマウント\n",
        "from google.colab import drive\n",
        "drive.mount('/content/drive')\n",
        "\n",
        "# ✅ Step 2: 作業ディレクトリを指定（例：CliffordProject）\n",
        "import sys\n",
        "#project_path = '/content/drive/MyDrive/CliffordProject'  # ★必要に応じて書き換えてください\n",
        "#sys.path.append(project_path)\n",
        "\n",
        "# ✅ Step 3: 作業ディレクトリへ移動（オプション）\n",
        "%cd $project_path\n",
        "\n",
        "# ✅ Step 4: 確認（置いた .py ファイル一覧）\n",
        "import os\n",
        "print(\"プロジェクトディレクトリにあるファイル一覧:\")\n",
        "print(os.listdir())\n"
      ],
      "metadata": {
        "colab": {
          "base_uri": "https://localhost:8080/",
          "height": 436
        },
        "id": "OxhJRXzVNP-z",
        "outputId": "0e662796-601b-47a9-a3e4-be8fcef82ba6"
      },
      "id": "OxhJRXzVNP-z",
      "execution_count": null,
      "outputs": [
        {
          "output_type": "error",
          "ename": "MessageError",
          "evalue": "Error: credential propagation was unsuccessful",
          "traceback": [
            "\u001b[0;31m---------------------------------------------------------------------------\u001b[0m",
            "\u001b[0;31mMessageError\u001b[0m                              Traceback (most recent call last)",
            "\u001b[0;32m/tmp/ipython-input-4092196883.py\u001b[0m in \u001b[0;36m<cell line: 0>\u001b[0;34m()\u001b[0m\n\u001b[1;32m      1\u001b[0m \u001b[0;31m# ✅ Step 1: Google Drive をマウント\u001b[0m\u001b[0;34m\u001b[0m\u001b[0;34m\u001b[0m\u001b[0m\n\u001b[1;32m      2\u001b[0m \u001b[0;32mfrom\u001b[0m \u001b[0mgoogle\u001b[0m\u001b[0;34m.\u001b[0m\u001b[0mcolab\u001b[0m \u001b[0;32mimport\u001b[0m \u001b[0mdrive\u001b[0m\u001b[0;34m\u001b[0m\u001b[0;34m\u001b[0m\u001b[0m\n\u001b[0;32m----> 3\u001b[0;31m \u001b[0mdrive\u001b[0m\u001b[0;34m.\u001b[0m\u001b[0mmount\u001b[0m\u001b[0;34m(\u001b[0m\u001b[0;34m'/content/drive'\u001b[0m\u001b[0;34m)\u001b[0m\u001b[0;34m\u001b[0m\u001b[0;34m\u001b[0m\u001b[0m\n\u001b[0m\u001b[1;32m      4\u001b[0m \u001b[0;34m\u001b[0m\u001b[0m\n\u001b[1;32m      5\u001b[0m \u001b[0;31m# ✅ Step 2: 作業ディレクトリを指定（例：CliffordProject）\u001b[0m\u001b[0;34m\u001b[0m\u001b[0;34m\u001b[0m\u001b[0m\n",
            "\u001b[0;32m/usr/local/lib/python3.11/dist-packages/google/colab/drive.py\u001b[0m in \u001b[0;36mmount\u001b[0;34m(mountpoint, force_remount, timeout_ms, readonly)\u001b[0m\n\u001b[1;32m     98\u001b[0m \u001b[0;32mdef\u001b[0m \u001b[0mmount\u001b[0m\u001b[0;34m(\u001b[0m\u001b[0mmountpoint\u001b[0m\u001b[0;34m,\u001b[0m \u001b[0mforce_remount\u001b[0m\u001b[0;34m=\u001b[0m\u001b[0;32mFalse\u001b[0m\u001b[0;34m,\u001b[0m \u001b[0mtimeout_ms\u001b[0m\u001b[0;34m=\u001b[0m\u001b[0;36m120000\u001b[0m\u001b[0;34m,\u001b[0m \u001b[0mreadonly\u001b[0m\u001b[0;34m=\u001b[0m\u001b[0;32mFalse\u001b[0m\u001b[0;34m)\u001b[0m\u001b[0;34m:\u001b[0m\u001b[0;34m\u001b[0m\u001b[0;34m\u001b[0m\u001b[0m\n\u001b[1;32m     99\u001b[0m   \u001b[0;34m\"\"\"Mount your Google Drive at the specified mountpoint path.\"\"\"\u001b[0m\u001b[0;34m\u001b[0m\u001b[0;34m\u001b[0m\u001b[0m\n\u001b[0;32m--> 100\u001b[0;31m   return _mount(\n\u001b[0m\u001b[1;32m    101\u001b[0m       \u001b[0mmountpoint\u001b[0m\u001b[0;34m,\u001b[0m\u001b[0;34m\u001b[0m\u001b[0;34m\u001b[0m\u001b[0m\n\u001b[1;32m    102\u001b[0m       \u001b[0mforce_remount\u001b[0m\u001b[0;34m=\u001b[0m\u001b[0mforce_remount\u001b[0m\u001b[0;34m,\u001b[0m\u001b[0;34m\u001b[0m\u001b[0;34m\u001b[0m\u001b[0m\n",
            "\u001b[0;32m/usr/local/lib/python3.11/dist-packages/google/colab/drive.py\u001b[0m in \u001b[0;36m_mount\u001b[0;34m(mountpoint, force_remount, timeout_ms, ephemeral, readonly)\u001b[0m\n\u001b[1;32m    135\u001b[0m   )\n\u001b[1;32m    136\u001b[0m   \u001b[0;32mif\u001b[0m \u001b[0mephemeral\u001b[0m\u001b[0;34m:\u001b[0m\u001b[0;34m\u001b[0m\u001b[0;34m\u001b[0m\u001b[0m\n\u001b[0;32m--> 137\u001b[0;31m     _message.blocking_request(\n\u001b[0m\u001b[1;32m    138\u001b[0m         \u001b[0;34m'request_auth'\u001b[0m\u001b[0;34m,\u001b[0m\u001b[0;34m\u001b[0m\u001b[0;34m\u001b[0m\u001b[0m\n\u001b[1;32m    139\u001b[0m         \u001b[0mrequest\u001b[0m\u001b[0;34m=\u001b[0m\u001b[0;34m{\u001b[0m\u001b[0;34m'authType'\u001b[0m\u001b[0;34m:\u001b[0m \u001b[0;34m'dfs_ephemeral'\u001b[0m\u001b[0;34m}\u001b[0m\u001b[0;34m,\u001b[0m\u001b[0;34m\u001b[0m\u001b[0;34m\u001b[0m\u001b[0m\n",
            "\u001b[0;32m/usr/local/lib/python3.11/dist-packages/google/colab/_message.py\u001b[0m in \u001b[0;36mblocking_request\u001b[0;34m(request_type, request, timeout_sec, parent)\u001b[0m\n\u001b[1;32m    174\u001b[0m       \u001b[0mrequest_type\u001b[0m\u001b[0;34m,\u001b[0m \u001b[0mrequest\u001b[0m\u001b[0;34m,\u001b[0m \u001b[0mparent\u001b[0m\u001b[0;34m=\u001b[0m\u001b[0mparent\u001b[0m\u001b[0;34m,\u001b[0m \u001b[0mexpect_reply\u001b[0m\u001b[0;34m=\u001b[0m\u001b[0;32mTrue\u001b[0m\u001b[0;34m\u001b[0m\u001b[0;34m\u001b[0m\u001b[0m\n\u001b[1;32m    175\u001b[0m   )\n\u001b[0;32m--> 176\u001b[0;31m   \u001b[0;32mreturn\u001b[0m \u001b[0mread_reply_from_input\u001b[0m\u001b[0;34m(\u001b[0m\u001b[0mrequest_id\u001b[0m\u001b[0;34m,\u001b[0m \u001b[0mtimeout_sec\u001b[0m\u001b[0;34m)\u001b[0m\u001b[0;34m\u001b[0m\u001b[0;34m\u001b[0m\u001b[0m\n\u001b[0m",
            "\u001b[0;32m/usr/local/lib/python3.11/dist-packages/google/colab/_message.py\u001b[0m in \u001b[0;36mread_reply_from_input\u001b[0;34m(message_id, timeout_sec)\u001b[0m\n\u001b[1;32m    101\u001b[0m     ):\n\u001b[1;32m    102\u001b[0m       \u001b[0;32mif\u001b[0m \u001b[0;34m'error'\u001b[0m \u001b[0;32min\u001b[0m \u001b[0mreply\u001b[0m\u001b[0;34m:\u001b[0m\u001b[0;34m\u001b[0m\u001b[0;34m\u001b[0m\u001b[0m\n\u001b[0;32m--> 103\u001b[0;31m         \u001b[0;32mraise\u001b[0m \u001b[0mMessageError\u001b[0m\u001b[0;34m(\u001b[0m\u001b[0mreply\u001b[0m\u001b[0;34m[\u001b[0m\u001b[0;34m'error'\u001b[0m\u001b[0;34m]\u001b[0m\u001b[0;34m)\u001b[0m\u001b[0;34m\u001b[0m\u001b[0;34m\u001b[0m\u001b[0m\n\u001b[0m\u001b[1;32m    104\u001b[0m       \u001b[0;32mreturn\u001b[0m \u001b[0mreply\u001b[0m\u001b[0;34m.\u001b[0m\u001b[0mget\u001b[0m\u001b[0;34m(\u001b[0m\u001b[0;34m'data'\u001b[0m\u001b[0;34m,\u001b[0m \u001b[0;32mNone\u001b[0m\u001b[0;34m)\u001b[0m\u001b[0;34m\u001b[0m\u001b[0;34m\u001b[0m\u001b[0m\n\u001b[1;32m    105\u001b[0m \u001b[0;34m\u001b[0m\u001b[0m\n",
            "\u001b[0;31mMessageError\u001b[0m: Error: credential propagation was unsuccessful"
          ]
        }
      ]
    },
    {
      "cell_type": "code",
      "source": [
        "import sys\n",
        "sys.path.append(\"/content\")\n"
      ],
      "metadata": {
        "id": "dJ6GLTMMtuKy"
      },
      "id": "dJ6GLTMMtuKy",
      "execution_count": null,
      "outputs": []
    },
    {
      "cell_type": "code",
      "source": [
        "!python main_clifford_fbsbm_driver.py\n"
      ],
      "metadata": {
        "colab": {
          "base_uri": "https://localhost:8080/"
        },
        "id": "dFP3_T14txu4",
        "outputId": "123cfc2f-694a-48bc-af20-74078bc7de7b"
      },
      "id": "dFP3_T14txu4",
      "execution_count": null,
      "outputs": [
        {
          "output_type": "stream",
          "name": "stdout",
          "text": [
            "python3: can't open file '/content/main_clifford_fbsbm_driver.py': [Errno 2] No such file or directory\n"
          ]
        }
      ]
    },
    {
      "cell_type": "code",
      "source": [
        "from google.colab import drive\n",
        "drive.mount('/content/drive')\n",
        "\n",
        "project_path = \"/content/drive/MyDrive/CliffordProject\"\n",
        "sys.path.append(project_path)\n"
      ],
      "metadata": {
        "colab": {
          "base_uri": "https://localhost:8080/"
        },
        "id": "k-Co-pXouNSi",
        "outputId": "2ec85846-0459-4a46-cbf3-2dc83d6c5f18"
      },
      "id": "k-Co-pXouNSi",
      "execution_count": null,
      "outputs": [
        {
          "output_type": "stream",
          "name": "stdout",
          "text": [
            "Mounted at /content/drive\n"
          ]
        }
      ]
    },
    {
      "cell_type": "code",
      "source": [
        "!python main-2.py\n"
      ],
      "metadata": {
        "colab": {
          "base_uri": "https://localhost:8080/"
        },
        "id": "XTBzXn6YuaLT",
        "outputId": "758350a4-7ae1-4fea-ec6a-fb4e2c9a5d34"
      },
      "id": "XTBzXn6YuaLT",
      "execution_count": null,
      "outputs": [
        {
          "output_type": "stream",
          "name": "stdout",
          "text": [
            "Traceback (most recent call last):\n",
            "  File \"/content/main-2.py\", line 3, in <module>\n",
            "    from forward import solve_forward\n",
            "ModuleNotFoundError: No module named 'forward'\n"
          ]
        }
      ]
    },
    {
      "cell_type": "code",
      "source": [
        "from CliffordDynamics import solve_forward_geometric\n"
      ],
      "metadata": {
        "id": "RjbGanzLvgf9"
      },
      "id": "RjbGanzLvgf9",
      "execution_count": null,
      "outputs": []
    },
    {
      "cell_type": "code",
      "source": [
        "!python main-2.py\n"
      ],
      "metadata": {
        "colab": {
          "base_uri": "https://localhost:8080/"
        },
        "id": "BEcsctTiwB2U",
        "outputId": "26ffe2ee-f0ed-40fb-ff42-bc0d2aad672b"
      },
      "id": "BEcsctTiwB2U",
      "execution_count": null,
      "outputs": [
        {
          "output_type": "stream",
          "name": "stdout",
          "text": [
            "Traceback (most recent call last):\n",
            "  File \"/content/main-2.py\", line 5, in <module>\n",
            "    from rank import compute_rank\n",
            "ModuleNotFoundError: No module named 'rank'\n"
          ]
        }
      ]
    },
    {
      "cell_type": "code",
      "source": [
        "!python main-2.py\n"
      ],
      "metadata": {
        "colab": {
          "base_uri": "https://localhost:8080/"
        },
        "id": "uQHKvnfcwfQk",
        "outputId": "e7426c25-2e78-4123-df1a-980e3493e1a6"
      },
      "id": "uQHKvnfcwfQk",
      "execution_count": null,
      "outputs": [
        {
          "output_type": "stream",
          "name": "stdout",
          "text": [
            "Traceback (most recent call last):\n",
            "  File \"/content/main-2.py\", line 5, in <module>\n",
            "    from rank import compute_rank\n",
            "ModuleNotFoundError: No module named 'rank'\n"
          ]
        }
      ]
    },
    {
      "cell_type": "code",
      "source": [
        "!python main-2.py\n"
      ],
      "metadata": {
        "colab": {
          "base_uri": "https://localhost:8080/"
        },
        "id": "kawH2mf-w5Ad",
        "outputId": "b884433e-e5ca-438d-93ed-789911242d1d"
      },
      "id": "kawH2mf-w5Ad",
      "execution_count": null,
      "outputs": [
        {
          "output_type": "stream",
          "name": "stdout",
          "text": [
            "Traceback (most recent call last):\n",
            "  File \"/content/main-2.py\", line 55, in <module>\n",
            "    main()\n",
            "  File \"/content/main-2.py\", line 10, in main\n",
            "    with open(\"appl_II.json\", \"r\") as f:\n",
            "         ^^^^^^^^^^^^^^^^^^^^^^^^^\n",
            "FileNotFoundError: [Errno 2] No such file or directory: 'appl_II.json'\n"
          ]
        }
      ]
    },
    {
      "cell_type": "code",
      "source": [
        "!python main-2.py\n"
      ],
      "metadata": {
        "colab": {
          "base_uri": "https://localhost:8080/"
        },
        "id": "49ToEolZxUGU",
        "outputId": "69e994f1-ae95-44c6-8c54-71386fcece5c"
      },
      "id": "49ToEolZxUGU",
      "execution_count": null,
      "outputs": [
        {
          "output_type": "stream",
          "name": "stdout",
          "text": [
            "[forward] Solving forward dynamics...\n",
            "Traceback (most recent call last):\n",
            "  File \"/content/main-2.py\", line 55, in <module>\n",
            "    main()\n",
            "  File \"/content/main-2.py\", line 29, in main\n",
            "    lambda_ = solve_adjoint(f, A, T)\n",
            "              ^^^^^^^^^^^^^^^^^^^^^^\n",
            "TypeError: solve_adjoint() missing 1 required positional argument: 'Nt'\n"
          ]
        }
      ]
    },
    {
      "cell_type": "code",
      "source": [
        "!python main-2.py\n"
      ],
      "metadata": {
        "colab": {
          "base_uri": "https://localhost:8080/"
        },
        "id": "ZbZWiB4Yx1gA",
        "outputId": "9536747d-3078-490d-d002-f3e7a6f7ac5a"
      },
      "id": "ZbZWiB4Yx1gA",
      "execution_count": null,
      "outputs": [
        {
          "output_type": "stream",
          "name": "stdout",
          "text": [
            "[forward] Solving forward dynamics...\n",
            "Traceback (most recent call last):\n",
            "  File \"/content/main-2.py\", line 55, in <module>\n",
            "    main()\n",
            "  File \"/content/main-2.py\", line 29, in main\n",
            "    lambda_ = solve_adjoint(f, A, T, Nt)  # ← 第4引数 Nt を追加\n",
            "                                     ^^\n",
            "NameError: name 'Nt' is not defined. Did you mean: 't'?\n"
          ]
        }
      ]
    },
    {
      "cell_type": "code",
      "source": [
        "!python main-2.py\n"
      ],
      "metadata": {
        "colab": {
          "base_uri": "https://localhost:8080/"
        },
        "id": "Hbb-4xJhyiYJ",
        "outputId": "1fc0681a-66fa-4bdb-ae9d-ef5028a7e7b9"
      },
      "id": "Hbb-4xJhyiYJ",
      "execution_count": null,
      "outputs": [
        {
          "output_type": "stream",
          "name": "stdout",
          "text": [
            "  File \"/content/main-2.py\", line 16\n",
            "    threshold = config[\"threshold\"\n",
            "                      ^\n",
            "SyntaxError: '[' was never closed\n"
          ]
        }
      ]
    },
    {
      "cell_type": "code",
      "source": [
        "!python main-2.py\n"
      ],
      "metadata": {
        "colab": {
          "base_uri": "https://localhost:8080/"
        },
        "id": "iC_vszlfysTx",
        "outputId": "b1daa05f-4d70-42e7-fce3-670d7b7accc1"
      },
      "id": "iC_vszlfysTx",
      "execution_count": null,
      "outputs": [
        {
          "output_type": "stream",
          "name": "stdout",
          "text": [
            "Traceback (most recent call last):\n",
            "  File \"/content/main-2.py\", line 57, in <module>\n",
            "    main()\n",
            "  File \"/content/main-2.py\", line 17, in main\n",
            "    Nt = config[\"Nt\"]  # ✅ ← これを追加！\n",
            "         ~~~~~~^^^^^^\n",
            "KeyError: 'Nt'\n"
          ]
        }
      ]
    },
    {
      "cell_type": "code",
      "source": [
        "!python main-2.py\n"
      ],
      "metadata": {
        "colab": {
          "base_uri": "https://localhost:8080/"
        },
        "id": "c8OdJ7vDzBFt",
        "outputId": "ab6ed1d9-53ca-4f42-dd29-28bdc5407afb"
      },
      "id": "c8OdJ7vDzBFt",
      "execution_count": null,
      "outputs": [
        {
          "output_type": "stream",
          "name": "stdout",
          "text": [
            "Traceback (most recent call last):\n",
            "  File \"/content/main-2.py\", line 58, in <module>\n",
            "    main()\n",
            "  File \"/content/main-2.py\", line 17, in main\n",
            "    Nt = config[\"Nt\"]\n",
            "         ~~~~~~^^^^^^\n",
            "KeyError: 'Nt'\n"
          ]
        }
      ]
    },
    {
      "cell_type": "code",
      "source": [
        "!python main-2.py\n"
      ],
      "metadata": {
        "colab": {
          "base_uri": "https://localhost:8080/"
        },
        "id": "GehyrNKuzdMa",
        "outputId": "f987aac1-0df1-4e02-8d59-24f3649190d6"
      },
      "id": "GehyrNKuzdMa",
      "execution_count": null,
      "outputs": [
        {
          "output_type": "stream",
          "name": "stdout",
          "text": [
            "[forward] Solving forward dynamics...\n",
            "Traceback (most recent call last):\n",
            "  File \"/content/main-2.py\", line 58, in <module>\n",
            "    main()\n",
            "  File \"/content/main-2.py\", line 32, in main\n",
            "    lambda_ = solve_adjoint(f, A, T, Nt)  # ← 第4引数 Nt を追加\n",
            "              ^^^^^^^^^^^^^^^^^^^^^^^^^^\n",
            "  File \"/content/adjoint.py\", line 8, in solve_adjoint\n",
            "    future = buffer.get(n + buffer.delay_steps)\n",
            "             ^^^^^^^^^^\n",
            "AttributeError: 'numpy.ndarray' object has no attribute 'get'\n"
          ]
        }
      ]
    },
    {
      "cell_type": "code",
      "source": [
        "!python main-2.py"
      ],
      "metadata": {
        "colab": {
          "base_uri": "https://localhost:8080/"
        },
        "id": "bOEgECga0yPO",
        "outputId": "43d12cd7-ecd2-4674-b2a9-c9a44dada71c"
      },
      "id": "bOEgECga0yPO",
      "execution_count": null,
      "outputs": [
        {
          "output_type": "stream",
          "name": "stdout",
          "text": [
            "[forward] Solving forward dynamics...\n",
            "[forward] Solving forward dynamics...\n",
            "[forward] Solving forward dynamics...\n",
            "[forward] Solving forward dynamics...\n",
            "[forward] Solving forward dynamics...\n",
            "[forward] Solving forward dynamics...\n",
            "[forward] Solving forward dynamics...\n",
            "[forward] Solving forward dynamics...\n",
            "[forward] Solving forward dynamics...\n",
            "[forward] Solving forward dynamics...\n",
            "[main] Simulation complete. Output saved.\n"
          ]
        }
      ]
    },
    {
      "cell_type": "code",
      "source": [
        "!python main-2.py"
      ],
      "metadata": {
        "colab": {
          "base_uri": "https://localhost:8080/"
        },
        "id": "FKE0TQCL4Fv9",
        "outputId": "1a496823-20a3-4d93-8bd4-a09fe0ca284c"
      },
      "id": "FKE0TQCL4Fv9",
      "execution_count": null,
      "outputs": [
        {
          "output_type": "stream",
          "name": "stdout",
          "text": [
            "  File \"/content/main-2.py\", line 71\n",
            "    print(\"[main] Simulation complete. Output saved.\")\n",
            "IndentationError: unexpected indent\n"
          ]
        }
      ]
    },
    {
      "cell_type": "code",
      "source": [
        "!python main-2.py"
      ],
      "metadata": {
        "colab": {
          "base_uri": "https://localhost:8080/"
        },
        "id": "eCZ5POeK5CsA",
        "outputId": "c0a74f00-1921-478c-b10e-7692ca8669df"
      },
      "id": "eCZ5POeK5CsA",
      "execution_count": null,
      "outputs": [
        {
          "output_type": "stream",
          "name": "stdout",
          "text": [
            "[forward] Solving forward dynamics...\n",
            "[forward] Solving forward dynamics...\n",
            "[forward] Solving forward dynamics...\n",
            "[forward] Solving forward dynamics...\n",
            "[forward] Solving forward dynamics...\n",
            "[forward] Solving forward dynamics...\n",
            "[forward] Solving forward dynamics...\n",
            "[forward] Solving forward dynamics...\n",
            "[forward] Solving forward dynamics...\n",
            "[forward] Solving forward dynamics...\n",
            "U shape before save: (32,)\n",
            "Traceback (most recent call last):\n",
            "  File \"/content/main-2.py\", line 72, in <module>\n",
            "    main()\n",
            "  File \"/content/main-2.py\", line 56, in main\n",
            "    U_plot = U.reshape((32, 32))  # fallback reshape\n",
            "             ^^^^^^^^^^^^^^^^^^^\n",
            "ValueError: cannot reshape array of size 32 into shape (32,32)\n"
          ]
        }
      ]
    },
    {
      "cell_type": "code",
      "source": [
        "!python main-2.py"
      ],
      "metadata": {
        "colab": {
          "base_uri": "https://localhost:8080/"
        },
        "id": "rfZRgzAa4hnP",
        "outputId": "47d31b0d-80bc-46fd-9818-c96a9779356d"
      },
      "id": "rfZRgzAa4hnP",
      "execution_count": null,
      "outputs": [
        {
          "output_type": "stream",
          "name": "stdout",
          "text": [
            "[forward] Solving forward dynamics...\n",
            "[forward] Solving forward dynamics...\n",
            "[forward] Solving forward dynamics...\n",
            "[forward] Solving forward dynamics...\n",
            "[forward] Solving forward dynamics...\n",
            "[forward] Solving forward dynamics...\n",
            "[forward] Solving forward dynamics...\n",
            "[forward] Solving forward dynamics...\n",
            "[forward] Solving forward dynamics...\n",
            "[forward] Solving forward dynamics...\n",
            "Traceback (most recent call last):\n",
            "  File \"/content/main-2.py\", line 66, in <module>\n",
            "    main()\n",
            "  File \"/content/main-2.py\", line 55, in main\n",
            "    plt.imshow(np.abs(U), cmap=\"inferno\")\n",
            "  File \"/usr/local/lib/python3.11/dist-packages/matplotlib/pyplot.py\", line 3592, in imshow\n",
            "    __ret = gca().imshow(\n",
            "            ^^^^^^^^^^^^^\n",
            "  File \"/usr/local/lib/python3.11/dist-packages/matplotlib/__init__.py\", line 1521, in inner\n",
            "    return func(\n",
            "           ^^^^^\n",
            "  File \"/usr/local/lib/python3.11/dist-packages/matplotlib/axes/_axes.py\", line 5945, in imshow\n",
            "    im.set_data(X)\n",
            "  File \"/usr/local/lib/python3.11/dist-packages/matplotlib/image.py\", line 675, in set_data\n",
            "    self._A = self._normalize_image_array(A)\n",
            "              ^^^^^^^^^^^^^^^^^^^^^^^^^^^^^^\n",
            "  File \"/usr/local/lib/python3.11/dist-packages/matplotlib/image.py\", line 643, in _normalize_image_array\n",
            "    raise TypeError(f\"Invalid shape {A.shape} for image data\")\n",
            "TypeError: Invalid shape (32,) for image data\n"
          ]
        }
      ]
    },
    {
      "cell_type": "code",
      "source": [
        "!python main-2.py"
      ],
      "metadata": {
        "colab": {
          "base_uri": "https://localhost:8080/"
        },
        "id": "frnumjdZ5yiM",
        "outputId": "44ac423e-1545-4dd7-ec17-ce0dcf66daee"
      },
      "id": "frnumjdZ5yiM",
      "execution_count": null,
      "outputs": [
        {
          "output_type": "stream",
          "name": "stdout",
          "text": [
            "[forward] Solving forward dynamics...\n",
            "[forward] Solving forward dynamics...\n",
            "[forward] Solving forward dynamics...\n",
            "[forward] Solving forward dynamics...\n",
            "[forward] Solving forward dynamics...\n",
            "[forward] Solving forward dynamics...\n",
            "[forward] Solving forward dynamics...\n",
            "[forward] Solving forward dynamics...\n",
            "[forward] Solving forward dynamics...\n",
            "[forward] Solving forward dynamics...\n",
            "U shape before save: (32,)\n",
            "U shape before plot: (32,)\n",
            "Traceback (most recent call last):\n",
            "  File \"/content/main-2.py\", line 76, in <module>\n",
            "    main()\n",
            "  File \"/content/main-2.py\", line 62, in main\n",
            "    raise ValueError(f\"Invalid shape for control input U: {U.shape}\")\n",
            "ValueError: Invalid shape for control input U: (32,)\n"
          ]
        }
      ]
    },
    {
      "cell_type": "code",
      "source": [
        "!python main-2.py"
      ],
      "metadata": {
        "colab": {
          "base_uri": "https://localhost:8080/"
        },
        "id": "StyRQqpD31JJ",
        "outputId": "c448adaa-ae07-41d3-ee99-a69754117244"
      },
      "id": "StyRQqpD31JJ",
      "execution_count": null,
      "outputs": [
        {
          "output_type": "stream",
          "name": "stdout",
          "text": [
            "  File \"/content/main-2.py\", line 71\n",
            "    print(\"[main] Simulation complete. Output saved.\")\n",
            "IndentationError: unexpected indent\n"
          ]
        }
      ]
    },
    {
      "cell_type": "code",
      "source": [
        "!python main-2.py"
      ],
      "metadata": {
        "colab": {
          "base_uri": "https://localhost:8080/"
        },
        "id": "M-Cpn7W76UHb",
        "outputId": "e493a62f-9dd0-4bd3-e563-0205957ef86e"
      },
      "id": "M-Cpn7W76UHb",
      "execution_count": null,
      "outputs": [
        {
          "output_type": "stream",
          "name": "stdout",
          "text": [
            "[forward] Solving forward dynamics...\n",
            "[Error] lambda_ shape = (32,)\n",
            "Traceback (most recent call last):\n",
            "  File \"/content/main-2.py\", line 83, in <module>\n",
            "    main()\n",
            "  File \"/content/main-2.py\", line 38, in main\n",
            "    raise e\n",
            "  File \"/content/main-2.py\", line 35, in main\n",
            "    U = ((1 / (2 * beta)) * lambda_).reshape((32, 32))\n",
            "        ^^^^^^^^^^^^^^^^^^^^^^^^^^^^^^^^^^^^^^^^^^^^^^\n",
            "ValueError: cannot reshape array of size 32 into shape (32,32)\n"
          ]
        }
      ]
    },
    {
      "cell_type": "code",
      "source": [
        "!python main-2.py\n"
      ],
      "metadata": {
        "colab": {
          "base_uri": "https://localhost:8080/"
        },
        "id": "-iTjibkK70hl",
        "outputId": "68439d2e-de65-4da5-844e-2e5c64a0214a"
      },
      "id": "-iTjibkK70hl",
      "execution_count": null,
      "outputs": [
        {
          "output_type": "stream",
          "name": "stdout",
          "text": [
            "[forward] Solving forward dynamics...\n",
            "Traceback (most recent call last):\n",
            "  File \"/content/main-2.py\", line 83, in <module>\n",
            "    main()\n",
            "  File \"/content/main-2.py\", line 31, in main\n",
            "    lambda_ = solve_adjoint(f, A, T, Nt)\n",
            "              ^^^^^^^^^^^^^^^^^^^^^^^^^^\n",
            "  File \"/content/adjoint.py\", line 18, in solve_adjoint\n",
            "    traj.insert(0, lambda_t.copy())\n",
            "    ^^^^^^^^^^^\n",
            "AttributeError: 'numpy.ndarray' object has no attribute 'insert'\n"
          ]
        }
      ]
    },
    {
      "cell_type": "code",
      "source": [
        "!python main-2.py"
      ],
      "metadata": {
        "colab": {
          "base_uri": "https://localhost:8080/"
        },
        "id": "2y_z0un78Vsi",
        "outputId": "81d143a0-f7be-4fa4-d689-b7c81eecedbb"
      },
      "id": "2y_z0un78Vsi",
      "execution_count": 2,
      "outputs": [
        {
          "output_type": "stream",
          "name": "stdout",
          "text": [
            "python3: can't open file '/content/main-2.py': [Errno 2] No such file or directory\n"
          ]
        }
      ]
    },
    {
      "cell_type": "code",
      "source": [],
      "metadata": {
        "id": "0qk5gpKbkmFT"
      },
      "id": "0qk5gpKbkmFT",
      "execution_count": null,
      "outputs": []
    },
    {
      "cell_type": "code",
      "source": [],
      "metadata": {
        "id": "UtNDSD0Hknw2"
      },
      "id": "UtNDSD0Hknw2",
      "execution_count": null,
      "outputs": []
    },
    {
      "cell_type": "code",
      "source": [
        "!python main-2.py"
      ],
      "metadata": {
        "colab": {
          "base_uri": "https://localhost:8080/"
        },
        "id": "7P7BoL-BO3UX",
        "outputId": "45811ae0-2fbf-4123-abe0-555eb24b19bf"
      },
      "id": "7P7BoL-BO3UX",
      "execution_count": null,
      "outputs": [
        {
          "output_type": "stream",
          "name": "stdout",
          "text": [
            "Figure(600x500)\n",
            "Figure(600x500)\n"
          ]
        }
      ]
    },
    {
      "cell_type": "code",
      "source": [
        "!python main-2.py"
      ],
      "metadata": {
        "colab": {
          "base_uri": "https://localhost:8080/"
        },
        "id": "ypSnG61sRRYR",
        "outputId": "7e3a99c6-e249-4478-9e4b-b487a84b4589"
      },
      "id": "ypSnG61sRRYR",
      "execution_count": null,
      "outputs": [
        {
          "output_type": "stream",
          "name": "stdout",
          "text": [
            "Figure(600x500)\n",
            "Figure(600x500)\n",
            "Figure(640x480)\n"
          ]
        }
      ]
    },
    {
      "cell_type": "code",
      "source": [
        "%run plot_control_magnitude.py\n"
      ],
      "metadata": {
        "colab": {
          "base_uri": "https://localhost:8080/",
          "height": 528
        },
        "id": "RbCICA5NTNn2",
        "outputId": "1251c3f1-5b68-4644-e61f-b75962f6709a"
      },
      "id": "RbCICA5NTNn2",
      "execution_count": null,
      "outputs": [
        {
          "output_type": "display_data",
          "data": {
            "text/plain": [
              "<Figure size 600x500 with 2 Axes>"
            ],
            "image/png": "[encoded data removed]"
          },
          "metadata": {}
        },
        {
          "output_type": "display_data",
          "data": {
            "text/plain": [
              "<Figure size 640x480 with 0 Axes>"
            ]
          },
          "metadata": {}
        }
      ]
    },
    {
      "cell_type": "code",
      "source": [
        "python plot_comparison_grid.py\n"
      ],
      "metadata": {
        "colab": {
          "base_uri": "https://localhost:8080/",
          "height": 126
        },
        "id": "256UuDnXWHr5",
        "outputId": "1f55a214-9a7e-4481-829a-9968c08cc558"
      },
      "id": "256UuDnXWHr5",
      "execution_count": null,
      "outputs": [
        {
          "output_type": "error",
          "ename": "SyntaxError",
          "evalue": "invalid syntax (ipython-input-1010477584.py, line 1)",
          "traceback": [
            "\u001b[0;36m  File \u001b[0;32m\"/tmp/ipython-input-1010477584.py\"\u001b[0;36m, line \u001b[0;32m1\u001b[0m\n\u001b[0;31m    python plot_comparison_grid.py\u001b[0m\n\u001b[0m           ^\u001b[0m\n\u001b[0;31mSyntaxError\u001b[0m\u001b[0;31m:\u001b[0m invalid syntax\n"
          ]
        }
      ]
    },
    {
      "cell_type": "code",
      "source": [
        "from google.colab import drive\n",
        "drive.mount('/content/drive')\n",
        "\n",
        "# 保存ディレクトリを作ってファイルを移動\n",
        "!cp plot_comparison_grid.py /content/drive/MyDrive/ColabFiles/\n",
        "!cp *.npy /content/drive/MyDrive/ColabFiles/\n"
      ],
      "metadata": {
        "colab": {
          "base_uri": "https://localhost:8080/"
        },
        "id": "Nj8yeaaPaAYO",
        "outputId": "d2080cf4-b15c-49a6-884a-906a993df6ea"
      },
      "id": "Nj8yeaaPaAYO",
      "execution_count": null,
      "outputs": [
        {
          "output_type": "stream",
          "name": "stdout",
          "text": [
            "Drive already mounted at /content/drive; to attempt to forcibly remount, call drive.mount(\"/content/drive\", force_remount=True).\n",
            "cp: cannot create regular file '/content/drive/MyDrive/ColabFiles/': Not a directory\n",
            "cp: target '/content/drive/MyDrive/ColabFiles/' is not a directory\n"
          ]
        }
      ]
    },
    {
      "cell_type": "code",
      "source": [
        "from google.colab import drive\n",
        "drive.mount('/content/drive')\n"
      ],
      "metadata": {
        "colab": {
          "base_uri": "https://localhost:8080/"
        },
        "id": "elxvH2Y2aiUR",
        "outputId": "180384e2-1bf2-4c0b-8d4a-dcb371b85612"
      },
      "id": "elxvH2Y2aiUR",
      "execution_count": null,
      "outputs": [
        {
          "output_type": "stream",
          "name": "stdout",
          "text": [
            "Drive already mounted at /content/drive; to attempt to forcibly remount, call drive.mount(\"/content/drive\", force_remount=True).\n"
          ]
        }
      ]
    },
    {
      "cell_type": "code",
      "source": [
        "!mkdir -p /content/drive/MyDrive/ColabFiles\n"
      ],
      "metadata": {
        "id": "nZxFDrgPaqRp"
      },
      "id": "nZxFDrgPaqRp",
      "execution_count": null,
      "outputs": []
    },
    {
      "cell_type": "code",
      "source": [
        "!cp plot_comparison_grid.py /content/drive/MyDrive/ColabFiles/\n",
        "!cp *.npy /content/drive/MyDrive/ColabFiles/\n"
      ],
      "metadata": {
        "id": "FObKp60Ga0cI"
      },
      "id": "FObKp60Ga0cI",
      "execution_count": null,
      "outputs": []
    },
    {
      "cell_type": "code",
      "source": [
        "!ls /content/drive/MyDrive/ColabFiles/\n"
      ],
      "metadata": {
        "colab": {
          "base_uri": "https://localhost:8080/"
        },
        "id": "Y5QqCN9DbFCH",
        "outputId": "e28fb2f1-5309-40c5-a01e-c6d4b1211567"
      },
      "id": "Y5QqCN9DbFCH",
      "execution_count": null,
      "outputs": [
        {
          "output_type": "stream",
          "name": "stdout",
          "text": [
            "control_u_final.npy\t f_final.npy\t\t  rank_over_time.npy\n",
            "curvature_final.npy\t field_final.npy\t  rank_series.npy\n",
            "curvature_over_time.npy  plot_comparison_grid.py\n"
          ]
        }
      ]
    },
    {
      "cell_type": "code",
      "source": [
        "!cp fig_comparison_grid.pdf /content/drive/MyDrive/ColabFiles/\n"
      ],
      "metadata": {
        "id": "id_2Bd0tb2o2"
      },
      "id": "id_2Bd0tb2o2",
      "execution_count": null,
      "outputs": []
    },
    {
      "cell_type": "code",
      "source": [
        "from google.colab import files\n",
        "files.download('plot_comparison_grid.py')\n",
        "files.download('control_u_final.npy')\n"
      ],
      "metadata": {
        "colab": {
          "base_uri": "https://localhost:8080/",
          "height": 18
        },
        "id": "kpVwaeLuaGI_",
        "outputId": "e0425459-feb9-456d-8520-d2b027472b97"
      },
      "id": "kpVwaeLuaGI_",
      "execution_count": null,
      "outputs": [
        {
          "output_type": "display_data",
          "data": {
            "text/plain": [
              "<IPython.core.display.Javascript object>"
            ],
            "application/javascript": [
              "\n",
              "    async function download(id, filename, size) {\n",
              "      if (!google.colab.kernel.accessAllowed) {\n",
              "        return;\n",
              "      }\n",
              "      const div = document.createElement('div');\n",
              "      const label = document.createElement('label');\n",
              "      label.textContent = `Downloading \"${filename}\": `;\n",
              "      div.appendChild(label);\n",
              "      const progress = document.createElement('progress');\n",
              "      progress.max = size;\n",
              "      div.appendChild(progress);\n",
              "      document.body.appendChild(div);\n",
              "\n",
              "      const buffers = [];\n",
              "      let downloaded = 0;\n",
              "\n",
              "      const channel = await google.colab.kernel.comms.open(id);\n",
              "      // Send a message to notify the kernel that we're ready.\n",
              "      channel.send({})\n",
              "\n",
              "      for await (const message of channel.messages) {\n",
              "        // Send a message to notify the kernel that we're ready.\n",
              "        channel.send({})\n",
              "        if (message.buffers) {\n",
              "          for (const buffer of message.buffers) {\n",
              "            buffers.push(buffer);\n",
              "            downloaded += buffer.byteLength;\n",
              "            progress.value = downloaded;\n",
              "          }\n",
              "        }\n",
              "      }\n",
              "      const blob = new Blob(buffers, {type: 'application/binary'});\n",
              "      const a = document.createElement('a');\n",
              "      a.href = window.URL.createObjectURL(blob);\n",
              "      a.download = filename;\n",
              "      div.appendChild(a);\n",
              "      a.click();\n",
              "      div.remove();\n",
              "    }\n",
              "  "
            ]
          },
          "metadata": {}
        },
        {
          "output_type": "display_data",
          "data": {
            "text/plain": [
              "<IPython.core.display.Javascript object>"
            ],
            "application/javascript": [
              "download(\"download_2102755d-4d2a-48d1-be25-ea06780e5fce\", \"plot_comparison_grid.py\", 1854)"
            ]
          },
          "metadata": {}
        },
        {
          "output_type": "display_data",
          "data": {
            "text/plain": [
              "<IPython.core.display.Javascript object>"
            ],
            "application/javascript": [
              "\n",
              "    async function download(id, filename, size) {\n",
              "      if (!google.colab.kernel.accessAllowed) {\n",
              "        return;\n",
              "      }\n",
              "      const div = document.createElement('div');\n",
              "      const label = document.createElement('label');\n",
              "      label.textContent = `Downloading \"${filename}\": `;\n",
              "      div.appendChild(label);\n",
              "      const progress = document.createElement('progress');\n",
              "      progress.max = size;\n",
              "      div.appendChild(progress);\n",
              "      document.body.appendChild(div);\n",
              "\n",
              "      const buffers = [];\n",
              "      let downloaded = 0;\n",
              "\n",
              "      const channel = await google.colab.kernel.comms.open(id);\n",
              "      // Send a message to notify the kernel that we're ready.\n",
              "      channel.send({})\n",
              "\n",
              "      for await (const message of channel.messages) {\n",
              "        // Send a message to notify the kernel that we're ready.\n",
              "        channel.send({})\n",
              "        if (message.buffers) {\n",
              "          for (const buffer of message.buffers) {\n",
              "            buffers.push(buffer);\n",
              "            downloaded += buffer.byteLength;\n",
              "            progress.value = downloaded;\n",
              "          }\n",
              "        }\n",
              "      }\n",
              "      const blob = new Blob(buffers, {type: 'application/binary'});\n",
              "      const a = document.createElement('a');\n",
              "      a.href = window.URL.createObjectURL(blob);\n",
              "      a.download = filename;\n",
              "      div.appendChild(a);\n",
              "      a.click();\n",
              "      div.remove();\n",
              "    }\n",
              "  "
            ]
          },
          "metadata": {}
        },
        {
          "output_type": "display_data",
          "data": {
            "text/plain": [
              "<IPython.core.display.Javascript object>"
            ],
            "application/javascript": [
              "download(\"download_bb50d6d9-6ea7-43f0-95a2-b3942bfe6ebb\", \"control_u_final.npy\", 32896)"
            ]
          },
          "metadata": {}
        }
      ]
    },
    {
      "cell_type": "code",
      "source": [
        "!python main-2.py"
      ],
      "metadata": {
        "colab": {
          "base_uri": "https://localhost:8080/"
        },
        "id": "RNr9_kJv8s8u",
        "outputId": "a6391400-22d4-4ae3-8c4c-f0721b0cd65c"
      },
      "id": "RNr9_kJv8s8u",
      "execution_count": null,
      "outputs": [
        {
          "output_type": "stream",
          "name": "stdout",
          "text": [
            "Traceback (most recent call last):\n",
            "  File \"/content/main-2.py\", line 6, in <module>\n",
            "    from visualize import plot_field\n",
            "ImportError: cannot import name 'plot_field' from 'visualize' (/content/visualize.py)\n"
          ]
        }
      ]
    },
    {
      "cell_type": "code",
      "source": [
        "!python plot_comparison_grid.py\n"
      ],
      "metadata": {
        "colab": {
          "base_uri": "https://localhost:8080/"
        },
        "id": "n2iGgIAFWeHh",
        "outputId": "6756e3b1-167b-457b-8bde-8fe534323e2f"
      },
      "id": "n2iGgIAFWeHh",
      "execution_count": null,
      "outputs": [
        {
          "output_type": "stream",
          "name": "stdout",
          "text": [
            "Traceback (most recent call last):\n",
            "  File \"/content/plot_comparison_grid.py\", line 27, in <module>\n",
            "    im1 = axes[0, 1].imshow(rank, cmap='plasma')\n",
            "          ^^^^^^^^^^^^^^^^^^^^^^^^^^^^^^^^^^^^^^\n",
            "  File \"/usr/local/lib/python3.11/dist-packages/matplotlib/__init__.py\", line 1521, in inner\n",
            "    return func(\n",
            "           ^^^^^\n",
            "  File \"/usr/local/lib/python3.11/dist-packages/matplotlib/axes/_axes.py\", line 5945, in imshow\n",
            "    im.set_data(X)\n",
            "  File \"/usr/local/lib/python3.11/dist-packages/matplotlib/image.py\", line 675, in set_data\n",
            "    self._A = self._normalize_image_array(A)\n",
            "              ^^^^^^^^^^^^^^^^^^^^^^^^^^^^^^\n",
            "  File \"/usr/local/lib/python3.11/dist-packages/matplotlib/image.py\", line 643, in _normalize_image_array\n",
            "    raise TypeError(f\"Invalid shape {A.shape} for image data\")\n",
            "TypeError: Invalid shape () for image data\n"
          ]
        }
      ]
    },
    {
      "cell_type": "code",
      "source": [
        "!python plot_comparison_grid.py\n"
      ],
      "metadata": {
        "colab": {
          "base_uri": "https://localhost:8080/"
        },
        "id": "PsAredVaXN1V",
        "outputId": "4c3b3cce-0e6d-4ec8-cdbd-b7b1b77a8f67"
      },
      "id": "PsAredVaXN1V",
      "execution_count": null,
      "outputs": [
        {
          "output_type": "stream",
          "name": "stdout",
          "text": [
            "✅ Saved: fig_comparison_grid.pdf\n"
          ]
        }
      ]
    },
    {
      "cell_type": "code",
      "source": [
        "!python main-2.py"
      ],
      "metadata": {
        "colab": {
          "base_uri": "https://localhost:8080/"
        },
        "id": "GKgKPcxDI_7v",
        "outputId": "ead360ce-8a56-487c-8ea9-14aa19ad5b39"
      },
      "id": "GKgKPcxDI_7v",
      "execution_count": null,
      "outputs": [
        {
          "output_type": "stream",
          "name": "stdout",
          "text": [
            "Traceback (most recent call last):\n",
            "  File \"/content/main-2.py\", line 5, in <module>\n",
            "    from control_u_final import compute_control\n",
            "ModuleNotFoundError: No module named 'control_u_final'\n"
          ]
        }
      ]
    },
    {
      "cell_type": "code",
      "source": [
        "!python main-2.py"
      ],
      "metadata": {
        "colab": {
          "base_uri": "https://localhost:8080/"
        },
        "id": "XO-hja_N9Gxj",
        "outputId": "d94dc0b2-aa1f-4a92-c5db-e05b29639d5f"
      },
      "id": "XO-hja_N9Gxj",
      "execution_count": null,
      "outputs": [
        {
          "output_type": "stream",
          "name": "stdout",
          "text": [
            "Traceback (most recent call last):\n",
            "  File \"/content/main-2.py\", line 6, in <module>\n",
            "    from curvature import compute_curvature\n",
            "ModuleNotFoundError: No module named 'curvature'\n"
          ]
        }
      ]
    },
    {
      "cell_type": "code",
      "source": [
        "!python main-2.py"
      ],
      "metadata": {
        "colab": {
          "base_uri": "https://localhost:8080/"
        },
        "id": "jumxh7MA_1ID",
        "outputId": "156fa5af-f5bd-48ee-923c-a91ae9f98a5a"
      },
      "id": "jumxh7MA_1ID",
      "execution_count": null,
      "outputs": [
        {
          "output_type": "stream",
          "name": "stdout",
          "text": [
            "Traceback (most recent call last):\n",
            "  File \"/content/main-2.py\", line 5, in <module>\n",
            "    from control import compute_control\n",
            "ModuleNotFoundError: No module named 'control'\n"
          ]
        }
      ]
    },
    {
      "cell_type": "code",
      "source": [
        "from google.colab import drive\n",
        "drive.mount('/content/drive')\n",
        "\n",
        "# Drive 上の任意のディレクトリへコピー\n",
        "!cp visualize.py /content/drive/MyDrive/visualize.py\n"
      ],
      "metadata": {
        "colab": {
          "base_uri": "https://localhost:8080/"
        },
        "id": "Wt0EmhVXAMQJ",
        "outputId": "a2c8e4cd-86af-4203-e914-b09d952da131"
      },
      "id": "Wt0EmhVXAMQJ",
      "execution_count": null,
      "outputs": [
        {
          "output_type": "stream",
          "name": "stdout",
          "text": [
            "Drive already mounted at /content/drive; to attempt to forcibly remount, call drive.mount(\"/content/drive\", force_remount=True).\n"
          ]
        }
      ]
    },
    {
      "cell_type": "code",
      "source": [
        "from google.colab import files\n",
        "files.download('visualize.py')\n"
      ],
      "metadata": {
        "colab": {
          "base_uri": "https://localhost:8080/",
          "height": 18
        },
        "id": "zxB2HAmpAjXG",
        "outputId": "610d949e-b347-4773-cd7e-07861ca40369"
      },
      "id": "zxB2HAmpAjXG",
      "execution_count": null,
      "outputs": [
        {
          "output_type": "display_data",
          "data": {
            "text/plain": [
              "<IPython.core.display.Javascript object>"
            ],
            "application/javascript": [
              "\n",
              "    async function download(id, filename, size) {\n",
              "      if (!google.colab.kernel.accessAllowed) {\n",
              "        return;\n",
              "      }\n",
              "      const div = document.createElement('div');\n",
              "      const label = document.createElement('label');\n",
              "      label.textContent = `Downloading \"${filename}\": `;\n",
              "      div.appendChild(label);\n",
              "      const progress = document.createElement('progress');\n",
              "      progress.max = size;\n",
              "      div.appendChild(progress);\n",
              "      document.body.appendChild(div);\n",
              "\n",
              "      const buffers = [];\n",
              "      let downloaded = 0;\n",
              "\n",
              "      const channel = await google.colab.kernel.comms.open(id);\n",
              "      // Send a message to notify the kernel that we're ready.\n",
              "      channel.send({})\n",
              "\n",
              "      for await (const message of channel.messages) {\n",
              "        // Send a message to notify the kernel that we're ready.\n",
              "        channel.send({})\n",
              "        if (message.buffers) {\n",
              "          for (const buffer of message.buffers) {\n",
              "            buffers.push(buffer);\n",
              "            downloaded += buffer.byteLength;\n",
              "            progress.value = downloaded;\n",
              "          }\n",
              "        }\n",
              "      }\n",
              "      const blob = new Blob(buffers, {type: 'application/binary'});\n",
              "      const a = document.createElement('a');\n",
              "      a.href = window.URL.createObjectURL(blob);\n",
              "      a.download = filename;\n",
              "      div.appendChild(a);\n",
              "      a.click();\n",
              "      div.remove();\n",
              "    }\n",
              "  "
            ]
          },
          "metadata": {}
        },
        {
          "output_type": "display_data",
          "data": {
            "text/plain": [
              "<IPython.core.display.Javascript object>"
            ],
            "application/javascript": [
              "download(\"download_ea277ebb-3350-48cf-a0c3-f2b7fe4f0a20\", \"visualize.py\", 584)"
            ]
          },
          "metadata": {}
        }
      ]
    },
    {
      "cell_type": "code",
      "source": [
        "from google.colab import drive\n",
        "drive.mount('/content/drive')\n",
        "\n",
        "# 保存先のパスを変更可能（例：MyDrive/CliffordTools/ に保存）\n",
        "!mkdir -p /content/drive/MyDrive/CliffordTools/\n",
        "!cp visualize.py /content/drive/MyDrive/CliffordTools/visualize.py\n"
      ],
      "metadata": {
        "colab": {
          "base_uri": "https://localhost:8080/"
        },
        "id": "yPoNDyKsAzOt",
        "outputId": "db5d84f5-bec8-440e-d3a3-58b731059d96"
      },
      "id": "yPoNDyKsAzOt",
      "execution_count": null,
      "outputs": [
        {
          "output_type": "stream",
          "name": "stdout",
          "text": [
            "Drive already mounted at /content/drive; to attempt to forcibly remount, call drive.mount(\"/content/drive\", force_remount=True).\n"
          ]
        }
      ]
    },
    {
      "cell_type": "code",
      "source": [
        "import numpy as np\n",
        "from visualize import plot_control_magnitude\n",
        "\n",
        "control_u = np.load('control_u_final.npy')\n",
        "plot_control_magnitude(control_u, save_path='fig_control_magnitude.pdf')\n"
      ],
      "metadata": {
        "colab": {
          "base_uri": "https://localhost:8080/",
          "height": 302
        },
        "id": "WX6oyfLNA5RZ",
        "outputId": "21f44ad6-45d9-45c6-86fa-e944392ee67c"
      },
      "id": "WX6oyfLNA5RZ",
      "execution_count": null,
      "outputs": [
        {
          "output_type": "error",
          "ename": "SyntaxError",
          "evalue": "invalid syntax (visualize.py, line 1)",
          "traceback": [
            "Traceback \u001b[0;36m(most recent call last)\u001b[0m:\n",
            "  File \u001b[1;32m\"/usr/local/lib/python3.11/dist-packages/IPython/core/interactiveshell.py\"\u001b[0m, line \u001b[1;32m3553\u001b[0m, in \u001b[1;35mrun_code\u001b[0m\n    exec(code_obj, self.user_global_ns, self.user_ns)\n",
            "\u001b[0;36m  File \u001b[0;32m\"/tmp/ipython-input-195400048.py\"\u001b[0;36m, line \u001b[0;32m2\u001b[0;36m, in \u001b[0;35m<cell line: 0>\u001b[0;36m\u001b[0m\n\u001b[0;31m    from visualize import plot_control_magnitude\u001b[0m\n",
            "\u001b[0;36m  File \u001b[0;32m\"/content/visualize.py\"\u001b[0;36m, line \u001b[0;32m1\u001b[0m\n\u001b[0;31m    %%writefile visualize.py\u001b[0m\n\u001b[0m    ^\u001b[0m\n\u001b[0;31mSyntaxError\u001b[0m\u001b[0;31m:\u001b[0m invalid syntax\n"
          ]
        }
      ]
    },
    {
      "cell_type": "code",
      "source": [
        "# Step 1: visualize.py を書き出し\n",
        "with open(\"visualize.py\", \"w\") as f:\n",
        "    f.write(\\\"\\\"\\\"{}\\\"\\\"\\\".format(\\\"\\\"\\\"{}\\\"\\\"\\\".format(\n",
        "        '''{}\n",
        "        '''.strip().format(\n",
        "            __doc__.split(\"```python\")[1].split(\"```\")[0]\n",
        "        )\n",
        "    ))\n",
        ")\n",
        "\n",
        "# Step 2: ダウンロード\n",
        "from google.colab import files\n",
        "files.download(\"visualize.py\")\n"
      ],
      "metadata": {
        "colab": {
          "base_uri": "https://localhost:8080/",
          "height": 126
        },
        "id": "W1ccShjgBOtz",
        "outputId": "ee5bae2c-66b5-40f8-8f66-f9fa85635bf7"
      },
      "id": "W1ccShjgBOtz",
      "execution_count": null,
      "outputs": [
        {
          "output_type": "error",
          "ename": "SyntaxError",
          "evalue": "unexpected character after line continuation character (ipython-input-1674646201.py, line 3)",
          "traceback": [
            "\u001b[0;36m  File \u001b[0;32m\"/tmp/ipython-input-1674646201.py\"\u001b[0;36m, line \u001b[0;32m3\u001b[0m\n\u001b[0;31m    f.write(\\\"\\\"\\\"{}\\\"\\\"\\\".format(\\\"\\\"\\\"{}\\\"\\\"\\\".format(\u001b[0m\n\u001b[0m             ^\u001b[0m\n\u001b[0;31mSyntaxError\u001b[0m\u001b[0;31m:\u001b[0m unexpected character after line continuation character\n"
          ]
        }
      ]
    },
    {
      "cell_type": "code",
      "source": [
        "!python visualize.py\n"
      ],
      "metadata": {
        "colab": {
          "base_uri": "https://localhost:8080/"
        },
        "id": "GTxHS5NgBlrV",
        "outputId": "c5360d13-92af-40e4-e7cb-1791c0d39a71"
      },
      "id": "GTxHS5NgBlrV",
      "execution_count": null,
      "outputs": [
        {
          "output_type": "stream",
          "name": "stdout",
          "text": [
            "Traceback (most recent call last):\n",
            "  File \"/content/visualize.py\", line 63, in <module>\n",
            "    visualize_all()\n",
            "  File \"/content/visualize.py\", line 56, in visualize_all\n",
            "    data = np.load(npy_file)\n",
            "           ^^^^^^^^^^^^^^^^^\n",
            "  File \"/usr/local/lib/python3.11/dist-packages/numpy/lib/_npyio_impl.py\", line 490, in load\n",
            "    raise ValueError(\"Cannot load file containing pickled data \"\n",
            "ValueError: Cannot load file containing pickled data when allow_pickle=False\n"
          ]
        }
      ]
    },
    {
      "cell_type": "code",
      "source": [
        "!python visualize.py\n"
      ],
      "metadata": {
        "colab": {
          "base_uri": "https://localhost:8080/"
        },
        "id": "2k-otM9wB-HK",
        "outputId": "145cf629-17c2-48db-eeda-38c235ba575f"
      },
      "id": "2k-otM9wB-HK",
      "execution_count": null,
      "outputs": [
        {
          "output_type": "stream",
          "name": "stdout",
          "text": [
            "Error loading control_u_final.npy: Cannot load file containing pickled data when allow_pickle=False\n",
            "✅ All visualizations saved to: ./figures\n"
          ]
        }
      ]
    },
    {
      "cell_type": "code",
      "source": [
        "!python visualize.py\n"
      ],
      "metadata": {
        "colab": {
          "base_uri": "https://localhost:8080/"
        },
        "id": "KAnQoyNDCUby",
        "outputId": "4efebc1e-9067-432a-c66e-1466950012fa"
      },
      "id": "KAnQoyNDCUby",
      "execution_count": null,
      "outputs": [
        {
          "output_type": "stream",
          "name": "stdout",
          "text": [
            "Traceback (most recent call last):\n",
            "  File \"/content/visualize.py\", line 47, in <module>\n",
            "    save_all_figures()\n",
            "  File \"/content/visualize.py\", line 41, in save_all_figures\n",
            "    plot_control_u_final(save_path=\"figures/fig_control_magnitude.pdf\")\n",
            "  File \"/content/visualize.py\", line 6, in plot_control_u_final\n",
            "    u = np.load(path)\n",
            "        ^^^^^^^^^^^^^\n",
            "  File \"/usr/local/lib/python3.11/dist-packages/numpy/lib/_npyio_impl.py\", line 490, in load\n",
            "    raise ValueError(\"Cannot load file containing pickled data \"\n",
            "ValueError: Cannot load file containing pickled data when allow_pickle=False\n"
          ]
        }
      ]
    },
    {
      "cell_type": "code",
      "source": [
        "!python visualize.py\n"
      ],
      "metadata": {
        "colab": {
          "base_uri": "https://localhost:8080/"
        },
        "id": "Dg0wOxthCpE4",
        "outputId": "001e6111-7590-48ab-ac69-c9264513cb35"
      },
      "id": "Dg0wOxthCpE4",
      "execution_count": null,
      "outputs": [
        {
          "output_type": "stream",
          "name": "stdout",
          "text": [
            "Traceback (most recent call last):\n",
            "  File \"/content/visualize.py\", line 45, in <module>\n",
            "    plot_control_magnitude(\"control_u_final.npy\")\n",
            "  File \"/content/visualize.py\", line 6, in plot_control_magnitude\n",
            "    u = np.load(u_file)\n",
            "        ^^^^^^^^^^^^^^^\n",
            "  File \"/usr/local/lib/python3.11/dist-packages/numpy/lib/_npyio_impl.py\", line 490, in load\n",
            "    raise ValueError(\"Cannot load file containing pickled data \"\n",
            "ValueError: Cannot load file containing pickled data when allow_pickle=False\n"
          ]
        }
      ]
    },
    {
      "cell_type": "code",
      "source": [
        "python visualize.py\n"
      ],
      "metadata": {
        "colab": {
          "base_uri": "https://localhost:8080/",
          "height": 126
        },
        "id": "7j55rAj3Doeq",
        "outputId": "cec47a18-e751-4a0c-f6f2-9dbace5540c0"
      },
      "id": "7j55rAj3Doeq",
      "execution_count": null,
      "outputs": [
        {
          "output_type": "error",
          "ename": "SyntaxError",
          "evalue": "invalid syntax (ipython-input-3953534890.py, line 1)",
          "traceback": [
            "\u001b[0;36m  File \u001b[0;32m\"/tmp/ipython-input-3953534890.py\"\u001b[0;36m, line \u001b[0;32m1\u001b[0m\n\u001b[0;31m    python visualize.py\u001b[0m\n\u001b[0m           ^\u001b[0m\n\u001b[0;31mSyntaxError\u001b[0m\u001b[0;31m:\u001b[0m invalid syntax\n"
          ]
        }
      ]
    },
    {
      "cell_type": "code",
      "source": [
        "import numpy as np\n",
        "import matplotlib.pyplot as plt\n",
        "\n",
        "def plot_control_u_final(path=\"control_u_final.npy\", save_path=\"fig_control_magnitude.pdf\"):\n",
        "    u = np.load(path, allow_pickle=True)\n",
        "    plt.figure(figsize=(6, 5))\n",
        "    plt.imshow(np.abs(u), cmap='viridis')\n",
        "    plt.colorbar(label='Control Input $u(x,T)$')\n",
        "    plt.title(\"Control Input Magnitude\")\n",
        "    plt.tight_layout()\n",
        "    plt.savefig(save_path, dpi=300)\n",
        "    print(f\"Saved control input magnitude figure as: {save_path}\")\n",
        "    plt.show()\n",
        "\n",
        "if __name__ == \"__main__\":\n",
        "    plot_control_u_final()\n"
      ],
      "metadata": {
        "colab": {
          "base_uri": "https://localhost:8080/",
          "height": 546
        },
        "id": "2b9eznFFGzPN",
        "outputId": "7a7ccdd0-c430-4001-a0a5-7bf4ed74176a"
      },
      "id": "2b9eznFFGzPN",
      "execution_count": null,
      "outputs": [
        {
          "output_type": "error",
          "ename": "UnpicklingError",
          "evalue": "Failed to interpret file 'control_u_final.npy' as a pickle",
          "traceback": [
            "\u001b[0;31m---------------------------------------------------------------------------\u001b[0m",
            "\u001b[0;31mUnpicklingError\u001b[0m                           Traceback (most recent call last)",
            "\u001b[0;32m/usr/local/lib/python3.11/dist-packages/numpy/lib/_npyio_impl.py\u001b[0m in \u001b[0;36mload\u001b[0;34m(file, mmap_mode, allow_pickle, fix_imports, encoding, max_header_size)\u001b[0m\n\u001b[1;32m    492\u001b[0m             \u001b[0;32mtry\u001b[0m\u001b[0;34m:\u001b[0m\u001b[0;34m\u001b[0m\u001b[0;34m\u001b[0m\u001b[0m\n\u001b[0;32m--> 493\u001b[0;31m                 \u001b[0;32mreturn\u001b[0m \u001b[0mpickle\u001b[0m\u001b[0;34m.\u001b[0m\u001b[0mload\u001b[0m\u001b[0;34m(\u001b[0m\u001b[0mfid\u001b[0m\u001b[0;34m,\u001b[0m \u001b[0;34m**\u001b[0m\u001b[0mpickle_kwargs\u001b[0m\u001b[0;34m)\u001b[0m\u001b[0;34m\u001b[0m\u001b[0;34m\u001b[0m\u001b[0m\n\u001b[0m\u001b[1;32m    494\u001b[0m             \u001b[0;32mexcept\u001b[0m \u001b[0mException\u001b[0m \u001b[0;32mas\u001b[0m \u001b[0me\u001b[0m\u001b[0;34m:\u001b[0m\u001b[0;34m\u001b[0m\u001b[0;34m\u001b[0m\u001b[0m\n",
            "\u001b[0;31mUnpicklingError\u001b[0m: could not find MARK",
            "\nThe above exception was the direct cause of the following exception:\n",
            "\u001b[0;31mUnpicklingError\u001b[0m                           Traceback (most recent call last)",
            "\u001b[0;32m/tmp/ipython-input-2674550046.py\u001b[0m in \u001b[0;36m<cell line: 0>\u001b[0;34m()\u001b[0m\n\u001b[1;32m     14\u001b[0m \u001b[0;34m\u001b[0m\u001b[0m\n\u001b[1;32m     15\u001b[0m \u001b[0;32mif\u001b[0m \u001b[0m__name__\u001b[0m \u001b[0;34m==\u001b[0m \u001b[0;34m\"__main__\"\u001b[0m\u001b[0;34m:\u001b[0m\u001b[0;34m\u001b[0m\u001b[0;34m\u001b[0m\u001b[0m\n\u001b[0;32m---> 16\u001b[0;31m     \u001b[0mplot_control_u_final\u001b[0m\u001b[0;34m(\u001b[0m\u001b[0;34m)\u001b[0m\u001b[0;34m\u001b[0m\u001b[0;34m\u001b[0m\u001b[0m\n\u001b[0m",
            "\u001b[0;32m/tmp/ipython-input-2674550046.py\u001b[0m in \u001b[0;36mplot_control_u_final\u001b[0;34m(path, save_path)\u001b[0m\n\u001b[1;32m      3\u001b[0m \u001b[0;34m\u001b[0m\u001b[0m\n\u001b[1;32m      4\u001b[0m \u001b[0;32mdef\u001b[0m \u001b[0mplot_control_u_final\u001b[0m\u001b[0;34m(\u001b[0m\u001b[0mpath\u001b[0m\u001b[0;34m=\u001b[0m\u001b[0;34m\"control_u_final.npy\"\u001b[0m\u001b[0;34m,\u001b[0m \u001b[0msave_path\u001b[0m\u001b[0;34m=\u001b[0m\u001b[0;34m\"fig_control_magnitude.pdf\"\u001b[0m\u001b[0;34m)\u001b[0m\u001b[0;34m:\u001b[0m\u001b[0;34m\u001b[0m\u001b[0;34m\u001b[0m\u001b[0m\n\u001b[0;32m----> 5\u001b[0;31m     \u001b[0mu\u001b[0m \u001b[0;34m=\u001b[0m \u001b[0mnp\u001b[0m\u001b[0;34m.\u001b[0m\u001b[0mload\u001b[0m\u001b[0;34m(\u001b[0m\u001b[0mpath\u001b[0m\u001b[0;34m,\u001b[0m \u001b[0mallow_pickle\u001b[0m\u001b[0;34m=\u001b[0m\u001b[0;32mTrue\u001b[0m\u001b[0;34m)\u001b[0m\u001b[0;34m\u001b[0m\u001b[0;34m\u001b[0m\u001b[0m\n\u001b[0m\u001b[1;32m      6\u001b[0m     \u001b[0mplt\u001b[0m\u001b[0;34m.\u001b[0m\u001b[0mfigure\u001b[0m\u001b[0;34m(\u001b[0m\u001b[0mfigsize\u001b[0m\u001b[0;34m=\u001b[0m\u001b[0;34m(\u001b[0m\u001b[0;36m6\u001b[0m\u001b[0;34m,\u001b[0m \u001b[0;36m5\u001b[0m\u001b[0;34m)\u001b[0m\u001b[0;34m)\u001b[0m\u001b[0;34m\u001b[0m\u001b[0;34m\u001b[0m\u001b[0m\n\u001b[1;32m      7\u001b[0m     \u001b[0mplt\u001b[0m\u001b[0;34m.\u001b[0m\u001b[0mimshow\u001b[0m\u001b[0;34m(\u001b[0m\u001b[0mnp\u001b[0m\u001b[0;34m.\u001b[0m\u001b[0mabs\u001b[0m\u001b[0;34m(\u001b[0m\u001b[0mu\u001b[0m\u001b[0;34m)\u001b[0m\u001b[0;34m,\u001b[0m \u001b[0mcmap\u001b[0m\u001b[0;34m=\u001b[0m\u001b[0;34m'viridis'\u001b[0m\u001b[0;34m)\u001b[0m\u001b[0;34m\u001b[0m\u001b[0;34m\u001b[0m\u001b[0m\n",
            "\u001b[0;32m/usr/local/lib/python3.11/dist-packages/numpy/lib/_npyio_impl.py\u001b[0m in \u001b[0;36mload\u001b[0;34m(file, mmap_mode, allow_pickle, fix_imports, encoding, max_header_size)\u001b[0m\n\u001b[1;32m    493\u001b[0m                 \u001b[0;32mreturn\u001b[0m \u001b[0mpickle\u001b[0m\u001b[0;34m.\u001b[0m\u001b[0mload\u001b[0m\u001b[0;34m(\u001b[0m\u001b[0mfid\u001b[0m\u001b[0;34m,\u001b[0m \u001b[0;34m**\u001b[0m\u001b[0mpickle_kwargs\u001b[0m\u001b[0;34m)\u001b[0m\u001b[0;34m\u001b[0m\u001b[0;34m\u001b[0m\u001b[0m\n\u001b[1;32m    494\u001b[0m             \u001b[0;32mexcept\u001b[0m \u001b[0mException\u001b[0m \u001b[0;32mas\u001b[0m \u001b[0me\u001b[0m\u001b[0;34m:\u001b[0m\u001b[0;34m\u001b[0m\u001b[0;34m\u001b[0m\u001b[0m\n\u001b[0;32m--> 495\u001b[0;31m                 raise pickle.UnpicklingError(\n\u001b[0m\u001b[1;32m    496\u001b[0m                     f\"Failed to interpret file {file!r} as a pickle\") from e\n\u001b[1;32m    497\u001b[0m \u001b[0;34m\u001b[0m\u001b[0m\n",
            "\u001b[0;31mUnpicklingError\u001b[0m: Failed to interpret file 'control_u_final.npy' as a pickle"
          ]
        }
      ]
    },
    {
      "cell_type": "code",
      "source": [
        "import numpy as np\n",
        "import matplotlib.pyplot as plt\n",
        "\n",
        "# (1) ファイルの読み込み\n",
        "rank = np.load(\"rank_over_time.npy\")\n",
        "\n",
        "# (2) 図の描画\n",
        "plt.figure(figsize=(6, 4))\n",
        "plt.plot(rank, marker='o', linestyle='-', color='blue')\n",
        "plt.title(\"Modal Rank Evolution Over Time\")\n",
        "plt.xlabel(\"Time Step\")\n",
        "plt.ylabel(\"Rank\")\n",
        "plt.grid(True)\n",
        "plt.tight_layout()\n",
        "\n",
        "# (3) PDFとして保存\n",
        "plt.savefig(\"fig_rank_over_time.pdf\", dpi=300)\n",
        "plt.show()\n"
      ],
      "metadata": {
        "colab": {
          "base_uri": "https://localhost:8080/",
          "height": 408
        },
        "id": "f84UpTPEFSGJ",
        "outputId": "52efac63-4ebf-4daa-ccb6-e7ba1a2b2e2a"
      },
      "id": "f84UpTPEFSGJ",
      "execution_count": null,
      "outputs": [
        {
          "output_type": "display_data",
          "data": {
            "text/plain": [
              "<Figure size 600x400 with 1 Axes>"
            ],
            "image/png": "[encoded data removed]"
          },
          "metadata": {}
        }
      ]
    },
    {
      "cell_type": "markdown",
      "source": [],
      "metadata": {
        "id": "MtTDPyoN-Lcx"
      },
      "id": "MtTDPyoN-Lcx"
    },
    {
      "cell_type": "code",
      "source": [
        "import numpy as np\n",
        "\n",
        "u = np.load(\"control_u_final.npy\")\n",
        "print(\"u.shape =\", u.shape)\n",
        "print(\"u.dtype =\", u.dtype)\n",
        "print(\"u.max =\", np.max(u))\n",
        "print(\"u.min =\", np.min(u))\n"
      ],
      "metadata": {
        "colab": {
          "base_uri": "https://localhost:8080/",
          "height": 434
        },
        "id": "bm35FCIP2qaQ",
        "outputId": "2ed48ed3-486c-4b23-a3cf-94e2c2e05bbb"
      },
      "id": "bm35FCIP2qaQ",
      "execution_count": null,
      "outputs": [
        {
          "output_type": "error",
          "ename": "FileNotFoundError",
          "evalue": "[Errno 2] No such file or directory: 'control_u_final.npy'",
          "traceback": [
            "\u001b[0;31m---------------------------------------------------------------------------\u001b[0m",
            "\u001b[0;31mFileNotFoundError\u001b[0m                         Traceback (most recent call last)",
            "\u001b[0;32m/tmp/ipython-input-339517995.py\u001b[0m in \u001b[0;36m<cell line: 0>\u001b[0;34m()\u001b[0m\n\u001b[1;32m      1\u001b[0m \u001b[0;32mimport\u001b[0m \u001b[0mnumpy\u001b[0m \u001b[0;32mas\u001b[0m \u001b[0mnp\u001b[0m\u001b[0;34m\u001b[0m\u001b[0;34m\u001b[0m\u001b[0m\n\u001b[1;32m      2\u001b[0m \u001b[0;34m\u001b[0m\u001b[0m\n\u001b[0;32m----> 3\u001b[0;31m \u001b[0mu\u001b[0m \u001b[0;34m=\u001b[0m \u001b[0mnp\u001b[0m\u001b[0;34m.\u001b[0m\u001b[0mload\u001b[0m\u001b[0;34m(\u001b[0m\u001b[0;34m\"control_u_final.npy\"\u001b[0m\u001b[0;34m)\u001b[0m\u001b[0;34m\u001b[0m\u001b[0;34m\u001b[0m\u001b[0m\n\u001b[0m\u001b[1;32m      4\u001b[0m \u001b[0mprint\u001b[0m\u001b[0;34m(\u001b[0m\u001b[0;34m\"u.shape =\"\u001b[0m\u001b[0;34m,\u001b[0m \u001b[0mu\u001b[0m\u001b[0;34m.\u001b[0m\u001b[0mshape\u001b[0m\u001b[0;34m)\u001b[0m\u001b[0;34m\u001b[0m\u001b[0;34m\u001b[0m\u001b[0m\n\u001b[1;32m      5\u001b[0m \u001b[0mprint\u001b[0m\u001b[0;34m(\u001b[0m\u001b[0;34m\"u.dtype =\"\u001b[0m\u001b[0;34m,\u001b[0m \u001b[0mu\u001b[0m\u001b[0;34m.\u001b[0m\u001b[0mdtype\u001b[0m\u001b[0;34m)\u001b[0m\u001b[0;34m\u001b[0m\u001b[0;34m\u001b[0m\u001b[0m\n",
            "\u001b[0;32m/usr/local/lib/python3.11/dist-packages/numpy/lib/_npyio_impl.py\u001b[0m in \u001b[0;36mload\u001b[0;34m(file, mmap_mode, allow_pickle, fix_imports, encoding, max_header_size)\u001b[0m\n\u001b[1;32m    453\u001b[0m             \u001b[0mown_fid\u001b[0m \u001b[0;34m=\u001b[0m \u001b[0;32mFalse\u001b[0m\u001b[0;34m\u001b[0m\u001b[0;34m\u001b[0m\u001b[0m\n\u001b[1;32m    454\u001b[0m         \u001b[0;32melse\u001b[0m\u001b[0;34m:\u001b[0m\u001b[0;34m\u001b[0m\u001b[0;34m\u001b[0m\u001b[0m\n\u001b[0;32m--> 455\u001b[0;31m             \u001b[0mfid\u001b[0m \u001b[0;34m=\u001b[0m \u001b[0mstack\u001b[0m\u001b[0;34m.\u001b[0m\u001b[0menter_context\u001b[0m\u001b[0;34m(\u001b[0m\u001b[0mopen\u001b[0m\u001b[0;34m(\u001b[0m\u001b[0mos\u001b[0m\u001b[0;34m.\u001b[0m\u001b[0mfspath\u001b[0m\u001b[0;34m(\u001b[0m\u001b[0mfile\u001b[0m\u001b[0;34m)\u001b[0m\u001b[0;34m,\u001b[0m \u001b[0;34m\"rb\"\u001b[0m\u001b[0;34m)\u001b[0m\u001b[0;34m)\u001b[0m\u001b[0;34m\u001b[0m\u001b[0;34m\u001b[0m\u001b[0m\n\u001b[0m\u001b[1;32m    456\u001b[0m             \u001b[0mown_fid\u001b[0m \u001b[0;34m=\u001b[0m \u001b[0;32mTrue\u001b[0m\u001b[0;34m\u001b[0m\u001b[0;34m\u001b[0m\u001b[0m\n\u001b[1;32m    457\u001b[0m \u001b[0;34m\u001b[0m\u001b[0m\n",
            "\u001b[0;31mFileNotFoundError\u001b[0m: [Errno 2] No such file or directory: 'control_u_final.npy'"
          ]
        }
      ]
    },
    {
      "cell_type": "code",
      "source": [
        "from CliffordDynamics import solve_forward_geometric, solve_backward_geometric\n",
        "from FBSM_optimizer import run_fbsbm\n"
      ],
      "metadata": {
        "id": "YOJAm2JzP33d"
      },
      "id": "YOJAm2JzP33d",
      "execution_count": null,
      "outputs": []
    },
    {
      "cell_type": "code",
      "source": [
        "from CliffordTensor import create_spin_connection_field, compute_clifford_curvature\n",
        "from CliffordDynamics import solve_forward_geometric, solve_backward_geometric, visualize_field_snapshot\n",
        "from CliffordTimeSeriesPlots import compute_rank_over_time, compute_entropy_over_time, compute_curvature_energy_over_time, plot_time_series\n",
        "from FBSM_optimizer import run_fbsm\n"
      ],
      "metadata": {
        "colab": {
          "base_uri": "https://localhost:8080/",
          "height": 476
        },
        "id": "E-e3yd6C8e__",
        "outputId": "22d9f926-2ccf-47f7-aa5d-4d6f7b0e1102"
      },
      "id": "E-e3yd6C8e__",
      "execution_count": null,
      "outputs": [
        {
          "output_type": "error",
          "ename": "ImportError",
          "evalue": "cannot import name 'solve_backward_geometric' from 'CliffordDynamics' (/content/CliffordDynamics.py)",
          "traceback": [
            "\u001b[0;31m---------------------------------------------------------------------------\u001b[0m",
            "\u001b[0;31mImportError\u001b[0m                               Traceback (most recent call last)",
            "\u001b[0;32m/tmp/ipython-input-3397787806.py\u001b[0m in \u001b[0;36m<cell line: 0>\u001b[0;34m()\u001b[0m\n\u001b[1;32m      1\u001b[0m \u001b[0;32mfrom\u001b[0m \u001b[0mCliffordTensor\u001b[0m \u001b[0;32mimport\u001b[0m \u001b[0mcreate_spin_connection_field\u001b[0m\u001b[0;34m,\u001b[0m \u001b[0mcompute_clifford_curvature\u001b[0m\u001b[0;34m\u001b[0m\u001b[0;34m\u001b[0m\u001b[0m\n\u001b[0;32m----> 2\u001b[0;31m \u001b[0;32mfrom\u001b[0m \u001b[0mCliffordDynamics\u001b[0m \u001b[0;32mimport\u001b[0m \u001b[0msolve_forward_geometric\u001b[0m\u001b[0;34m,\u001b[0m \u001b[0msolve_backward_geometric\u001b[0m\u001b[0;34m,\u001b[0m \u001b[0mvisualize_field_snapshot\u001b[0m\u001b[0;34m\u001b[0m\u001b[0;34m\u001b[0m\u001b[0m\n\u001b[0m\u001b[1;32m      3\u001b[0m \u001b[0;32mfrom\u001b[0m \u001b[0mCliffordTimeSeriesPlots\u001b[0m \u001b[0;32mimport\u001b[0m \u001b[0mcompute_rank_over_time\u001b[0m\u001b[0;34m,\u001b[0m \u001b[0mcompute_entropy_over_time\u001b[0m\u001b[0;34m,\u001b[0m \u001b[0mcompute_curvature_energy_over_time\u001b[0m\u001b[0;34m,\u001b[0m \u001b[0mplot_time_series\u001b[0m\u001b[0;34m\u001b[0m\u001b[0;34m\u001b[0m\u001b[0m\n\u001b[1;32m      4\u001b[0m \u001b[0;32mfrom\u001b[0m \u001b[0mFBSM_optimizer\u001b[0m \u001b[0;32mimport\u001b[0m \u001b[0mrun_fbsm\u001b[0m\u001b[0;34m\u001b[0m\u001b[0;34m\u001b[0m\u001b[0m\n",
            "\u001b[0;31mImportError\u001b[0m: cannot import name 'solve_backward_geometric' from 'CliffordDynamics' (/content/CliffordDynamics.py)",
            "",
            "\u001b[0;31m---------------------------------------------------------------------------\u001b[0;32m\nNOTE: If your import is failing due to a missing package, you can\nmanually install dependencies using either !pip or !apt.\n\nTo view examples of installing some common dependencies, click the\n\"Open Examples\" button below.\n\u001b[0;31m---------------------------------------------------------------------------\u001b[0m\n"
          ],
          "errorDetails": {
            "actions": [
              {
                "action": "open_url",
                "actionText": "Open Examples",
                "url": "/notebooks/snippets/importing_libraries.ipynb"
              }
            ]
          }
        }
      ]
    },
    {
      "cell_type": "code",
      "source": [
        "import sys\n",
        "sys.path.append('/content')\n"
      ],
      "metadata": {
        "id": "65N6-xbz9SZm"
      },
      "id": "65N6-xbz9SZm",
      "execution_count": null,
      "outputs": []
    },
    {
      "cell_type": "code",
      "source": [
        "%load_ext autoreload\n",
        "%autoreload 2\n"
      ],
      "metadata": {
        "id": "QRKLC1w-9Vv8"
      },
      "id": "QRKLC1w-9Vv8",
      "execution_count": null,
      "outputs": []
    },
    {
      "cell_type": "code",
      "source": [
        "from CliffordDynamics import solve_backward_geometric\n"
      ],
      "metadata": {
        "colab": {
          "base_uri": "https://localhost:8080/",
          "height": 388
        },
        "id": "QBKt5fWd9eAT",
        "outputId": "5a3ea0d1-e9bf-4335-c6d0-56709cd16d5a"
      },
      "id": "QBKt5fWd9eAT",
      "execution_count": null,
      "outputs": [
        {
          "output_type": "error",
          "ename": "ImportError",
          "evalue": "cannot import name 'solve_backward_geometric' from 'CliffordDynamics' (/content/CliffordDynamics.py)",
          "traceback": [
            "\u001b[0;31m---------------------------------------------------------------------------\u001b[0m",
            "\u001b[0;31mImportError\u001b[0m                               Traceback (most recent call last)",
            "\u001b[0;32m/tmp/ipython-input-2644206273.py\u001b[0m in \u001b[0;36m<cell line: 0>\u001b[0;34m()\u001b[0m\n\u001b[0;32m----> 1\u001b[0;31m \u001b[0;32mfrom\u001b[0m \u001b[0mCliffordDynamics\u001b[0m \u001b[0;32mimport\u001b[0m \u001b[0msolve_backward_geometric\u001b[0m\u001b[0;34m\u001b[0m\u001b[0;34m\u001b[0m\u001b[0m\n\u001b[0m",
            "\u001b[0;31mImportError\u001b[0m: cannot import name 'solve_backward_geometric' from 'CliffordDynamics' (/content/CliffordDynamics.py)",
            "",
            "\u001b[0;31m---------------------------------------------------------------------------\u001b[0;32m\nNOTE: If your import is failing due to a missing package, you can\nmanually install dependencies using either !pip or !apt.\n\nTo view examples of installing some common dependencies, click the\n\"Open Examples\" button below.\n\u001b[0;31m---------------------------------------------------------------------------\u001b[0m\n"
          ],
          "errorDetails": {
            "actions": [
              {
                "action": "open_url",
                "actionText": "Open Examples",
                "url": "/notebooks/snippets/importing_libraries.ipynb"
              }
            ]
          }
        }
      ]
    },
    {
      "cell_type": "code",
      "source": [
        "from CliffordTensor import create_spin_connection_field, compute_clifford_curvature\n",
        "from CliffordDynamics import solve_forward_geometric, solve_backward_geometric, visualize_field_snapshot\n",
        "from CliffordTimeSeriesPlots import compute_rank_over_time, compute_entropy_over_time, compute_curvature_energy_over_time, plot_time_series\n",
        "from FBSM_optimizer import run_fbsm\n"
      ],
      "metadata": {
        "colab": {
          "base_uri": "https://localhost:8080/",
          "height": 476
        },
        "id": "-ej8_jXd6mF6",
        "outputId": "df54d083-2e7b-4b59-c74f-d160cb7b9af7"
      },
      "id": "-ej8_jXd6mF6",
      "execution_count": null,
      "outputs": [
        {
          "output_type": "error",
          "ename": "ImportError",
          "evalue": "cannot import name 'solve_backward_geometric' from 'CliffordDynamics' (/content/CliffordDynamics.py)",
          "traceback": [
            "\u001b[0;31m---------------------------------------------------------------------------\u001b[0m",
            "\u001b[0;31mImportError\u001b[0m                               Traceback (most recent call last)",
            "\u001b[0;32m/tmp/ipython-input-3397787806.py\u001b[0m in \u001b[0;36m<cell line: 0>\u001b[0;34m()\u001b[0m\n\u001b[1;32m      1\u001b[0m \u001b[0;32mfrom\u001b[0m \u001b[0mCliffordTensor\u001b[0m \u001b[0;32mimport\u001b[0m \u001b[0mcreate_spin_connection_field\u001b[0m\u001b[0;34m,\u001b[0m \u001b[0mcompute_clifford_curvature\u001b[0m\u001b[0;34m\u001b[0m\u001b[0;34m\u001b[0m\u001b[0m\n\u001b[0;32m----> 2\u001b[0;31m \u001b[0;32mfrom\u001b[0m \u001b[0mCliffordDynamics\u001b[0m \u001b[0;32mimport\u001b[0m \u001b[0msolve_forward_geometric\u001b[0m\u001b[0;34m,\u001b[0m \u001b[0msolve_backward_geometric\u001b[0m\u001b[0;34m,\u001b[0m \u001b[0mvisualize_field_snapshot\u001b[0m\u001b[0;34m\u001b[0m\u001b[0;34m\u001b[0m\u001b[0m\n\u001b[0m\u001b[1;32m      3\u001b[0m \u001b[0;32mfrom\u001b[0m \u001b[0mCliffordTimeSeriesPlots\u001b[0m \u001b[0;32mimport\u001b[0m \u001b[0mcompute_rank_over_time\u001b[0m\u001b[0;34m,\u001b[0m \u001b[0mcompute_entropy_over_time\u001b[0m\u001b[0;34m,\u001b[0m \u001b[0mcompute_curvature_energy_over_time\u001b[0m\u001b[0;34m,\u001b[0m \u001b[0mplot_time_series\u001b[0m\u001b[0;34m\u001b[0m\u001b[0;34m\u001b[0m\u001b[0m\n\u001b[1;32m      4\u001b[0m \u001b[0;32mfrom\u001b[0m \u001b[0mFBSM_optimizer\u001b[0m \u001b[0;32mimport\u001b[0m \u001b[0mrun_fbsm\u001b[0m\u001b[0;34m\u001b[0m\u001b[0;34m\u001b[0m\u001b[0m\n",
            "\u001b[0;31mImportError\u001b[0m: cannot import name 'solve_backward_geometric' from 'CliffordDynamics' (/content/CliffordDynamics.py)",
            "",
            "\u001b[0;31m---------------------------------------------------------------------------\u001b[0;32m\nNOTE: If your import is failing due to a missing package, you can\nmanually install dependencies using either !pip or !apt.\n\nTo view examples of installing some common dependencies, click the\n\"Open Examples\" button below.\n\u001b[0;31m---------------------------------------------------------------------------\u001b[0m\n"
          ],
          "errorDetails": {
            "actions": [
              {
                "action": "open_url",
                "actionText": "Open Examples",
                "url": "/notebooks/snippets/importing_libraries.ipynb"
              }
            ]
          }
        }
      ]
    },
    {
      "cell_type": "code",
      "source": [
        "from CliffordTensor import create_spin_connection_field, compute_clifford_curvature\n",
        "from CliffordDynamics import solve_forward_geometric, solve_backward_geometric, visualize_field_snapshot\n",
        "from FBSM_optimizer import run_fbsm\n",
        "from CliffordTimeSeriesPlots import compute_rank_over_time, compute_entropy_over_time, compute_curvature_energy_over_time, plot_time_series\n"
      ],
      "metadata": {
        "colab": {
          "base_uri": "https://localhost:8080/",
          "height": 476
        },
        "id": "WwPhVYxN7_zo",
        "outputId": "1fbc1301-a3ca-4007-9aa1-c764e1b4bfb6"
      },
      "id": "WwPhVYxN7_zo",
      "execution_count": null,
      "outputs": [
        {
          "output_type": "error",
          "ename": "ImportError",
          "evalue": "cannot import name 'solve_backward_geometric' from 'CliffordDynamics' (/content/CliffordDynamics.py)",
          "traceback": [
            "\u001b[0;31m---------------------------------------------------------------------------\u001b[0m",
            "\u001b[0;31mImportError\u001b[0m                               Traceback (most recent call last)",
            "\u001b[0;32m/tmp/ipython-input-1511550225.py\u001b[0m in \u001b[0;36m<cell line: 0>\u001b[0;34m()\u001b[0m\n\u001b[1;32m      1\u001b[0m \u001b[0;32mfrom\u001b[0m \u001b[0mCliffordTensor\u001b[0m \u001b[0;32mimport\u001b[0m \u001b[0mcreate_spin_connection_field\u001b[0m\u001b[0;34m,\u001b[0m \u001b[0mcompute_clifford_curvature\u001b[0m\u001b[0;34m\u001b[0m\u001b[0;34m\u001b[0m\u001b[0m\n\u001b[0;32m----> 2\u001b[0;31m \u001b[0;32mfrom\u001b[0m \u001b[0mCliffordDynamics\u001b[0m \u001b[0;32mimport\u001b[0m \u001b[0msolve_forward_geometric\u001b[0m\u001b[0;34m,\u001b[0m \u001b[0msolve_backward_geometric\u001b[0m\u001b[0;34m,\u001b[0m \u001b[0mvisualize_field_snapshot\u001b[0m\u001b[0;34m\u001b[0m\u001b[0;34m\u001b[0m\u001b[0m\n\u001b[0m\u001b[1;32m      3\u001b[0m \u001b[0;32mfrom\u001b[0m \u001b[0mFBSM_optimizer\u001b[0m \u001b[0;32mimport\u001b[0m \u001b[0mrun_fbsm\u001b[0m\u001b[0;34m\u001b[0m\u001b[0;34m\u001b[0m\u001b[0m\n\u001b[1;32m      4\u001b[0m \u001b[0;32mfrom\u001b[0m \u001b[0mCliffordTimeSeriesPlots\u001b[0m \u001b[0;32mimport\u001b[0m \u001b[0mcompute_rank_over_time\u001b[0m\u001b[0;34m,\u001b[0m \u001b[0mcompute_entropy_over_time\u001b[0m\u001b[0;34m,\u001b[0m \u001b[0mcompute_curvature_energy_over_time\u001b[0m\u001b[0;34m,\u001b[0m \u001b[0mplot_time_series\u001b[0m\u001b[0;34m\u001b[0m\u001b[0;34m\u001b[0m\u001b[0m\n",
            "\u001b[0;31mImportError\u001b[0m: cannot import name 'solve_backward_geometric' from 'CliffordDynamics' (/content/CliffordDynamics.py)",
            "",
            "\u001b[0;31m---------------------------------------------------------------------------\u001b[0;32m\nNOTE: If your import is failing due to a missing package, you can\nmanually install dependencies using either !pip or !apt.\n\nTo view examples of installing some common dependencies, click the\n\"Open Examples\" button below.\n\u001b[0;31m---------------------------------------------------------------------------\u001b[0m\n"
          ],
          "errorDetails": {
            "actions": [
              {
                "action": "open_url",
                "actionText": "Open Examples",
                "url": "/notebooks/snippets/importing_libraries.ipynb"
              }
            ]
          }
        }
      ]
    },
    {
      "cell_type": "code",
      "source": [
        "from CliffordTensor import create_spin_connection_field, compute_clifford_curvature\n"
      ],
      "metadata": {
        "id": "uVGxfX-U5bdg"
      },
      "id": "uVGxfX-U5bdg",
      "execution_count": null,
      "outputs": []
    },
    {
      "cell_type": "code",
      "execution_count": null,
      "id": "eb65481f",
      "metadata": {
        "colab": {
          "base_uri": "https://localhost:8080/",
          "height": 498
        },
        "id": "eb65481f",
        "outputId": "0d151c14-2ccf-425d-b42e-5cf666e584e9"
      },
      "outputs": [
        {
          "output_type": "error",
          "ename": "ModuleNotFoundError",
          "evalue": "No module named 'CliffordDynamics'",
          "traceback": [
            "\u001b[0;31m---------------------------------------------------------------------------\u001b[0m",
            "\u001b[0;31mModuleNotFoundError\u001b[0m                       Traceback (most recent call last)",
            "\u001b[0;32m/tmp/ipython-input-867898911.py\u001b[0m in \u001b[0;36m<cell line: 0>\u001b[0;34m()\u001b[0m\n\u001b[1;32m      2\u001b[0m \u001b[0;32mimport\u001b[0m \u001b[0mmatplotlib\u001b[0m\u001b[0;34m.\u001b[0m\u001b[0mpyplot\u001b[0m \u001b[0;32mas\u001b[0m \u001b[0mplt\u001b[0m\u001b[0;34m\u001b[0m\u001b[0;34m\u001b[0m\u001b[0m\n\u001b[1;32m      3\u001b[0m \u001b[0;32mfrom\u001b[0m \u001b[0mCliffordTensor\u001b[0m \u001b[0;32mimport\u001b[0m \u001b[0mcreate_spin_connection_field\u001b[0m\u001b[0;34m,\u001b[0m \u001b[0mcompute_clifford_curvature\u001b[0m\u001b[0;34m\u001b[0m\u001b[0;34m\u001b[0m\u001b[0m\n\u001b[0;32m----> 4\u001b[0;31m \u001b[0;32mfrom\u001b[0m \u001b[0mCliffordDynamics\u001b[0m \u001b[0;32mimport\u001b[0m \u001b[0msolve_forward_geometric\u001b[0m\u001b[0;34m,\u001b[0m \u001b[0msolve_backward_geometric\u001b[0m\u001b[0;34m,\u001b[0m \u001b[0mvisualize_field_snapshot\u001b[0m\u001b[0;34m\u001b[0m\u001b[0;34m\u001b[0m\u001b[0m\n\u001b[0m\u001b[1;32m      5\u001b[0m \u001b[0;32mfrom\u001b[0m \u001b[0mCliffordTimeSeriesPlots\u001b[0m \u001b[0;32mimport\u001b[0m \u001b[0mcompute_rank_over_time\u001b[0m\u001b[0;34m,\u001b[0m \u001b[0mcompute_entropy_over_time\u001b[0m\u001b[0;34m,\u001b[0m \u001b[0mcompute_curvature_energy_over_time\u001b[0m\u001b[0;34m,\u001b[0m \u001b[0mplot_time_series\u001b[0m\u001b[0;34m\u001b[0m\u001b[0;34m\u001b[0m\u001b[0m\n\u001b[1;32m      6\u001b[0m \u001b[0;32mfrom\u001b[0m \u001b[0mFBSM_optimizer\u001b[0m \u001b[0;32mimport\u001b[0m \u001b[0mrun_fbsm\u001b[0m\u001b[0;34m\u001b[0m\u001b[0;34m\u001b[0m\u001b[0m\n",
            "\u001b[0;31mModuleNotFoundError\u001b[0m: No module named 'CliffordDynamics'",
            "",
            "\u001b[0;31m---------------------------------------------------------------------------\u001b[0;32m\nNOTE: If your import is failing due to a missing package, you can\nmanually install dependencies using either !pip or !apt.\n\nTo view examples of installing some common dependencies, click the\n\"Open Examples\" button below.\n\u001b[0;31m---------------------------------------------------------------------------\u001b[0m\n"
          ],
          "errorDetails": {
            "actions": [
              {
                "action": "open_url",
                "actionText": "Open Examples",
                "url": "/notebooks/snippets/importing_libraries.ipynb"
              }
            ]
          }
        }
      ],
      "source": [
        "import numpy as np\n",
        "import matplotlib.pyplot as plt\n",
        "from CliffordTensor import create_spin_connection_field, compute_clifford_curvature\n",
        "from CliffordDynamics import solve_forward_geometric, solve_backward_geometric, visualize_field_snapshot\n",
        "from CliffordTimeSeriesPlots import compute_rank_over_time, compute_entropy_over_time, compute_curvature_energy_over_time, plot_time_series\n",
        "from FBSM_optimizer import run_fbsm\n"
      ]
    },
    {
      "cell_type": "code",
      "execution_count": null,
      "id": "5734eca9",
      "metadata": {
        "id": "5734eca9"
      },
      "outputs": [],
      "source": [
        "# Simulation parameters\n",
        "Nx, Ny, Nt = 32, 32, 10\n",
        "dt = 0.1\n",
        "beta = 1.0\n",
        "max_iter = 20\n",
        "\n",
        "np.random.seed(0)\n",
        "f0 = np.random.rand(Nx, Ny)\n",
        "u0 = np.zeros((Nt, Nx, Ny))\n",
        "A = create_spin_connection_field(Nx, Ny, Nt)\n"
      ]
    },
    {
      "cell_type": "code",
      "execution_count": null,
      "id": "9976a34c",
      "metadata": {
        "id": "9976a34c"
      },
      "outputs": [],
      "source": [
        "f_traj, u_opt, lambda_traj, diff_list = run_fbsm(f0, A, u0, dt, Nt, beta=beta, max_iter=max_iter)\n"
      ]
    },
    {
      "cell_type": "code",
      "execution_count": null,
      "id": "dcfb57c7",
      "metadata": {
        "id": "dcfb57c7"
      },
      "outputs": [],
      "source": [
        "F = compute_clifford_curvature(A)\n"
      ]
    },
    {
      "cell_type": "code",
      "execution_count": null,
      "id": "abc468dd",
      "metadata": {
        "id": "abc468dd"
      },
      "outputs": [],
      "source": [
        "rank_series = compute_rank_over_time(f_traj)\n",
        "entropy_series = compute_entropy_over_time(f_traj)\n",
        "curvature_series = compute_curvature_energy_over_time(F)\n",
        "\n",
        "plot_time_series(rank_series, \"Modal Rank Over Time\", \"Rank\", \"fig_rank_over_time.pdf\")\n",
        "plot_time_series(entropy_series, \"Entropy Over Time\", \"Entropy\", \"fig_entropy_over_time.pdf\")\n",
        "plot_time_series(curvature_series, \"Curvature Energy Over Time\", \"Curvature Energy\", \"fig_curvature_energy_over_time.pdf\")\n"
      ]
    },
    {
      "cell_type": "code",
      "execution_count": null,
      "id": "d7c2a0cc",
      "metadata": {
        "id": "d7c2a0cc"
      },
      "outputs": [],
      "source": [
        "visualize_field_snapshot(f0, \"Initial Field $f(x,0)$\")\n",
        "visualize_field_snapshot(f_traj[-1], \"Final Field $f(x,T)$\")\n"
      ]
    }
  ],
  "metadata": {
    "kernelspec": {
      "display_name": "Python 3",
      "language": "python",
      "name": "python3"
    },
    "colab": {
      "provenance": [],
      "include_colab_link": true
    }
  },
  "nbformat": 4,
  "nbformat_minor": 5
}